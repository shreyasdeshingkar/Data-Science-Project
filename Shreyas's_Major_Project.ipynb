{
  "nbformat": 4,
  "nbformat_minor": 0,
  "metadata": {
    "colab": {
      "provenance": []
    },
    "kernelspec": {
      "name": "python3",
      "display_name": "Python 3"
    },
    "language_info": {
      "name": "python"
    }
  },
  "cells": [
    {
      "cell_type": "code",
      "execution_count": null,
      "metadata": {
        "id": "aE2tk0OwRxNU"
      },
      "outputs": [],
      "source": [
        "import numpy as np\n",
        "import pandas as pd \n",
        "import matplotlib.pyplot as plt\n",
        "import seaborn as sns"
      ]
    },
    {
      "cell_type": "code",
      "source": [
        "import nltk"
      ],
      "metadata": {
        "id": "vigr99nkUGgw"
      },
      "execution_count": null,
      "outputs": []
    },
    {
      "cell_type": "code",
      "source": [
        "nltk.download('stopwords')\n",
        "nltk.download('punkt')\n"
      ],
      "metadata": {
        "id": "pzUjCU0dUPdC",
        "colab": {
          "base_uri": "https://localhost:8080/"
        },
        "outputId": "c83bee58-dfee-4bf1-e65e-d0674f050ac3"
      },
      "execution_count": null,
      "outputs": [
        {
          "output_type": "stream",
          "name": "stderr",
          "text": [
            "[nltk_data] Downloading package stopwords to /root/nltk_data...\n",
            "[nltk_data]   Unzipping corpora/stopwords.zip.\n",
            "[nltk_data] Downloading package punkt to /root/nltk_data...\n",
            "[nltk_data]   Unzipping tokenizers/punkt.zip.\n"
          ]
        },
        {
          "output_type": "execute_result",
          "data": {
            "text/plain": [
              "True"
            ]
          },
          "metadata": {},
          "execution_count": 3
        }
      ]
    },
    {
      "cell_type": "code",
      "source": [
        "df = pd.read_csv('amazon_alexa_data.csv')"
      ],
      "metadata": {
        "id": "B-QBrm3RSVIG"
      },
      "execution_count": null,
      "outputs": []
    },
    {
      "cell_type": "code",
      "source": [
        "df.head(10)"
      ],
      "metadata": {
        "id": "6L5tBwv6S5pE",
        "colab": {
          "base_uri": "https://localhost:8080/",
          "height": 363
        },
        "outputId": "39162a16-1839-4fe5-9b90-b151ecbbc5fc"
      },
      "execution_count": null,
      "outputs": [
        {
          "output_type": "execute_result",
          "data": {
            "text/plain": [
              "   Unnamed: 0  rating       date             variation  \\\n",
              "0           0       5  31-Jul-18      Charcoal Fabric    \n",
              "1           1       5  31-Jul-18      Charcoal Fabric    \n",
              "2           2       4  31-Jul-18        Walnut Finish    \n",
              "3           3       5  31-Jul-18      Charcoal Fabric    \n",
              "4           4       5  31-Jul-18      Charcoal Fabric    \n",
              "5           5       5  31-Jul-18  Heather Gray Fabric    \n",
              "6           6       3  31-Jul-18     Sandstone Fabric    \n",
              "7           7       5  31-Jul-18      Charcoal Fabric    \n",
              "8           8       5  30-Jul-18  Heather Gray Fabric    \n",
              "9           9       5  30-Jul-18  Heather Gray Fabric    \n",
              "\n",
              "                                    verified_reviews  feedback  \n",
              "0                                      Love my Echo!         1  \n",
              "1                                          Loved it!         1  \n",
              "2  Sometimes while playing a game, you can answer...         1  \n",
              "3  I have had a lot of fun with this thing. My 4 ...         1  \n",
              "4                                              Music         1  \n",
              "5  I received the echo as a gift. I needed anothe...         1  \n",
              "6  Without having a cellphone, I cannot use many ...         1  \n",
              "7  I think this is the 5th one I've purchased. I'...         1  \n",
              "8                                        looks great         1  \n",
              "9  Love it! I’ve listened to songs I haven’t hear...         1  "
            ],
            "text/html": [
              "\n",
              "  <div id=\"df-769ef848-c12a-486f-a698-d13dd94905a4\">\n",
              "    <div class=\"colab-df-container\">\n",
              "      <div>\n",
              "<style scoped>\n",
              "    .dataframe tbody tr th:only-of-type {\n",
              "        vertical-align: middle;\n",
              "    }\n",
              "\n",
              "    .dataframe tbody tr th {\n",
              "        vertical-align: top;\n",
              "    }\n",
              "\n",
              "    .dataframe thead th {\n",
              "        text-align: right;\n",
              "    }\n",
              "</style>\n",
              "<table border=\"1\" class=\"dataframe\">\n",
              "  <thead>\n",
              "    <tr style=\"text-align: right;\">\n",
              "      <th></th>\n",
              "      <th>Unnamed: 0</th>\n",
              "      <th>rating</th>\n",
              "      <th>date</th>\n",
              "      <th>variation</th>\n",
              "      <th>verified_reviews</th>\n",
              "      <th>feedback</th>\n",
              "    </tr>\n",
              "  </thead>\n",
              "  <tbody>\n",
              "    <tr>\n",
              "      <th>0</th>\n",
              "      <td>0</td>\n",
              "      <td>5</td>\n",
              "      <td>31-Jul-18</td>\n",
              "      <td>Charcoal Fabric</td>\n",
              "      <td>Love my Echo!</td>\n",
              "      <td>1</td>\n",
              "    </tr>\n",
              "    <tr>\n",
              "      <th>1</th>\n",
              "      <td>1</td>\n",
              "      <td>5</td>\n",
              "      <td>31-Jul-18</td>\n",
              "      <td>Charcoal Fabric</td>\n",
              "      <td>Loved it!</td>\n",
              "      <td>1</td>\n",
              "    </tr>\n",
              "    <tr>\n",
              "      <th>2</th>\n",
              "      <td>2</td>\n",
              "      <td>4</td>\n",
              "      <td>31-Jul-18</td>\n",
              "      <td>Walnut Finish</td>\n",
              "      <td>Sometimes while playing a game, you can answer...</td>\n",
              "      <td>1</td>\n",
              "    </tr>\n",
              "    <tr>\n",
              "      <th>3</th>\n",
              "      <td>3</td>\n",
              "      <td>5</td>\n",
              "      <td>31-Jul-18</td>\n",
              "      <td>Charcoal Fabric</td>\n",
              "      <td>I have had a lot of fun with this thing. My 4 ...</td>\n",
              "      <td>1</td>\n",
              "    </tr>\n",
              "    <tr>\n",
              "      <th>4</th>\n",
              "      <td>4</td>\n",
              "      <td>5</td>\n",
              "      <td>31-Jul-18</td>\n",
              "      <td>Charcoal Fabric</td>\n",
              "      <td>Music</td>\n",
              "      <td>1</td>\n",
              "    </tr>\n",
              "    <tr>\n",
              "      <th>5</th>\n",
              "      <td>5</td>\n",
              "      <td>5</td>\n",
              "      <td>31-Jul-18</td>\n",
              "      <td>Heather Gray Fabric</td>\n",
              "      <td>I received the echo as a gift. I needed anothe...</td>\n",
              "      <td>1</td>\n",
              "    </tr>\n",
              "    <tr>\n",
              "      <th>6</th>\n",
              "      <td>6</td>\n",
              "      <td>3</td>\n",
              "      <td>31-Jul-18</td>\n",
              "      <td>Sandstone Fabric</td>\n",
              "      <td>Without having a cellphone, I cannot use many ...</td>\n",
              "      <td>1</td>\n",
              "    </tr>\n",
              "    <tr>\n",
              "      <th>7</th>\n",
              "      <td>7</td>\n",
              "      <td>5</td>\n",
              "      <td>31-Jul-18</td>\n",
              "      <td>Charcoal Fabric</td>\n",
              "      <td>I think this is the 5th one I've purchased. I'...</td>\n",
              "      <td>1</td>\n",
              "    </tr>\n",
              "    <tr>\n",
              "      <th>8</th>\n",
              "      <td>8</td>\n",
              "      <td>5</td>\n",
              "      <td>30-Jul-18</td>\n",
              "      <td>Heather Gray Fabric</td>\n",
              "      <td>looks great</td>\n",
              "      <td>1</td>\n",
              "    </tr>\n",
              "    <tr>\n",
              "      <th>9</th>\n",
              "      <td>9</td>\n",
              "      <td>5</td>\n",
              "      <td>30-Jul-18</td>\n",
              "      <td>Heather Gray Fabric</td>\n",
              "      <td>Love it! I’ve listened to songs I haven’t hear...</td>\n",
              "      <td>1</td>\n",
              "    </tr>\n",
              "  </tbody>\n",
              "</table>\n",
              "</div>\n",
              "      <button class=\"colab-df-convert\" onclick=\"convertToInteractive('df-769ef848-c12a-486f-a698-d13dd94905a4')\"\n",
              "              title=\"Convert this dataframe to an interactive table.\"\n",
              "              style=\"display:none;\">\n",
              "        \n",
              "  <svg xmlns=\"http://www.w3.org/2000/svg\" height=\"24px\"viewBox=\"0 0 24 24\"\n",
              "       width=\"24px\">\n",
              "    <path d=\"M0 0h24v24H0V0z\" fill=\"none\"/>\n",
              "    <path d=\"M18.56 5.44l.94 2.06.94-2.06 2.06-.94-2.06-.94-.94-2.06-.94 2.06-2.06.94zm-11 1L8.5 8.5l.94-2.06 2.06-.94-2.06-.94L8.5 2.5l-.94 2.06-2.06.94zm10 10l.94 2.06.94-2.06 2.06-.94-2.06-.94-.94-2.06-.94 2.06-2.06.94z\"/><path d=\"M17.41 7.96l-1.37-1.37c-.4-.4-.92-.59-1.43-.59-.52 0-1.04.2-1.43.59L10.3 9.45l-7.72 7.72c-.78.78-.78 2.05 0 2.83L4 21.41c.39.39.9.59 1.41.59.51 0 1.02-.2 1.41-.59l7.78-7.78 2.81-2.81c.8-.78.8-2.07 0-2.86zM5.41 20L4 18.59l7.72-7.72 1.47 1.35L5.41 20z\"/>\n",
              "  </svg>\n",
              "      </button>\n",
              "      \n",
              "  <style>\n",
              "    .colab-df-container {\n",
              "      display:flex;\n",
              "      flex-wrap:wrap;\n",
              "      gap: 12px;\n",
              "    }\n",
              "\n",
              "    .colab-df-convert {\n",
              "      background-color: #E8F0FE;\n",
              "      border: none;\n",
              "      border-radius: 50%;\n",
              "      cursor: pointer;\n",
              "      display: none;\n",
              "      fill: #1967D2;\n",
              "      height: 32px;\n",
              "      padding: 0 0 0 0;\n",
              "      width: 32px;\n",
              "    }\n",
              "\n",
              "    .colab-df-convert:hover {\n",
              "      background-color: #E2EBFA;\n",
              "      box-shadow: 0px 1px 2px rgba(60, 64, 67, 0.3), 0px 1px 3px 1px rgba(60, 64, 67, 0.15);\n",
              "      fill: #174EA6;\n",
              "    }\n",
              "\n",
              "    [theme=dark] .colab-df-convert {\n",
              "      background-color: #3B4455;\n",
              "      fill: #D2E3FC;\n",
              "    }\n",
              "\n",
              "    [theme=dark] .colab-df-convert:hover {\n",
              "      background-color: #434B5C;\n",
              "      box-shadow: 0px 1px 3px 1px rgba(0, 0, 0, 0.15);\n",
              "      filter: drop-shadow(0px 1px 2px rgba(0, 0, 0, 0.3));\n",
              "      fill: #FFFFFF;\n",
              "    }\n",
              "  </style>\n",
              "\n",
              "      <script>\n",
              "        const buttonEl =\n",
              "          document.querySelector('#df-769ef848-c12a-486f-a698-d13dd94905a4 button.colab-df-convert');\n",
              "        buttonEl.style.display =\n",
              "          google.colab.kernel.accessAllowed ? 'block' : 'none';\n",
              "\n",
              "        async function convertToInteractive(key) {\n",
              "          const element = document.querySelector('#df-769ef848-c12a-486f-a698-d13dd94905a4');\n",
              "          const dataTable =\n",
              "            await google.colab.kernel.invokeFunction('convertToInteractive',\n",
              "                                                     [key], {});\n",
              "          if (!dataTable) return;\n",
              "\n",
              "          const docLinkHtml = 'Like what you see? Visit the ' +\n",
              "            '<a target=\"_blank\" href=https://colab.research.google.com/notebooks/data_table.ipynb>data table notebook</a>'\n",
              "            + ' to learn more about interactive tables.';\n",
              "          element.innerHTML = '';\n",
              "          dataTable['output_type'] = 'display_data';\n",
              "          await google.colab.output.renderOutput(dataTable, element);\n",
              "          const docLink = document.createElement('div');\n",
              "          docLink.innerHTML = docLinkHtml;\n",
              "          element.appendChild(docLink);\n",
              "        }\n",
              "      </script>\n",
              "    </div>\n",
              "  </div>\n",
              "  "
            ]
          },
          "metadata": {},
          "execution_count": 5
        }
      ]
    },
    {
      "cell_type": "code",
      "source": [
        "plt.figure(figsize=(15,7))\n",
        "plt.bar(height = df.groupby('rating').count()['date'], x = sorted(df['rating'].unique(), reverse= False))\n",
        "plt.xlabel(\"Ratings\")\n",
        "plt.ylabel(\"Count\")\n",
        "plt.title(\"Count of Ratings\")\n",
        "plt.show()"
      ],
      "metadata": {
        "colab": {
          "base_uri": "https://localhost:8080/",
          "height": 458
        },
        "id": "aeJxEYlijX4p",
        "outputId": "8849d1b3-673e-44e5-a9da-f57f85502c35"
      },
      "execution_count": null,
      "outputs": [
        {
          "output_type": "display_data",
          "data": {
            "text/plain": [
              "<Figure size 1080x504 with 1 Axes>"
            ],
            "image/png": "[encoded data removed]"
          },
          "metadata": {
            "needs_background": "light"
          }
        }
      ]
    },
    {
      "cell_type": "code",
      "source": [
        "fig = plt.figure(figsize=(30,7))\n",
        "sns.countplot(x=\"variation\",data=df)"
      ],
      "metadata": {
        "colab": {
          "base_uri": "https://localhost:8080/",
          "height": 382
        },
        "id": "SRNzNCf5sg1B",
        "outputId": "cf38d5c8-b086-47d4-c51a-cd23c2d2e8c0"
      },
      "execution_count": null,
      "outputs": [
        {
          "output_type": "execute_result",
          "data": {
            "text/plain": [
              "<matplotlib.axes._subplots.AxesSubplot at 0x7f9794567be0>"
            ]
          },
          "metadata": {},
          "execution_count": 7
        },
        {
          "output_type": "display_data",
          "data": {
            "text/plain": [
              "<Figure size 2160x504 with 1 Axes>"
            ],
            "image/png": "[encoded data removed]"
          },
          "metadata": {
            "needs_background": "light"
          }
        }
      ]
    },
    {
      "cell_type": "code",
      "source": [
        "df.drop(['Unnamed: 0'],axis = 1,inplace = True)\n",
        "df"
      ],
      "metadata": {
        "id": "4Hc9EYFd-x_t",
        "colab": {
          "base_uri": "https://localhost:8080/",
          "height": 423
        },
        "outputId": "e2d67760-b583-401b-db5d-944371775634"
      },
      "execution_count": null,
      "outputs": [
        {
          "output_type": "execute_result",
          "data": {
            "text/plain": [
              "      rating       date         variation  \\\n",
              "0          5  31-Jul-18  Charcoal Fabric    \n",
              "1          5  31-Jul-18  Charcoal Fabric    \n",
              "2          4  31-Jul-18    Walnut Finish    \n",
              "3          5  31-Jul-18  Charcoal Fabric    \n",
              "4          5  31-Jul-18  Charcoal Fabric    \n",
              "...      ...        ...               ...   \n",
              "3145       5  30-Jul-18        Black  Dot   \n",
              "3146       5  30-Jul-18        Black  Dot   \n",
              "3147       5  30-Jul-18        Black  Dot   \n",
              "3148       5  30-Jul-18        White  Dot   \n",
              "3149       4  29-Jul-18        Black  Dot   \n",
              "\n",
              "                                       verified_reviews  feedback  \n",
              "0                                         Love my Echo!         1  \n",
              "1                                             Loved it!         1  \n",
              "2     Sometimes while playing a game, you can answer...         1  \n",
              "3     I have had a lot of fun with this thing. My 4 ...         1  \n",
              "4                                                 Music         1  \n",
              "...                                                 ...       ...  \n",
              "3145  Perfect for kids, adults and everyone in betwe...         1  \n",
              "3146  Listening to music, searching locations, check...         1  \n",
              "3147  I do love these things, i have them running my...         1  \n",
              "3148  Only complaint I have is that the sound qualit...         1  \n",
              "3149                                               Good         1  \n",
              "\n",
              "[3150 rows x 5 columns]"
            ],
            "text/html": [
              "\n",
              "  <div id=\"df-36e2330f-f1e9-4388-9fd3-8117992d61af\">\n",
              "    <div class=\"colab-df-container\">\n",
              "      <div>\n",
              "<style scoped>\n",
              "    .dataframe tbody tr th:only-of-type {\n",
              "        vertical-align: middle;\n",
              "    }\n",
              "\n",
              "    .dataframe tbody tr th {\n",
              "        vertical-align: top;\n",
              "    }\n",
              "\n",
              "    .dataframe thead th {\n",
              "        text-align: right;\n",
              "    }\n",
              "</style>\n",
              "<table border=\"1\" class=\"dataframe\">\n",
              "  <thead>\n",
              "    <tr style=\"text-align: right;\">\n",
              "      <th></th>\n",
              "      <th>rating</th>\n",
              "      <th>date</th>\n",
              "      <th>variation</th>\n",
              "      <th>verified_reviews</th>\n",
              "      <th>feedback</th>\n",
              "    </tr>\n",
              "  </thead>\n",
              "  <tbody>\n",
              "    <tr>\n",
              "      <th>0</th>\n",
              "      <td>5</td>\n",
              "      <td>31-Jul-18</td>\n",
              "      <td>Charcoal Fabric</td>\n",
              "      <td>Love my Echo!</td>\n",
              "      <td>1</td>\n",
              "    </tr>\n",
              "    <tr>\n",
              "      <th>1</th>\n",
              "      <td>5</td>\n",
              "      <td>31-Jul-18</td>\n",
              "      <td>Charcoal Fabric</td>\n",
              "      <td>Loved it!</td>\n",
              "      <td>1</td>\n",
              "    </tr>\n",
              "    <tr>\n",
              "      <th>2</th>\n",
              "      <td>4</td>\n",
              "      <td>31-Jul-18</td>\n",
              "      <td>Walnut Finish</td>\n",
              "      <td>Sometimes while playing a game, you can answer...</td>\n",
              "      <td>1</td>\n",
              "    </tr>\n",
              "    <tr>\n",
              "      <th>3</th>\n",
              "      <td>5</td>\n",
              "      <td>31-Jul-18</td>\n",
              "      <td>Charcoal Fabric</td>\n",
              "      <td>I have had a lot of fun with this thing. My 4 ...</td>\n",
              "      <td>1</td>\n",
              "    </tr>\n",
              "    <tr>\n",
              "      <th>4</th>\n",
              "      <td>5</td>\n",
              "      <td>31-Jul-18</td>\n",
              "      <td>Charcoal Fabric</td>\n",
              "      <td>Music</td>\n",
              "      <td>1</td>\n",
              "    </tr>\n",
              "    <tr>\n",
              "      <th>...</th>\n",
              "      <td>...</td>\n",
              "      <td>...</td>\n",
              "      <td>...</td>\n",
              "      <td>...</td>\n",
              "      <td>...</td>\n",
              "    </tr>\n",
              "    <tr>\n",
              "      <th>3145</th>\n",
              "      <td>5</td>\n",
              "      <td>30-Jul-18</td>\n",
              "      <td>Black  Dot</td>\n",
              "      <td>Perfect for kids, adults and everyone in betwe...</td>\n",
              "      <td>1</td>\n",
              "    </tr>\n",
              "    <tr>\n",
              "      <th>3146</th>\n",
              "      <td>5</td>\n",
              "      <td>30-Jul-18</td>\n",
              "      <td>Black  Dot</td>\n",
              "      <td>Listening to music, searching locations, check...</td>\n",
              "      <td>1</td>\n",
              "    </tr>\n",
              "    <tr>\n",
              "      <th>3147</th>\n",
              "      <td>5</td>\n",
              "      <td>30-Jul-18</td>\n",
              "      <td>Black  Dot</td>\n",
              "      <td>I do love these things, i have them running my...</td>\n",
              "      <td>1</td>\n",
              "    </tr>\n",
              "    <tr>\n",
              "      <th>3148</th>\n",
              "      <td>5</td>\n",
              "      <td>30-Jul-18</td>\n",
              "      <td>White  Dot</td>\n",
              "      <td>Only complaint I have is that the sound qualit...</td>\n",
              "      <td>1</td>\n",
              "    </tr>\n",
              "    <tr>\n",
              "      <th>3149</th>\n",
              "      <td>4</td>\n",
              "      <td>29-Jul-18</td>\n",
              "      <td>Black  Dot</td>\n",
              "      <td>Good</td>\n",
              "      <td>1</td>\n",
              "    </tr>\n",
              "  </tbody>\n",
              "</table>\n",
              "<p>3150 rows × 5 columns</p>\n",
              "</div>\n",
              "      <button class=\"colab-df-convert\" onclick=\"convertToInteractive('df-36e2330f-f1e9-4388-9fd3-8117992d61af')\"\n",
              "              title=\"Convert this dataframe to an interactive table.\"\n",
              "              style=\"display:none;\">\n",
              "        \n",
              "  <svg xmlns=\"http://www.w3.org/2000/svg\" height=\"24px\"viewBox=\"0 0 24 24\"\n",
              "       width=\"24px\">\n",
              "    <path d=\"M0 0h24v24H0V0z\" fill=\"none\"/>\n",
              "    <path d=\"M18.56 5.44l.94 2.06.94-2.06 2.06-.94-2.06-.94-.94-2.06-.94 2.06-2.06.94zm-11 1L8.5 8.5l.94-2.06 2.06-.94-2.06-.94L8.5 2.5l-.94 2.06-2.06.94zm10 10l.94 2.06.94-2.06 2.06-.94-2.06-.94-.94-2.06-.94 2.06-2.06.94z\"/><path d=\"M17.41 7.96l-1.37-1.37c-.4-.4-.92-.59-1.43-.59-.52 0-1.04.2-1.43.59L10.3 9.45l-7.72 7.72c-.78.78-.78 2.05 0 2.83L4 21.41c.39.39.9.59 1.41.59.51 0 1.02-.2 1.41-.59l7.78-7.78 2.81-2.81c.8-.78.8-2.07 0-2.86zM5.41 20L4 18.59l7.72-7.72 1.47 1.35L5.41 20z\"/>\n",
              "  </svg>\n",
              "      </button>\n",
              "      \n",
              "  <style>\n",
              "    .colab-df-container {\n",
              "      display:flex;\n",
              "      flex-wrap:wrap;\n",
              "      gap: 12px;\n",
              "    }\n",
              "\n",
              "    .colab-df-convert {\n",
              "      background-color: #E8F0FE;\n",
              "      border: none;\n",
              "      border-radius: 50%;\n",
              "      cursor: pointer;\n",
              "      display: none;\n",
              "      fill: #1967D2;\n",
              "      height: 32px;\n",
              "      padding: 0 0 0 0;\n",
              "      width: 32px;\n",
              "    }\n",
              "\n",
              "    .colab-df-convert:hover {\n",
              "      background-color: #E2EBFA;\n",
              "      box-shadow: 0px 1px 2px rgba(60, 64, 67, 0.3), 0px 1px 3px 1px rgba(60, 64, 67, 0.15);\n",
              "      fill: #174EA6;\n",
              "    }\n",
              "\n",
              "    [theme=dark] .colab-df-convert {\n",
              "      background-color: #3B4455;\n",
              "      fill: #D2E3FC;\n",
              "    }\n",
              "\n",
              "    [theme=dark] .colab-df-convert:hover {\n",
              "      background-color: #434B5C;\n",
              "      box-shadow: 0px 1px 3px 1px rgba(0, 0, 0, 0.15);\n",
              "      filter: drop-shadow(0px 1px 2px rgba(0, 0, 0, 0.3));\n",
              "      fill: #FFFFFF;\n",
              "    }\n",
              "  </style>\n",
              "\n",
              "      <script>\n",
              "        const buttonEl =\n",
              "          document.querySelector('#df-36e2330f-f1e9-4388-9fd3-8117992d61af button.colab-df-convert');\n",
              "        buttonEl.style.display =\n",
              "          google.colab.kernel.accessAllowed ? 'block' : 'none';\n",
              "\n",
              "        async function convertToInteractive(key) {\n",
              "          const element = document.querySelector('#df-36e2330f-f1e9-4388-9fd3-8117992d61af');\n",
              "          const dataTable =\n",
              "            await google.colab.kernel.invokeFunction('convertToInteractive',\n",
              "                                                     [key], {});\n",
              "          if (!dataTable) return;\n",
              "\n",
              "          const docLinkHtml = 'Like what you see? Visit the ' +\n",
              "            '<a target=\"_blank\" href=https://colab.research.google.com/notebooks/data_table.ipynb>data table notebook</a>'\n",
              "            + ' to learn more about interactive tables.';\n",
              "          element.innerHTML = '';\n",
              "          dataTable['output_type'] = 'display_data';\n",
              "          await google.colab.output.renderOutput(dataTable, element);\n",
              "          const docLink = document.createElement('div');\n",
              "          docLink.innerHTML = docLinkHtml;\n",
              "          element.appendChild(docLink);\n",
              "        }\n",
              "      </script>\n",
              "    </div>\n",
              "  </div>\n",
              "  "
            ]
          },
          "metadata": {},
          "execution_count": 8
        }
      ]
    },
    {
      "cell_type": "code",
      "source": [
        "df.shape"
      ],
      "metadata": {
        "id": "rtkDacReTAbQ",
        "colab": {
          "base_uri": "https://localhost:8080/"
        },
        "outputId": "ec6807b4-c514-408f-e27d-b268b7da20b7"
      },
      "execution_count": null,
      "outputs": [
        {
          "output_type": "execute_result",
          "data": {
            "text/plain": [
              "(3150, 5)"
            ]
          },
          "metadata": {},
          "execution_count": 9
        }
      ]
    },
    {
      "cell_type": "code",
      "source": [
        "df"
      ],
      "metadata": {
        "id": "x4yp1Zd389gd",
        "colab": {
          "base_uri": "https://localhost:8080/",
          "height": 423
        },
        "outputId": "0bd85857-18b3-4ac5-c0f2-6c4541f3c61c"
      },
      "execution_count": null,
      "outputs": [
        {
          "output_type": "execute_result",
          "data": {
            "text/plain": [
              "      rating       date         variation  \\\n",
              "0          5  31-Jul-18  Charcoal Fabric    \n",
              "1          5  31-Jul-18  Charcoal Fabric    \n",
              "2          4  31-Jul-18    Walnut Finish    \n",
              "3          5  31-Jul-18  Charcoal Fabric    \n",
              "4          5  31-Jul-18  Charcoal Fabric    \n",
              "...      ...        ...               ...   \n",
              "3145       5  30-Jul-18        Black  Dot   \n",
              "3146       5  30-Jul-18        Black  Dot   \n",
              "3147       5  30-Jul-18        Black  Dot   \n",
              "3148       5  30-Jul-18        White  Dot   \n",
              "3149       4  29-Jul-18        Black  Dot   \n",
              "\n",
              "                                       verified_reviews  feedback  \n",
              "0                                         Love my Echo!         1  \n",
              "1                                             Loved it!         1  \n",
              "2     Sometimes while playing a game, you can answer...         1  \n",
              "3     I have had a lot of fun with this thing. My 4 ...         1  \n",
              "4                                                 Music         1  \n",
              "...                                                 ...       ...  \n",
              "3145  Perfect for kids, adults and everyone in betwe...         1  \n",
              "3146  Listening to music, searching locations, check...         1  \n",
              "3147  I do love these things, i have them running my...         1  \n",
              "3148  Only complaint I have is that the sound qualit...         1  \n",
              "3149                                               Good         1  \n",
              "\n",
              "[3150 rows x 5 columns]"
            ],
            "text/html": [
              "\n",
              "  <div id=\"df-461c4d32-e492-4498-acd8-4dbf27f58dfe\">\n",
              "    <div class=\"colab-df-container\">\n",
              "      <div>\n",
              "<style scoped>\n",
              "    .dataframe tbody tr th:only-of-type {\n",
              "        vertical-align: middle;\n",
              "    }\n",
              "\n",
              "    .dataframe tbody tr th {\n",
              "        vertical-align: top;\n",
              "    }\n",
              "\n",
              "    .dataframe thead th {\n",
              "        text-align: right;\n",
              "    }\n",
              "</style>\n",
              "<table border=\"1\" class=\"dataframe\">\n",
              "  <thead>\n",
              "    <tr style=\"text-align: right;\">\n",
              "      <th></th>\n",
              "      <th>rating</th>\n",
              "      <th>date</th>\n",
              "      <th>variation</th>\n",
              "      <th>verified_reviews</th>\n",
              "      <th>feedback</th>\n",
              "    </tr>\n",
              "  </thead>\n",
              "  <tbody>\n",
              "    <tr>\n",
              "      <th>0</th>\n",
              "      <td>5</td>\n",
              "      <td>31-Jul-18</td>\n",
              "      <td>Charcoal Fabric</td>\n",
              "      <td>Love my Echo!</td>\n",
              "      <td>1</td>\n",
              "    </tr>\n",
              "    <tr>\n",
              "      <th>1</th>\n",
              "      <td>5</td>\n",
              "      <td>31-Jul-18</td>\n",
              "      <td>Charcoal Fabric</td>\n",
              "      <td>Loved it!</td>\n",
              "      <td>1</td>\n",
              "    </tr>\n",
              "    <tr>\n",
              "      <th>2</th>\n",
              "      <td>4</td>\n",
              "      <td>31-Jul-18</td>\n",
              "      <td>Walnut Finish</td>\n",
              "      <td>Sometimes while playing a game, you can answer...</td>\n",
              "      <td>1</td>\n",
              "    </tr>\n",
              "    <tr>\n",
              "      <th>3</th>\n",
              "      <td>5</td>\n",
              "      <td>31-Jul-18</td>\n",
              "      <td>Charcoal Fabric</td>\n",
              "      <td>I have had a lot of fun with this thing. My 4 ...</td>\n",
              "      <td>1</td>\n",
              "    </tr>\n",
              "    <tr>\n",
              "      <th>4</th>\n",
              "      <td>5</td>\n",
              "      <td>31-Jul-18</td>\n",
              "      <td>Charcoal Fabric</td>\n",
              "      <td>Music</td>\n",
              "      <td>1</td>\n",
              "    </tr>\n",
              "    <tr>\n",
              "      <th>...</th>\n",
              "      <td>...</td>\n",
              "      <td>...</td>\n",
              "      <td>...</td>\n",
              "      <td>...</td>\n",
              "      <td>...</td>\n",
              "    </tr>\n",
              "    <tr>\n",
              "      <th>3145</th>\n",
              "      <td>5</td>\n",
              "      <td>30-Jul-18</td>\n",
              "      <td>Black  Dot</td>\n",
              "      <td>Perfect for kids, adults and everyone in betwe...</td>\n",
              "      <td>1</td>\n",
              "    </tr>\n",
              "    <tr>\n",
              "      <th>3146</th>\n",
              "      <td>5</td>\n",
              "      <td>30-Jul-18</td>\n",
              "      <td>Black  Dot</td>\n",
              "      <td>Listening to music, searching locations, check...</td>\n",
              "      <td>1</td>\n",
              "    </tr>\n",
              "    <tr>\n",
              "      <th>3147</th>\n",
              "      <td>5</td>\n",
              "      <td>30-Jul-18</td>\n",
              "      <td>Black  Dot</td>\n",
              "      <td>I do love these things, i have them running my...</td>\n",
              "      <td>1</td>\n",
              "    </tr>\n",
              "    <tr>\n",
              "      <th>3148</th>\n",
              "      <td>5</td>\n",
              "      <td>30-Jul-18</td>\n",
              "      <td>White  Dot</td>\n",
              "      <td>Only complaint I have is that the sound qualit...</td>\n",
              "      <td>1</td>\n",
              "    </tr>\n",
              "    <tr>\n",
              "      <th>3149</th>\n",
              "      <td>4</td>\n",
              "      <td>29-Jul-18</td>\n",
              "      <td>Black  Dot</td>\n",
              "      <td>Good</td>\n",
              "      <td>1</td>\n",
              "    </tr>\n",
              "  </tbody>\n",
              "</table>\n",
              "<p>3150 rows × 5 columns</p>\n",
              "</div>\n",
              "      <button class=\"colab-df-convert\" onclick=\"convertToInteractive('df-461c4d32-e492-4498-acd8-4dbf27f58dfe')\"\n",
              "              title=\"Convert this dataframe to an interactive table.\"\n",
              "              style=\"display:none;\">\n",
              "        \n",
              "  <svg xmlns=\"http://www.w3.org/2000/svg\" height=\"24px\"viewBox=\"0 0 24 24\"\n",
              "       width=\"24px\">\n",
              "    <path d=\"M0 0h24v24H0V0z\" fill=\"none\"/>\n",
              "    <path d=\"M18.56 5.44l.94 2.06.94-2.06 2.06-.94-2.06-.94-.94-2.06-.94 2.06-2.06.94zm-11 1L8.5 8.5l.94-2.06 2.06-.94-2.06-.94L8.5 2.5l-.94 2.06-2.06.94zm10 10l.94 2.06.94-2.06 2.06-.94-2.06-.94-.94-2.06-.94 2.06-2.06.94z\"/><path d=\"M17.41 7.96l-1.37-1.37c-.4-.4-.92-.59-1.43-.59-.52 0-1.04.2-1.43.59L10.3 9.45l-7.72 7.72c-.78.78-.78 2.05 0 2.83L4 21.41c.39.39.9.59 1.41.59.51 0 1.02-.2 1.41-.59l7.78-7.78 2.81-2.81c.8-.78.8-2.07 0-2.86zM5.41 20L4 18.59l7.72-7.72 1.47 1.35L5.41 20z\"/>\n",
              "  </svg>\n",
              "      </button>\n",
              "      \n",
              "  <style>\n",
              "    .colab-df-container {\n",
              "      display:flex;\n",
              "      flex-wrap:wrap;\n",
              "      gap: 12px;\n",
              "    }\n",
              "\n",
              "    .colab-df-convert {\n",
              "      background-color: #E8F0FE;\n",
              "      border: none;\n",
              "      border-radius: 50%;\n",
              "      cursor: pointer;\n",
              "      display: none;\n",
              "      fill: #1967D2;\n",
              "      height: 32px;\n",
              "      padding: 0 0 0 0;\n",
              "      width: 32px;\n",
              "    }\n",
              "\n",
              "    .colab-df-convert:hover {\n",
              "      background-color: #E2EBFA;\n",
              "      box-shadow: 0px 1px 2px rgba(60, 64, 67, 0.3), 0px 1px 3px 1px rgba(60, 64, 67, 0.15);\n",
              "      fill: #174EA6;\n",
              "    }\n",
              "\n",
              "    [theme=dark] .colab-df-convert {\n",
              "      background-color: #3B4455;\n",
              "      fill: #D2E3FC;\n",
              "    }\n",
              "\n",
              "    [theme=dark] .colab-df-convert:hover {\n",
              "      background-color: #434B5C;\n",
              "      box-shadow: 0px 1px 3px 1px rgba(0, 0, 0, 0.15);\n",
              "      filter: drop-shadow(0px 1px 2px rgba(0, 0, 0, 0.3));\n",
              "      fill: #FFFFFF;\n",
              "    }\n",
              "  </style>\n",
              "\n",
              "      <script>\n",
              "        const buttonEl =\n",
              "          document.querySelector('#df-461c4d32-e492-4498-acd8-4dbf27f58dfe button.colab-df-convert');\n",
              "        buttonEl.style.display =\n",
              "          google.colab.kernel.accessAllowed ? 'block' : 'none';\n",
              "\n",
              "        async function convertToInteractive(key) {\n",
              "          const element = document.querySelector('#df-461c4d32-e492-4498-acd8-4dbf27f58dfe');\n",
              "          const dataTable =\n",
              "            await google.colab.kernel.invokeFunction('convertToInteractive',\n",
              "                                                     [key], {});\n",
              "          if (!dataTable) return;\n",
              "\n",
              "          const docLinkHtml = 'Like what you see? Visit the ' +\n",
              "            '<a target=\"_blank\" href=https://colab.research.google.com/notebooks/data_table.ipynb>data table notebook</a>'\n",
              "            + ' to learn more about interactive tables.';\n",
              "          element.innerHTML = '';\n",
              "          dataTable['output_type'] = 'display_data';\n",
              "          await google.colab.output.renderOutput(dataTable, element);\n",
              "          const docLink = document.createElement('div');\n",
              "          docLink.innerHTML = docLinkHtml;\n",
              "          element.appendChild(docLink);\n",
              "        }\n",
              "      </script>\n",
              "    </div>\n",
              "  </div>\n",
              "  "
            ]
          },
          "metadata": {},
          "execution_count": 10
        }
      ]
    },
    {
      "cell_type": "code",
      "source": [
        "df.columns"
      ],
      "metadata": {
        "id": "7r8mmfQV55Bh",
        "colab": {
          "base_uri": "https://localhost:8080/"
        },
        "outputId": "47153c6f-efaa-4f5e-fea2-9f5e741223ae"
      },
      "execution_count": null,
      "outputs": [
        {
          "output_type": "execute_result",
          "data": {
            "text/plain": [
              "Index(['rating', 'date', 'variation', 'verified_reviews', 'feedback'], dtype='object')"
            ]
          },
          "metadata": {},
          "execution_count": 11
        }
      ]
    },
    {
      "cell_type": "code",
      "source": [
        "df.isnull().sum()"
      ],
      "metadata": {
        "id": "UCnOX-pZTEXk",
        "colab": {
          "base_uri": "https://localhost:8080/"
        },
        "outputId": "74346e5b-f901-4ada-a75e-ba562ce74a9d"
      },
      "execution_count": null,
      "outputs": [
        {
          "output_type": "execute_result",
          "data": {
            "text/plain": [
              "rating              0\n",
              "date                0\n",
              "variation           0\n",
              "verified_reviews    0\n",
              "feedback            0\n",
              "dtype: int64"
            ]
          },
          "metadata": {},
          "execution_count": 12
        }
      ]
    },
    {
      "cell_type": "code",
      "source": [
        "df.dtypes"
      ],
      "metadata": {
        "id": "PDbXIqv8TKwx",
        "colab": {
          "base_uri": "https://localhost:8080/"
        },
        "outputId": "ebc6d25a-1e9b-46cc-9ffc-5666396acae4"
      },
      "execution_count": null,
      "outputs": [
        {
          "output_type": "execute_result",
          "data": {
            "text/plain": [
              "rating               int64\n",
              "date                object\n",
              "variation           object\n",
              "verified_reviews    object\n",
              "feedback             int64\n",
              "dtype: object"
            ]
          },
          "metadata": {},
          "execution_count": 13
        }
      ]
    },
    {
      "cell_type": "code",
      "source": [
        "df.info()"
      ],
      "metadata": {
        "id": "TcMMq6W8ia1Z",
        "colab": {
          "base_uri": "https://localhost:8080/"
        },
        "outputId": "9ee83e1d-6263-47a7-dbef-36bf65fee499"
      },
      "execution_count": null,
      "outputs": [
        {
          "output_type": "stream",
          "name": "stdout",
          "text": [
            "<class 'pandas.core.frame.DataFrame'>\n",
            "RangeIndex: 3150 entries, 0 to 3149\n",
            "Data columns (total 5 columns):\n",
            " #   Column            Non-Null Count  Dtype \n",
            "---  ------            --------------  ----- \n",
            " 0   rating            3150 non-null   int64 \n",
            " 1   date              3150 non-null   object\n",
            " 2   variation         3150 non-null   object\n",
            " 3   verified_reviews  3150 non-null   object\n",
            " 4   feedback          3150 non-null   int64 \n",
            "dtypes: int64(2), object(3)\n",
            "memory usage: 123.2+ KB\n"
          ]
        }
      ]
    },
    {
      "cell_type": "code",
      "source": [
        "df.describe()"
      ],
      "metadata": {
        "id": "ZUxeC6ikil6D",
        "colab": {
          "base_uri": "https://localhost:8080/",
          "height": 300
        },
        "outputId": "3383652b-1132-46e3-c2c1-289ffd8e9588"
      },
      "execution_count": null,
      "outputs": [
        {
          "output_type": "execute_result",
          "data": {
            "text/plain": [
              "            rating     feedback\n",
              "count  3150.000000  3150.000000\n",
              "mean      4.463175     0.918413\n",
              "std       1.068506     0.273778\n",
              "min       1.000000     0.000000\n",
              "25%       4.000000     1.000000\n",
              "50%       5.000000     1.000000\n",
              "75%       5.000000     1.000000\n",
              "max       5.000000     1.000000"
            ],
            "text/html": [
              "\n",
              "  <div id=\"df-e69a8465-3d6d-4a79-9bf3-d25bc4ee8953\">\n",
              "    <div class=\"colab-df-container\">\n",
              "      <div>\n",
              "<style scoped>\n",
              "    .dataframe tbody tr th:only-of-type {\n",
              "        vertical-align: middle;\n",
              "    }\n",
              "\n",
              "    .dataframe tbody tr th {\n",
              "        vertical-align: top;\n",
              "    }\n",
              "\n",
              "    .dataframe thead th {\n",
              "        text-align: right;\n",
              "    }\n",
              "</style>\n",
              "<table border=\"1\" class=\"dataframe\">\n",
              "  <thead>\n",
              "    <tr style=\"text-align: right;\">\n",
              "      <th></th>\n",
              "      <th>rating</th>\n",
              "      <th>feedback</th>\n",
              "    </tr>\n",
              "  </thead>\n",
              "  <tbody>\n",
              "    <tr>\n",
              "      <th>count</th>\n",
              "      <td>3150.000000</td>\n",
              "      <td>3150.000000</td>\n",
              "    </tr>\n",
              "    <tr>\n",
              "      <th>mean</th>\n",
              "      <td>4.463175</td>\n",
              "      <td>0.918413</td>\n",
              "    </tr>\n",
              "    <tr>\n",
              "      <th>std</th>\n",
              "      <td>1.068506</td>\n",
              "      <td>0.273778</td>\n",
              "    </tr>\n",
              "    <tr>\n",
              "      <th>min</th>\n",
              "      <td>1.000000</td>\n",
              "      <td>0.000000</td>\n",
              "    </tr>\n",
              "    <tr>\n",
              "      <th>25%</th>\n",
              "      <td>4.000000</td>\n",
              "      <td>1.000000</td>\n",
              "    </tr>\n",
              "    <tr>\n",
              "      <th>50%</th>\n",
              "      <td>5.000000</td>\n",
              "      <td>1.000000</td>\n",
              "    </tr>\n",
              "    <tr>\n",
              "      <th>75%</th>\n",
              "      <td>5.000000</td>\n",
              "      <td>1.000000</td>\n",
              "    </tr>\n",
              "    <tr>\n",
              "      <th>max</th>\n",
              "      <td>5.000000</td>\n",
              "      <td>1.000000</td>\n",
              "    </tr>\n",
              "  </tbody>\n",
              "</table>\n",
              "</div>\n",
              "      <button class=\"colab-df-convert\" onclick=\"convertToInteractive('df-e69a8465-3d6d-4a79-9bf3-d25bc4ee8953')\"\n",
              "              title=\"Convert this dataframe to an interactive table.\"\n",
              "              style=\"display:none;\">\n",
              "        \n",
              "  <svg xmlns=\"http://www.w3.org/2000/svg\" height=\"24px\"viewBox=\"0 0 24 24\"\n",
              "       width=\"24px\">\n",
              "    <path d=\"M0 0h24v24H0V0z\" fill=\"none\"/>\n",
              "    <path d=\"M18.56 5.44l.94 2.06.94-2.06 2.06-.94-2.06-.94-.94-2.06-.94 2.06-2.06.94zm-11 1L8.5 8.5l.94-2.06 2.06-.94-2.06-.94L8.5 2.5l-.94 2.06-2.06.94zm10 10l.94 2.06.94-2.06 2.06-.94-2.06-.94-.94-2.06-.94 2.06-2.06.94z\"/><path d=\"M17.41 7.96l-1.37-1.37c-.4-.4-.92-.59-1.43-.59-.52 0-1.04.2-1.43.59L10.3 9.45l-7.72 7.72c-.78.78-.78 2.05 0 2.83L4 21.41c.39.39.9.59 1.41.59.51 0 1.02-.2 1.41-.59l7.78-7.78 2.81-2.81c.8-.78.8-2.07 0-2.86zM5.41 20L4 18.59l7.72-7.72 1.47 1.35L5.41 20z\"/>\n",
              "  </svg>\n",
              "      </button>\n",
              "      \n",
              "  <style>\n",
              "    .colab-df-container {\n",
              "      display:flex;\n",
              "      flex-wrap:wrap;\n",
              "      gap: 12px;\n",
              "    }\n",
              "\n",
              "    .colab-df-convert {\n",
              "      background-color: #E8F0FE;\n",
              "      border: none;\n",
              "      border-radius: 50%;\n",
              "      cursor: pointer;\n",
              "      display: none;\n",
              "      fill: #1967D2;\n",
              "      height: 32px;\n",
              "      padding: 0 0 0 0;\n",
              "      width: 32px;\n",
              "    }\n",
              "\n",
              "    .colab-df-convert:hover {\n",
              "      background-color: #E2EBFA;\n",
              "      box-shadow: 0px 1px 2px rgba(60, 64, 67, 0.3), 0px 1px 3px 1px rgba(60, 64, 67, 0.15);\n",
              "      fill: #174EA6;\n",
              "    }\n",
              "\n",
              "    [theme=dark] .colab-df-convert {\n",
              "      background-color: #3B4455;\n",
              "      fill: #D2E3FC;\n",
              "    }\n",
              "\n",
              "    [theme=dark] .colab-df-convert:hover {\n",
              "      background-color: #434B5C;\n",
              "      box-shadow: 0px 1px 3px 1px rgba(0, 0, 0, 0.15);\n",
              "      filter: drop-shadow(0px 1px 2px rgba(0, 0, 0, 0.3));\n",
              "      fill: #FFFFFF;\n",
              "    }\n",
              "  </style>\n",
              "\n",
              "      <script>\n",
              "        const buttonEl =\n",
              "          document.querySelector('#df-e69a8465-3d6d-4a79-9bf3-d25bc4ee8953 button.colab-df-convert');\n",
              "        buttonEl.style.display =\n",
              "          google.colab.kernel.accessAllowed ? 'block' : 'none';\n",
              "\n",
              "        async function convertToInteractive(key) {\n",
              "          const element = document.querySelector('#df-e69a8465-3d6d-4a79-9bf3-d25bc4ee8953');\n",
              "          const dataTable =\n",
              "            await google.colab.kernel.invokeFunction('convertToInteractive',\n",
              "                                                     [key], {});\n",
              "          if (!dataTable) return;\n",
              "\n",
              "          const docLinkHtml = 'Like what you see? Visit the ' +\n",
              "            '<a target=\"_blank\" href=https://colab.research.google.com/notebooks/data_table.ipynb>data table notebook</a>'\n",
              "            + ' to learn more about interactive tables.';\n",
              "          element.innerHTML = '';\n",
              "          dataTable['output_type'] = 'display_data';\n",
              "          await google.colab.output.renderOutput(dataTable, element);\n",
              "          const docLink = document.createElement('div');\n",
              "          docLink.innerHTML = docLinkHtml;\n",
              "          element.appendChild(docLink);\n",
              "        }\n",
              "      </script>\n",
              "    </div>\n",
              "  </div>\n",
              "  "
            ]
          },
          "metadata": {},
          "execution_count": 15
        }
      ]
    },
    {
      "cell_type": "code",
      "source": [
        "df['rating'].value_counts()"
      ],
      "metadata": {
        "id": "V06jUBiW_6Se",
        "colab": {
          "base_uri": "https://localhost:8080/"
        },
        "outputId": "d4a11f0e-3b3e-45c6-9fc7-d0ad3fb95563"
      },
      "execution_count": null,
      "outputs": [
        {
          "output_type": "execute_result",
          "data": {
            "text/plain": [
              "5    2286\n",
              "4     455\n",
              "1     161\n",
              "3     152\n",
              "2      96\n",
              "Name: rating, dtype: int64"
            ]
          },
          "metadata": {},
          "execution_count": 16
        }
      ]
    },
    {
      "cell_type": "code",
      "source": [
        "2286/3150        "
      ],
      "metadata": {
        "id": "XwHq4ZEgKCO3",
        "colab": {
          "base_uri": "https://localhost:8080/"
        },
        "outputId": "97cdfce8-a642-4e0a-9de3-7794abfc71b5"
      },
      "execution_count": null,
      "outputs": [
        {
          "output_type": "execute_result",
          "data": {
            "text/plain": [
              "0.7257142857142858"
            ]
          },
          "metadata": {},
          "execution_count": 17
        }
      ]
    },
    {
      "cell_type": "code",
      "source": [
        "df['variation'].value_counts()"
      ],
      "metadata": {
        "id": "TO9UNthDKOPe",
        "colab": {
          "base_uri": "https://localhost:8080/"
        },
        "outputId": "3fc22dff-ff33-4a34-80ab-034acec4b454"
      },
      "execution_count": null,
      "outputs": [
        {
          "output_type": "execute_result",
          "data": {
            "text/plain": [
              "Black  Dot                      516\n",
              "Charcoal Fabric                 430\n",
              "Configuration: Fire TV Stick    350\n",
              "Black  Plus                     270\n",
              "Black  Show                     265\n",
              "Black                           261\n",
              "Black  Spot                     241\n",
              "White  Dot                      184\n",
              "Heather Gray Fabric             157\n",
              "White  Spot                     109\n",
              "White                            91\n",
              "Sandstone Fabric                 90\n",
              "White  Show                      85\n",
              "White  Plus                      78\n",
              "Oak Finish                       14\n",
              "Walnut Finish                     9\n",
              "Name: variation, dtype: int64"
            ]
          },
          "metadata": {},
          "execution_count": 18
        }
      ]
    },
    {
      "cell_type": "code",
      "source": [
        "df['feedback'].value_counts()"
      ],
      "metadata": {
        "id": "DApDPL6vKlbL",
        "colab": {
          "base_uri": "https://localhost:8080/"
        },
        "outputId": "c5f0c70b-f333-4304-a4d8-5d22190256c8"
      },
      "execution_count": null,
      "outputs": [
        {
          "output_type": "execute_result",
          "data": {
            "text/plain": [
              "1    2893\n",
              "0     257\n",
              "Name: feedback, dtype: int64"
            ]
          },
          "metadata": {},
          "execution_count": 19
        }
      ]
    },
    {
      "cell_type": "code",
      "source": [
        "sns.countplot(x='feedback',data=df)\n",
        "plt.show()"
      ],
      "metadata": {
        "colab": {
          "base_uri": "https://localhost:8080/",
          "height": 281
        },
        "id": "KxE3lrhjtdlU",
        "outputId": "bcd743d1-55bb-4557-c568-30577c8c71bb"
      },
      "execution_count": null,
      "outputs": [
        {
          "output_type": "display_data",
          "data": {
            "text/plain": [
              "<Figure size 432x288 with 1 Axes>"
            ],
            "image/png": "[encoded data removed]"
          },
          "metadata": {
            "needs_background": "light"
          }
        }
      ]
    },
    {
      "cell_type": "code",
      "source": [
        "pos_reviews = df[df.feedback==1]\n",
        "print(len(pos_reviews))\n",
        "pos_reviews.head()\n"
      ],
      "metadata": {
        "colab": {
          "base_uri": "https://localhost:8080/",
          "height": 223
        },
        "id": "OyzZpTpTut7X",
        "outputId": "9897fc78-d58f-488d-b4c6-d169758554d4"
      },
      "execution_count": null,
      "outputs": [
        {
          "output_type": "stream",
          "name": "stdout",
          "text": [
            "2893\n"
          ]
        },
        {
          "output_type": "execute_result",
          "data": {
            "text/plain": [
              "   rating       date         variation  \\\n",
              "0       5  31-Jul-18  Charcoal Fabric    \n",
              "1       5  31-Jul-18  Charcoal Fabric    \n",
              "2       4  31-Jul-18    Walnut Finish    \n",
              "3       5  31-Jul-18  Charcoal Fabric    \n",
              "4       5  31-Jul-18  Charcoal Fabric    \n",
              "\n",
              "                                    verified_reviews  feedback  \n",
              "0                                      Love my Echo!         1  \n",
              "1                                          Loved it!         1  \n",
              "2  Sometimes while playing a game, you can answer...         1  \n",
              "3  I have had a lot of fun with this thing. My 4 ...         1  \n",
              "4                                              Music         1  "
            ],
            "text/html": [
              "\n",
              "  <div id=\"df-cc68c996-8ed8-41c7-bd5b-231d936cb9e8\">\n",
              "    <div class=\"colab-df-container\">\n",
              "      <div>\n",
              "<style scoped>\n",
              "    .dataframe tbody tr th:only-of-type {\n",
              "        vertical-align: middle;\n",
              "    }\n",
              "\n",
              "    .dataframe tbody tr th {\n",
              "        vertical-align: top;\n",
              "    }\n",
              "\n",
              "    .dataframe thead th {\n",
              "        text-align: right;\n",
              "    }\n",
              "</style>\n",
              "<table border=\"1\" class=\"dataframe\">\n",
              "  <thead>\n",
              "    <tr style=\"text-align: right;\">\n",
              "      <th></th>\n",
              "      <th>rating</th>\n",
              "      <th>date</th>\n",
              "      <th>variation</th>\n",
              "      <th>verified_reviews</th>\n",
              "      <th>feedback</th>\n",
              "    </tr>\n",
              "  </thead>\n",
              "  <tbody>\n",
              "    <tr>\n",
              "      <th>0</th>\n",
              "      <td>5</td>\n",
              "      <td>31-Jul-18</td>\n",
              "      <td>Charcoal Fabric</td>\n",
              "      <td>Love my Echo!</td>\n",
              "      <td>1</td>\n",
              "    </tr>\n",
              "    <tr>\n",
              "      <th>1</th>\n",
              "      <td>5</td>\n",
              "      <td>31-Jul-18</td>\n",
              "      <td>Charcoal Fabric</td>\n",
              "      <td>Loved it!</td>\n",
              "      <td>1</td>\n",
              "    </tr>\n",
              "    <tr>\n",
              "      <th>2</th>\n",
              "      <td>4</td>\n",
              "      <td>31-Jul-18</td>\n",
              "      <td>Walnut Finish</td>\n",
              "      <td>Sometimes while playing a game, you can answer...</td>\n",
              "      <td>1</td>\n",
              "    </tr>\n",
              "    <tr>\n",
              "      <th>3</th>\n",
              "      <td>5</td>\n",
              "      <td>31-Jul-18</td>\n",
              "      <td>Charcoal Fabric</td>\n",
              "      <td>I have had a lot of fun with this thing. My 4 ...</td>\n",
              "      <td>1</td>\n",
              "    </tr>\n",
              "    <tr>\n",
              "      <th>4</th>\n",
              "      <td>5</td>\n",
              "      <td>31-Jul-18</td>\n",
              "      <td>Charcoal Fabric</td>\n",
              "      <td>Music</td>\n",
              "      <td>1</td>\n",
              "    </tr>\n",
              "  </tbody>\n",
              "</table>\n",
              "</div>\n",
              "      <button class=\"colab-df-convert\" onclick=\"convertToInteractive('df-cc68c996-8ed8-41c7-bd5b-231d936cb9e8')\"\n",
              "              title=\"Convert this dataframe to an interactive table.\"\n",
              "              style=\"display:none;\">\n",
              "        \n",
              "  <svg xmlns=\"http://www.w3.org/2000/svg\" height=\"24px\"viewBox=\"0 0 24 24\"\n",
              "       width=\"24px\">\n",
              "    <path d=\"M0 0h24v24H0V0z\" fill=\"none\"/>\n",
              "    <path d=\"M18.56 5.44l.94 2.06.94-2.06 2.06-.94-2.06-.94-.94-2.06-.94 2.06-2.06.94zm-11 1L8.5 8.5l.94-2.06 2.06-.94-2.06-.94L8.5 2.5l-.94 2.06-2.06.94zm10 10l.94 2.06.94-2.06 2.06-.94-2.06-.94-.94-2.06-.94 2.06-2.06.94z\"/><path d=\"M17.41 7.96l-1.37-1.37c-.4-.4-.92-.59-1.43-.59-.52 0-1.04.2-1.43.59L10.3 9.45l-7.72 7.72c-.78.78-.78 2.05 0 2.83L4 21.41c.39.39.9.59 1.41.59.51 0 1.02-.2 1.41-.59l7.78-7.78 2.81-2.81c.8-.78.8-2.07 0-2.86zM5.41 20L4 18.59l7.72-7.72 1.47 1.35L5.41 20z\"/>\n",
              "  </svg>\n",
              "      </button>\n",
              "      \n",
              "  <style>\n",
              "    .colab-df-container {\n",
              "      display:flex;\n",
              "      flex-wrap:wrap;\n",
              "      gap: 12px;\n",
              "    }\n",
              "\n",
              "    .colab-df-convert {\n",
              "      background-color: #E8F0FE;\n",
              "      border: none;\n",
              "      border-radius: 50%;\n",
              "      cursor: pointer;\n",
              "      display: none;\n",
              "      fill: #1967D2;\n",
              "      height: 32px;\n",
              "      padding: 0 0 0 0;\n",
              "      width: 32px;\n",
              "    }\n",
              "\n",
              "    .colab-df-convert:hover {\n",
              "      background-color: #E2EBFA;\n",
              "      box-shadow: 0px 1px 2px rgba(60, 64, 67, 0.3), 0px 1px 3px 1px rgba(60, 64, 67, 0.15);\n",
              "      fill: #174EA6;\n",
              "    }\n",
              "\n",
              "    [theme=dark] .colab-df-convert {\n",
              "      background-color: #3B4455;\n",
              "      fill: #D2E3FC;\n",
              "    }\n",
              "\n",
              "    [theme=dark] .colab-df-convert:hover {\n",
              "      background-color: #434B5C;\n",
              "      box-shadow: 0px 1px 3px 1px rgba(0, 0, 0, 0.15);\n",
              "      filter: drop-shadow(0px 1px 2px rgba(0, 0, 0, 0.3));\n",
              "      fill: #FFFFFF;\n",
              "    }\n",
              "  </style>\n",
              "\n",
              "      <script>\n",
              "        const buttonEl =\n",
              "          document.querySelector('#df-cc68c996-8ed8-41c7-bd5b-231d936cb9e8 button.colab-df-convert');\n",
              "        buttonEl.style.display =\n",
              "          google.colab.kernel.accessAllowed ? 'block' : 'none';\n",
              "\n",
              "        async function convertToInteractive(key) {\n",
              "          const element = document.querySelector('#df-cc68c996-8ed8-41c7-bd5b-231d936cb9e8');\n",
              "          const dataTable =\n",
              "            await google.colab.kernel.invokeFunction('convertToInteractive',\n",
              "                                                     [key], {});\n",
              "          if (!dataTable) return;\n",
              "\n",
              "          const docLinkHtml = 'Like what you see? Visit the ' +\n",
              "            '<a target=\"_blank\" href=https://colab.research.google.com/notebooks/data_table.ipynb>data table notebook</a>'\n",
              "            + ' to learn more about interactive tables.';\n",
              "          element.innerHTML = '';\n",
              "          dataTable['output_type'] = 'display_data';\n",
              "          await google.colab.output.renderOutput(dataTable, element);\n",
              "          const docLink = document.createElement('div');\n",
              "          docLink.innerHTML = docLinkHtml;\n",
              "          element.appendChild(docLink);\n",
              "        }\n",
              "      </script>\n",
              "    </div>\n",
              "  </div>\n",
              "  "
            ]
          },
          "metadata": {},
          "execution_count": 21
        }
      ]
    },
    {
      "cell_type": "code",
      "source": [
        "2893/3150                #positive feedbacks"
      ],
      "metadata": {
        "id": "dVuL0WBVKxks",
        "colab": {
          "base_uri": "https://localhost:8080/"
        },
        "outputId": "003c3995-6520-48e0-b01b-32c5c376bf2a"
      },
      "execution_count": null,
      "outputs": [
        {
          "output_type": "execute_result",
          "data": {
            "text/plain": [
              "0.9184126984126985"
            ]
          },
          "metadata": {},
          "execution_count": 22
        }
      ]
    },
    {
      "cell_type": "code",
      "source": [
        "df['date'].value_counts()"
      ],
      "metadata": {
        "id": "jNZlbHqOK7SZ",
        "colab": {
          "base_uri": "https://localhost:8080/"
        },
        "outputId": "a189d163-0250-4038-e111-7456665fa1eb"
      },
      "execution_count": null,
      "outputs": [
        {
          "output_type": "execute_result",
          "data": {
            "text/plain": [
              "30-Jul-18    1603\n",
              "29-Jul-18     482\n",
              "28-Jul-18     250\n",
              "26-Jul-18      85\n",
              "31-Jul-18      81\n",
              "             ... \n",
              "2-Jun-18        2\n",
              "9-Jun-18        1\n",
              "29-May-18       1\n",
              "4-Jun-18        1\n",
              "13-Jun-18       1\n",
              "Name: date, Length: 77, dtype: int64"
            ]
          },
          "metadata": {},
          "execution_count": 23
        }
      ]
    },
    {
      "cell_type": "code",
      "source": [
        "df['length']=df['verified_reviews'].apply(len)\n",
        "df.head()"
      ],
      "metadata": {
        "id": "lvG5JEbgLHg_",
        "colab": {
          "base_uri": "https://localhost:8080/",
          "height": 206
        },
        "outputId": "f5527263-5295-4fa9-8935-54f091bb3861"
      },
      "execution_count": null,
      "outputs": [
        {
          "output_type": "execute_result",
          "data": {
            "text/plain": [
              "   rating       date         variation  \\\n",
              "0       5  31-Jul-18  Charcoal Fabric    \n",
              "1       5  31-Jul-18  Charcoal Fabric    \n",
              "2       4  31-Jul-18    Walnut Finish    \n",
              "3       5  31-Jul-18  Charcoal Fabric    \n",
              "4       5  31-Jul-18  Charcoal Fabric    \n",
              "\n",
              "                                    verified_reviews  feedback  length  \n",
              "0                                      Love my Echo!         1      13  \n",
              "1                                          Loved it!         1       9  \n",
              "2  Sometimes while playing a game, you can answer...         1     195  \n",
              "3  I have had a lot of fun with this thing. My 4 ...         1     172  \n",
              "4                                              Music         1       5  "
            ],
            "text/html": [
              "\n",
              "  <div id=\"df-a883ece8-6a98-46ef-adc5-a00491bf5ba1\">\n",
              "    <div class=\"colab-df-container\">\n",
              "      <div>\n",
              "<style scoped>\n",
              "    .dataframe tbody tr th:only-of-type {\n",
              "        vertical-align: middle;\n",
              "    }\n",
              "\n",
              "    .dataframe tbody tr th {\n",
              "        vertical-align: top;\n",
              "    }\n",
              "\n",
              "    .dataframe thead th {\n",
              "        text-align: right;\n",
              "    }\n",
              "</style>\n",
              "<table border=\"1\" class=\"dataframe\">\n",
              "  <thead>\n",
              "    <tr style=\"text-align: right;\">\n",
              "      <th></th>\n",
              "      <th>rating</th>\n",
              "      <th>date</th>\n",
              "      <th>variation</th>\n",
              "      <th>verified_reviews</th>\n",
              "      <th>feedback</th>\n",
              "      <th>length</th>\n",
              "    </tr>\n",
              "  </thead>\n",
              "  <tbody>\n",
              "    <tr>\n",
              "      <th>0</th>\n",
              "      <td>5</td>\n",
              "      <td>31-Jul-18</td>\n",
              "      <td>Charcoal Fabric</td>\n",
              "      <td>Love my Echo!</td>\n",
              "      <td>1</td>\n",
              "      <td>13</td>\n",
              "    </tr>\n",
              "    <tr>\n",
              "      <th>1</th>\n",
              "      <td>5</td>\n",
              "      <td>31-Jul-18</td>\n",
              "      <td>Charcoal Fabric</td>\n",
              "      <td>Loved it!</td>\n",
              "      <td>1</td>\n",
              "      <td>9</td>\n",
              "    </tr>\n",
              "    <tr>\n",
              "      <th>2</th>\n",
              "      <td>4</td>\n",
              "      <td>31-Jul-18</td>\n",
              "      <td>Walnut Finish</td>\n",
              "      <td>Sometimes while playing a game, you can answer...</td>\n",
              "      <td>1</td>\n",
              "      <td>195</td>\n",
              "    </tr>\n",
              "    <tr>\n",
              "      <th>3</th>\n",
              "      <td>5</td>\n",
              "      <td>31-Jul-18</td>\n",
              "      <td>Charcoal Fabric</td>\n",
              "      <td>I have had a lot of fun with this thing. My 4 ...</td>\n",
              "      <td>1</td>\n",
              "      <td>172</td>\n",
              "    </tr>\n",
              "    <tr>\n",
              "      <th>4</th>\n",
              "      <td>5</td>\n",
              "      <td>31-Jul-18</td>\n",
              "      <td>Charcoal Fabric</td>\n",
              "      <td>Music</td>\n",
              "      <td>1</td>\n",
              "      <td>5</td>\n",
              "    </tr>\n",
              "  </tbody>\n",
              "</table>\n",
              "</div>\n",
              "      <button class=\"colab-df-convert\" onclick=\"convertToInteractive('df-a883ece8-6a98-46ef-adc5-a00491bf5ba1')\"\n",
              "              title=\"Convert this dataframe to an interactive table.\"\n",
              "              style=\"display:none;\">\n",
              "        \n",
              "  <svg xmlns=\"http://www.w3.org/2000/svg\" height=\"24px\"viewBox=\"0 0 24 24\"\n",
              "       width=\"24px\">\n",
              "    <path d=\"M0 0h24v24H0V0z\" fill=\"none\"/>\n",
              "    <path d=\"M18.56 5.44l.94 2.06.94-2.06 2.06-.94-2.06-.94-.94-2.06-.94 2.06-2.06.94zm-11 1L8.5 8.5l.94-2.06 2.06-.94-2.06-.94L8.5 2.5l-.94 2.06-2.06.94zm10 10l.94 2.06.94-2.06 2.06-.94-2.06-.94-.94-2.06-.94 2.06-2.06.94z\"/><path d=\"M17.41 7.96l-1.37-1.37c-.4-.4-.92-.59-1.43-.59-.52 0-1.04.2-1.43.59L10.3 9.45l-7.72 7.72c-.78.78-.78 2.05 0 2.83L4 21.41c.39.39.9.59 1.41.59.51 0 1.02-.2 1.41-.59l7.78-7.78 2.81-2.81c.8-.78.8-2.07 0-2.86zM5.41 20L4 18.59l7.72-7.72 1.47 1.35L5.41 20z\"/>\n",
              "  </svg>\n",
              "      </button>\n",
              "      \n",
              "  <style>\n",
              "    .colab-df-container {\n",
              "      display:flex;\n",
              "      flex-wrap:wrap;\n",
              "      gap: 12px;\n",
              "    }\n",
              "\n",
              "    .colab-df-convert {\n",
              "      background-color: #E8F0FE;\n",
              "      border: none;\n",
              "      border-radius: 50%;\n",
              "      cursor: pointer;\n",
              "      display: none;\n",
              "      fill: #1967D2;\n",
              "      height: 32px;\n",
              "      padding: 0 0 0 0;\n",
              "      width: 32px;\n",
              "    }\n",
              "\n",
              "    .colab-df-convert:hover {\n",
              "      background-color: #E2EBFA;\n",
              "      box-shadow: 0px 1px 2px rgba(60, 64, 67, 0.3), 0px 1px 3px 1px rgba(60, 64, 67, 0.15);\n",
              "      fill: #174EA6;\n",
              "    }\n",
              "\n",
              "    [theme=dark] .colab-df-convert {\n",
              "      background-color: #3B4455;\n",
              "      fill: #D2E3FC;\n",
              "    }\n",
              "\n",
              "    [theme=dark] .colab-df-convert:hover {\n",
              "      background-color: #434B5C;\n",
              "      box-shadow: 0px 1px 3px 1px rgba(0, 0, 0, 0.15);\n",
              "      filter: drop-shadow(0px 1px 2px rgba(0, 0, 0, 0.3));\n",
              "      fill: #FFFFFF;\n",
              "    }\n",
              "  </style>\n",
              "\n",
              "      <script>\n",
              "        const buttonEl =\n",
              "          document.querySelector('#df-a883ece8-6a98-46ef-adc5-a00491bf5ba1 button.colab-df-convert');\n",
              "        buttonEl.style.display =\n",
              "          google.colab.kernel.accessAllowed ? 'block' : 'none';\n",
              "\n",
              "        async function convertToInteractive(key) {\n",
              "          const element = document.querySelector('#df-a883ece8-6a98-46ef-adc5-a00491bf5ba1');\n",
              "          const dataTable =\n",
              "            await google.colab.kernel.invokeFunction('convertToInteractive',\n",
              "                                                     [key], {});\n",
              "          if (!dataTable) return;\n",
              "\n",
              "          const docLinkHtml = 'Like what you see? Visit the ' +\n",
              "            '<a target=\"_blank\" href=https://colab.research.google.com/notebooks/data_table.ipynb>data table notebook</a>'\n",
              "            + ' to learn more about interactive tables.';\n",
              "          element.innerHTML = '';\n",
              "          dataTable['output_type'] = 'display_data';\n",
              "          await google.colab.output.renderOutput(dataTable, element);\n",
              "          const docLink = document.createElement('div');\n",
              "          docLink.innerHTML = docLinkHtml;\n",
              "          element.appendChild(docLink);\n",
              "        }\n",
              "      </script>\n",
              "    </div>\n",
              "  </div>\n",
              "  "
            ]
          },
          "metadata": {},
          "execution_count": 24
        }
      ]
    },
    {
      "cell_type": "code",
      "source": [
        "df.length.max()"
      ],
      "metadata": {
        "id": "H_INNjppLlOr",
        "colab": {
          "base_uri": "https://localhost:8080/"
        },
        "outputId": "1c8c89e5-90f3-4a9b-9614-3afaaa6067b0"
      },
      "execution_count": null,
      "outputs": [
        {
          "output_type": "execute_result",
          "data": {
            "text/plain": [
              "2851"
            ]
          },
          "metadata": {},
          "execution_count": 25
        }
      ]
    },
    {
      "cell_type": "code",
      "source": [
        "reviews = df['verified_reviews']\n",
        "reviews"
      ],
      "metadata": {
        "id": "ICt0thO80yjp",
        "colab": {
          "base_uri": "https://localhost:8080/"
        },
        "outputId": "6adad1f1-d756-44cb-ca1d-f31a5b9516fa"
      },
      "execution_count": null,
      "outputs": [
        {
          "output_type": "execute_result",
          "data": {
            "text/plain": [
              "0                                           Love my Echo!\n",
              "1                                               Loved it!\n",
              "2       Sometimes while playing a game, you can answer...\n",
              "3       I have had a lot of fun with this thing. My 4 ...\n",
              "4                                                   Music\n",
              "                              ...                        \n",
              "3145    Perfect for kids, adults and everyone in betwe...\n",
              "3146    Listening to music, searching locations, check...\n",
              "3147    I do love these things, i have them running my...\n",
              "3148    Only complaint I have is that the sound qualit...\n",
              "3149                                                 Good\n",
              "Name: verified_reviews, Length: 3150, dtype: object"
            ]
          },
          "metadata": {},
          "execution_count": 26
        }
      ]
    },
    {
      "cell_type": "code",
      "source": [
        "import nltk\n",
        "from nltk.corpus import stopwords\n",
        "from nltk.stem import WordNetLemmatizer\n",
        "import re\n",
        "nltk.download('wordnet')\n",
        "nltk.download('omw-1.4')\n",
        "\n",
        "from nltk import word_tokenize,sent_tokenize  #word_tokenize = convert paragraph or sentences into individual words)"
      ],
      "metadata": {
        "id": "rgu2PgJHXD22",
        "colab": {
          "base_uri": "https://localhost:8080/"
        },
        "outputId": "59a0d632-3068-473b-a5e1-6a1fc9db71f8"
      },
      "execution_count": null,
      "outputs": [
        {
          "output_type": "stream",
          "name": "stderr",
          "text": [
            "[nltk_data] Downloading package wordnet to /root/nltk_data...\n",
            "[nltk_data] Downloading package omw-1.4 to /root/nltk_data...\n"
          ]
        }
      ]
    },
    {
      "cell_type": "code",
      "source": [
        "sw = stopwords.words('english')\n",
        "lm = WordNetLemmatizer()\n",
        "print(sw)\n",
        "print(len(sw))"
      ],
      "metadata": {
        "id": "J5GVvNOub_bu",
        "colab": {
          "base_uri": "https://localhost:8080/"
        },
        "outputId": "fdf8ecfc-d256-41a5-9bcf-685818bdd0af"
      },
      "execution_count": null,
      "outputs": [
        {
          "output_type": "stream",
          "name": "stdout",
          "text": [
            "['i', 'me', 'my', 'myself', 'we', 'our', 'ours', 'ourselves', 'you', \"you're\", \"you've\", \"you'll\", \"you'd\", 'your', 'yours', 'yourself', 'yourselves', 'he', 'him', 'his', 'himself', 'she', \"she's\", 'her', 'hers', 'herself', 'it', \"it's\", 'its', 'itself', 'they', 'them', 'their', 'theirs', 'themselves', 'what', 'which', 'who', 'whom', 'this', 'that', \"that'll\", 'these', 'those', 'am', 'is', 'are', 'was', 'were', 'be', 'been', 'being', 'have', 'has', 'had', 'having', 'do', 'does', 'did', 'doing', 'a', 'an', 'the', 'and', 'but', 'if', 'or', 'because', 'as', 'until', 'while', 'of', 'at', 'by', 'for', 'with', 'about', 'against', 'between', 'into', 'through', 'during', 'before', 'after', 'above', 'below', 'to', 'from', 'up', 'down', 'in', 'out', 'on', 'off', 'over', 'under', 'again', 'further', 'then', 'once', 'here', 'there', 'when', 'where', 'why', 'how', 'all', 'any', 'both', 'each', 'few', 'more', 'most', 'other', 'some', 'such', 'no', 'nor', 'not', 'only', 'own', 'same', 'so', 'than', 'too', 'very', 's', 't', 'can', 'will', 'just', 'don', \"don't\", 'should', \"should've\", 'now', 'd', 'll', 'm', 'o', 're', 've', 'y', 'ain', 'aren', \"aren't\", 'couldn', \"couldn't\", 'didn', \"didn't\", 'doesn', \"doesn't\", 'hadn', \"hadn't\", 'hasn', \"hasn't\", 'haven', \"haven't\", 'isn', \"isn't\", 'ma', 'mightn', \"mightn't\", 'mustn', \"mustn't\", 'needn', \"needn't\", 'shan', \"shan't\", 'shouldn', \"shouldn't\", 'wasn', \"wasn't\", 'weren', \"weren't\", 'won', \"won't\", 'wouldn', \"wouldn't\"]\n",
            "179\n"
          ]
        }
      ]
    },
    {
      "cell_type": "code",
      "source": [
        "df.shape"
      ],
      "metadata": {
        "id": "gILPkn7Id8Ib",
        "colab": {
          "base_uri": "https://localhost:8080/"
        },
        "outputId": "3cc925af-1d49-4994-8e12-db266f3a686b"
      },
      "execution_count": null,
      "outputs": [
        {
          "output_type": "execute_result",
          "data": {
            "text/plain": [
              "(3150, 6)"
            ]
          },
          "metadata": {},
          "execution_count": 29
        }
      ]
    },
    {
      "cell_type": "markdown",
      "source": [
        "**Data Preprocessing**"
      ],
      "metadata": {
        "id": "b1QwRelhgAR4"
      }
    },
    {
      "cell_type": "code",
      "source": [
        "pro_data = []\n",
        "for i in df['verified_reviews'][ : 2435]:\n",
        "  t = i.lower()                             #conversion to lower case\n",
        "  t = re.sub('[^A-Za-z0-9]',' ',t)           #Removing of punctuation\n",
        "  t= word_tokenize(t)                        #word_tokenization\n",
        "  t= [i for i in t if i not in sw]           #removing Stopwords\n",
        "  t = [lm.lemmatize(i) for i in t]            #lammatization = > List of list of words\n",
        "  t= \" \".join(t)                              # Return list of sentences\n",
        "\n",
        "  pro_data.append(t)\n",
        "print(pro_data)  \n",
        "\n"
      ],
      "metadata": {
        "colab": {
          "base_uri": "https://localhost:8080/"
        },
        "id": "aora6DseeEFd",
        "outputId": "15f41a43-1b37-414b-ae52-b1bded195877"
      },
      "execution_count": null,
      "outputs": [
        {
          "output_type": "stream",
          "name": "stdout",
          "text": [
            "['love echo', 'loved', 'sometimes playing game answer question correctly alexa say got wrong answer like able turn light away home', 'lot fun thing 4 yr old learns dinosaur control light play game like category nice sound playing music well', 'music', 'received echo gift needed another bluetooth something play music easily accessible found smart speaker wait see else', 'without cellphone use many feature ipad see use great alarm u r almost deaf hear alarm bedroom living room reason enough keep fun ask random question hear response seem smartbon politics yet', 'think 5th one purchased working getting one every room house really like feature offer specifily playing music echo controlling light throughout house', 'look great', 'love listened song heard since childhood get news weather information great', 'sent 85 year old dad talk constantly', 'love learning knew thing eveyday still figuring everything work far easy use understand make laugh time', 'purchased mother knee problem give something trying come getting around fast like enjoys little big thing alexa play song time cook', 'love love love', 'expected', 'love wife hate', 'really happy purchase great speaker easy set', 'using alexa couple day lot fun new toy like new household member trying learn different featues benefit come', 'love size 2nd generation echo still need little improvement sound', 'liked original echo shorter greater fabric color choice miss volume ring top plus minus button big deal ring w comforting well like use standard usb charger port instead previous round pin guess sound seems work still answer alexa echo computer like', 'love echo good music sound playing alexa understands command difficult time find specific playlist song spotify good amazon music lacking major program', 'love alexa use play music play radio itunes play podcasts anypod set reminder listen flash briefing news weather every morning rely custom list like able voice control volume sure continue find new us sometimes bit frustrating alexa understand saying', 'set day still adding smart home device speaker great playing music like size stationed kitchen counter intrusive look', 'love play sleep sound immediately ask', 'got second unit bedroom expecting sound improved didnt really see difference overall big improvement 1st generation', 'amazing product', 'love echo easy operate load fun everything advertised use mainly play favorite tune test alexa knowledge', 'sound great love', 'fun item play get used using sometimes hard time answering question ask think better', 'like one', 'still learning capability far pretty pretty pretty good', 'like', 'work well need learning command unique owner user like alexa learn tasha birthday alexa learn definition fine etc great', 'speaker sound pretty good small setup pretty easy bought two reason rate 3 followed instruction synching music unit know done correctly sync primary motivation purchasing multiple unit', 'device awesome', 'bought compare speaker quality first generation speaker like sound better ship daughter though like fact first generation chargeable base bought keep mobile need better sound', 'love echo still learning thing able follow instruction included package found great one u tube', 'speaker better 1st generation echo', 'thing way cool get one want cool', 'first digital assistant giving good review speaker really good cheap price prime day fun play used alarm clock going get first place ended echo go one definitely try like best number device connect purchase came smart plug 10 connect lamp alexa turn light', 'husband like able use listen music wish knew capability', 'android would allow alexa connect fortunately sister apple cell hour tech support fixed glitch running', 'far good', 'tried play certain broadway show like camelot give ne group camelot', 'great', 'satisfied echo alexa control light family room wife listen jimmy buffet asking alexa', 'like siri fact siri answer accurately alexa see real need household though good bargain prime day deal', 'love echo still learning every thing work ton fun', 'love much', 'different apple play specific list music must amazon spotify plus prime etc account must pay play music 3 star reason everything else', 'excelente lo unico e que esta en espa ol', 'still learning use far echo great sound actually much better expecting', 'work expect also good sound quality considering price 70 00 sale feature', 'sound echo 2nd generation phenomenal mention love alexa helpful', 'like google better', 'let play learn get', 'work advertised easy setup still learning', 'great sound easy set', 'love alexa bought others friend', 'love echo purchased company husband 83 alexa great say name tell joke play favorite song', '', 'love able listen music easily still learning feature available', 'really know could use device used thing need overview', 'love wish built hub', 'use primarily play music work wonderfully still getting used many thing amazon sent several tip since got thanks help', 'easy set', 'fast response amazing clear concise answer sound quality fantastic still getting used alexia usde echo full extent', 'need na na nana', 'everything expected', 'love echo work like said would 34 smart 34 home speak function everything else good', 'great sound small package easy set use fun', 'work sound great', 'sound amazing many collection music', 'setting', 'always listen', 'awesome', 'bought control fios television work well hoping time control fios discovered thing alexa play music ask great sound alexa play game play radio station play old time radio program like long ranger alexa many apps add ability day played madlibs great fun also alexa control household appliance purchased alexa compatible power strip control lighting fan tv component looking forward implementing controll also add alexa component chosen music play room component located', 'speaker excellent sound work perfectly', 'like', 'love everything', 'little nervous received new echo really tech savvy found bit intimidating first take long figure happy purchase thinking adding echo spot', 'like still learning use', 'great technology believe speaker volume quality wonderful wish bought another one', 'purchased echo dot husband father day us constantly hearing quality sound echo 2nd generation brainer best gift ever', 'work fine', '', 'clear music', 'fun use good sound quality', 'echo work well able sync amazon music device', 'work great think amazon charge another cent unlimited music 1 prime 2 buy echo', 'already echo dot echo even better fuller sound also setup let phone call made contact list great', 'speaker sound really good', 'good sound work well', 'love alexa savvy support helpful patient', 'love thinking getting one prime day discount offered could pas fun ask alexa play song group come playlist amazon prime music also connect iphone bluetooth play music pandora youtube video using alexa speaker fun asking alexa different type question information like weather news even time country downside limited data wifi plan alexa us burn playing music', 'like far lot try yet', 'love using strictly music great', 'love echo love size material speaker quality hooked one light easily work additional light thermostat next echo dot bedroom lot echo think traffic weather trivia etc', 'love', 'entire family love alexa echo part family', 'great fun getting know function product wow family fun homework help talking grandchild also echo huge bonus wait learn', 'love', 'awesome thing love alexa', 'worked exactly expected speaker great sound perfect classroom', 'love love new little gadget made life much easier like personal secretary living home hardly need cd anymore since alexa play everything need going get alexa dot soon room thanks', 'speaker surprising quality happy purchase', 'easy set work wonderful love', 'really impressed sound quality playing music device bass sound almost like coming bigger speaker prop amazon', 'still great product sound quality seem worse get wrong definitely get used within hour definitely feel like echo gen 1 sound quality better besides great addition able play bluetooth wifi even better', 'outlet work disappointed', 'great device responsive helpful', 'sound terrible u want good music get bose', 'liked sound troubling paid extra money access million song sometimes work ex alexa play italian song 34 34 understand play opera tosca response 34 sorry 34', 'easy set use bad plugged would nice take outside operate battery recharged', 'still learning way use real hit grandkids ask play music dance 5 7 yr cute', '4 5 5 star generally like product great ask like playing music setting timer making call reason rate 5 5 sometimes connection dy echo stop playing music show red ring seems connection issue overall great product', 'work great upgraded echo dot full size echo happier', 'alexa else say', 'upgraded lilttle echo dot happy sound', 'excellent product set ease well', 'first gen echo since first came worked well purchased 2nd gen prime day far happy seems improved speaker provides enhanced sound music', 'love echo smart speaker love volume clarity easy set wonderful gift age', 'wonderful product fast delivery', 'initially harder set called tech knowledgeable working great', 'easy set family love', 'great sound responsive voice command', 'live long without echo get enjoy music style asking alexa going greade wireless love echo love alexa', 'cool product speaker sound good spotify blasting', 'much fun alexa love able listen music across room busy something else', 'far seems nice item pick voice understands without problem day asked turn music next room heard fine used listen music check weather done thing well', 'love echo', 'love helpful use remembering thing sleep ask anything week still learning', 'better 1st gen every way except one really miss ring top volume control quicker easier grab top twist without look button find 34 34 one press time also wish bass bit better great device happy', 'love alexa', 'far like', 'thoroughly enjoying ecoo love read audiobook office simply open audiobook kindle continue elsewhere wonderful listening music mood book great setting reminder much', 'still love', 'love', 'love sound quality unit clear sound', 'listening talk radio morning turning light etc system excellent job full house sound system streaming sirius', 'week still learning alexa learning process love music call time listen podcasts radio station started keeping shopping list grocery list love search paper pencil getting time temperature great wait weather report sound good fussy woofer tweeter base etc echo fine afternoon going try dropping son get home going surprise', 'much feature', 'great sound quality great feature great product multi room music cool', 'cool', 'everyone echo two three bought echo qvc', 'annoying everything show alexa able downloaded spend much time trying figure phrase machine may well look', 'alexa since beginning accidentally spilled water replaced 2nd generation decided without echo setup easy working within minute', 'like able tell alexia music want hear sometimes trouble finding song specific title', 'like look better original echo moved old echo basement family room nice sound', 'echo wonderful still learning use music request somewhat limited', 'know half thing asked recognize sprinkler wifi controller even though product detail say compatible program change wifi thermostat setting matched wifi router handy music player amazon music', 'love', 'awesome understands kid', 'pleasantly surprised sound quality many feature nice easily hear particular artist hear book simple command looking forward exploring option device', 'met exceeded expectation easy set really quick response', 'like fact get kind music prime want request alexa liked informative photo little pamphlet wish included connect tv etc command alexa really love music', 'found way access echo thorough prime account think part top line video music etc also think setup app define example music like well integrated echo tried ask playlist echo sure even though set play list setting also like fact word exact match playlist name never remember like ready nature echo respond query', 'great item added audible book make even better thank', 'prime day 2nd gen echo sale resist beginning smart home set happier say alexa done amazing job connecting smart device thanks control light smart plug tv etc trouble connecting echo wifi phone app work perfectly fine let add skill routine smart device timer much sound quality good enough since audiophile alexa hear voice even watching movie high volume design great modern definitely add nice touch home change cover like sale overall great addition home enables many possibility yet sure add alexa home', 'versatile fun', 'work great killer speaker wife son love', 'regret waiting long purchase item surprised pleased sound quality', 'stopped working 2 week follow command really fun working', 'far love working getting thing set love grocery list app', 'performs pretty much expected disappointed provide terminology need play various kind music without subscribing amazon music service understand music choice may limited without knowing ask access music provided free along echo purchase chart showing language need use', 'easy set', 'like product except speaker high quality expected', 'great investment alexa helped made laugh', 'yet another exho home love', 'love plan gender music big band jazz easy find local radio sound good stop voice command get phone call', 'good value', 'super easy set loving new echo', 'whats like speaker ask alexa', 'best father day gift dad joked mom alexa one listening repeated story going forward', 'great addition breakfast room kitchen tune information instantly available slowly learning feature', 'sound quality', 'sad joke worthless', 'entertainment', 'good quality', 'work great sound great miss beat wish battery better portability', 'loved till someone stoled afford replace yet going', 'alexa rock', 'got gift love never would bought one allows play music amozon prime music worth also give new brief tell joke', '', 'mom bought echo dot repeated ask take one great told two day made take 6 hour later could live life without amazing four large speaker small echo dot returning say going order alexa speaker go big get echo otherwise tou returning two echo dot live without', 'love great product', 'easy set user friendly', 'really disappointed alexa plug wall socket time fault checking made assumption company technologically advanced amazon would sell product rechargeable battery could return would apple music boom speaker give flexibility alexa', 'think 34 2nd gen 34 sound good 1st aux could add external speaker going get dot 2nd issue unique unit understand override default prevents playing blue tooth speaker playing 34 group 34 get delay using bt speaker unit heard able play group using bt speaker', 'everything', 'like interaction asking question like ask setup schedule connected lamp', 'supberb sound definitely worth extra money listen lot music', 'really love amazon echo think sound quality great lot fun really handy music get update weather sport', 'love grandkids', 'far worked well always intuitive link different device skill getting hang', 'work advertised', 'love', 'love new addition house speaker quality great love alexa two complaint suggestion future series would better communication ability example smart light house unless specify kitchen light 1 kitchen light 2 prior command either respond say recognize may want alexa respond say thank afterwards repeat alexa thank time respond husband know sound odd laugh maybe southern thing want alexa manner', 'like everything music trivia game weather', 'described received time like automatic enrolment music', 'great device', 'owned echo overa year new lack easy way increase decrease volume without telling increase decrease volume hard wife since english second language born korea sound echo superb keep', 'love kitchen work well', 'nice impressed wish say though', 'love product nice easy access much info', 'got great sound bass work time still hot miss recognizes thing', 'still discovering echo', 'amazing paroduct', 'good hearing range sound quality bit complicated set quite understand lot even speaking slowly clearly love flash briefing feature interfacing abode home security system', 'speaker sound good', 'absolutely love', 'best part product control thermostat light house anything dislike', 'thoroughly enjoying amazon echo installation easy using alexa app purchased 2 kasa smart plug control living room light installation easy using kasa app sinqued right echo enjoying playing music echo sound quality awesome added kasa smart bulb kitchen setup seamless looking forward adding automation home', 'home entertainment', 'cool product easy setup fun use sound quality much better anticipated', 'love great sound easy connect use', 'work fairly new smart tv mainly tv manufacturer lg fault due supporting anything older tv year smart lock also need additional piece equipment order connect well speaker sound great work well', 'great sound little speaker', 'enjoy', '', 'cool', 'good quality great sound quality', 'work perfectly', 'great product sometimes alexa understand command fire tv fabulous speaker', 'love echo great sound smart', 'sure love', 'play great', 'work absolutely great', 'amazing product great sound quality', 'best thing invested thank much', 'extremely impressed item bought 34 warehouse 34 34 outlet 34 34 minor imperfection tell even one work great come packaging sealed damage missing anything like sound quality see knock bose great family easy use minor learning curve learns voice integrates seamlessly amazon service wait get classroom lot fun even speaker let alone plan', 'love echo show bedroom wonderful music info sleeping sound', 'awesome life changer seriously able start morning alexa 34 wake 34 alarm playing music gotten used voice another room 34 listen 34 say love echo hesitate get one price speaker unbelievable buying cordless holder take echo anywhere love purchase love alexa', 'super impressed alexa prime lapsed play anything smart enough differentiate among spotify account use either randomly speaks nobody talking today unplugged sure ever use alexa', 'like everything', 'liked 100', 'never issue buying use electronics long get good like new read comment see used', 'family really love new echo', 'bought wife love', 'fun got today pod go car use house', 'like', 'third echo worth every penny like 3 household employee small flat rate keep bedroom living room drop use intercom listen music answer quick question alarm wake school etc', 'listen music set timer', 'received echo perfect condition device easy set responds quickly without issue alexa great addition family', 'good sound like music scheduling like get random thought recorded think joke cute', 'purchased beginning learn far pleased amazed different action perform enjoying looking forward learning option provides', 'echo great others even though smaller', 'funny buy something look fun wind totally useful part home loving', 'bought replace 34 dot 34 living room speaker slightly better hears better tv unfortunately understand respond request well dot frequently request 2 3 time get want dot usually exactly want first request consider upgrade', 'good experience far second generation echo many thing learn time yet right mostly enjoying music weather update using alarm feature personality also purchased mini smart socket yes excited begin using', 'trouble connecting tv exactly tech smart sure one grandson figure far using mostly music', 'simply love echo hardly watch tv anymore busy listening music speaker pretty goo size fun skill really make echo fun whole family', 'enjoyed entire echo experience', 'easy set', 'echo amazing device many time seems intuitive time ask something seems clear simple get result installation fairly straightforward messed several time simply thought step complete actually made lose ground figured advice patient app let know move next step biggest issue moment several echo device home would like use intercom told done however make echo aware others existence ask alexa answer instruction change name know likely fault would think designer would anticipate make easier find needed instruction small deal many device savvy people challenge', 'loving much', 'original alexa tap far 2nd generation best happy see making improvement new one would great update little think would help lot bug happy play music throughout whole house adjust bass treble thank', 'pleased echo 2nd generation nice alexa available music weather news probably lot discovered', 'pleasantly surprised sound quality echo big fan deep bass might sufficient though potential control home option explore evolve home smart home voice recognition impressive stylish fun regret purchase great technically change people ask play song movie responds instantly elderly loved one would great gift connected wifi simple use want unlimited music control sure amazon prime premium spotify blown away personal dj even conversation echo embarrassed say echo made laugh couple time ask tell joke tell package since amazon prime addict come extremely handy', 'easy setup love thing', 'alexa throughout house future arrived', 'already alexa amazon find today could resist getting echo also best thing ever use side house happier', 'arrived expected', 'bought week ago everything product excellent forget buy charger ordering must take outside pool worry hiring electrician put outlet yard', 'terrific', 'love echo', 'smaller original look nicer', 'work great', 'husband would call 34 late adopter 34 come technology decide would try echo serve primarily music source wow amazed great sound also great time listening favorite song buy asking alexa may even buy one elderly dad think enjoy one listen music even place call u', 'really enjoyed changing directv channel play iheartradio pandora adjusts ac thermostat turn living room light outside light', 'wanting one bought prime day absolutely love', 'glad got echo bluetooth speaker alexa much stuff non smart speaker personally love timer feature helped cooking multiple thing simultaneously pandora integration another feature use daily happy prime day purchase get echo hub echo dot future', 'see subject line love', 'love', 'easy setup', 'hesitant buy echo echo dot seems good enough echo except sound quality really feel needed however glad got difference sound really far superior echo dot listen greatest showman little power', 'sound quality great still learning different thing fun', 'got good deal work great prime setup bit pain fault crappy internet service worked great nice sound small speaker', 'love', 'work great perfect office', 'love one inside house one pool good bose speaker around house', 'easy use amazing', 'nice product', 'love echo totally amazed speaker quality bummed buy two since got prime day', 'responsive great sound quality size', 'efficient amazing cool use often every day', 'impressed quality sound echo definitely comparable bose mini gave 4 star use apple music account', 'technology small device price good sound amazing must feature home', 'mainly use music learning time really nothing bad say', 'replaced 1st gen concerned smaller unit sound wrong anything volume clear good product', 'great addition echo plus', 'best', 'love feature play music every room multiple echo', 'love alexa surprised much use', 'use product enjoyment love', 'easy use great sound great purchase great price', 'easy set issue', 'unit add much pleasure echo plus music information home one room', 'extremely useful simple thing like spotify audible thing like sometimes answer everything ask still nice use', 'difficult set keep timing enter password', 'getting use using echo used shopping list listening music timer working great far', 'cool lot fun used week still learning capability', 'love love', 'love hard time setting apps', 'use office another apartment music information', 'great music little hard figure work', 'given 7 year time birthday gift dad love ask alexa anything answer plus good homework purchased one prime day bathroom getting ready work listen music 4am base metro booming replacement clock radio plus echo dot night stand alarm clock', 'impressed look clarity sound color', 'alexa amazing great speaker', 'still getting used alexa connected tv yet thing right use music information great', 'work sound great house barely 1100sf sitting kitchen counter hear speak room lot functionality still discover', 'pure fun echo weather joke news briefing music still much use lot fun money', 'use time especially communicate kid throughout home', 'love still learning make lot thing easier like forget turn light another room ask alexa turn light', 'bought daughter turned 9 love especially like calling feature since cell phone love playing music dancing amazon music play favorite song sometimes lol', 'got wedding gift discovered feature yet update playing music great though', 'impressed sound quality', 'pleased purchase echo smart speaker love fact play music different genre whenever want trouble first wi fi working', 'wife enjoy ease playing music game fun entertaining look forward adding smart product home', 'second echo love help kitchen set timer listen news prepare grocery list get great music', 'sound quality good wish alexa could answer question', 'second echo dot speaker weak purchased listening music speaker great', 'great sound', 'great', 'really use speaker stream music 7 month kinda useless', 'set user friendly set user friendly hoped alexa app able download pc without installing invasive driver wife retired able install alexa son supplying smart phone using alexa yet', 'easy set really enjoying', 'echo come built battery plugged time use make quite inconvenient', 'compact bit better original', 'love pretty cool', 'living room music sound really good living room hear upstairs', 'great product set easy sound wonderful', 'far like bought music though sound pretty good', 'love', 'love', 'glad bought', 'like type fun music', 'like volume top turn quickly', 'beyond capability program grandkids lve', 'love new echo give hour music help thing difficult set help tekkie', 'almost good bose love whole house music', 'alexa hardly came', 'easy setup using app also easy install phone sound quality listening music pandora wonderful', 'still learning use echo far love', 'work awesome', 'work great', 'small speaker sound great', 'great sound size prize course alexa', 'echo definitely need one', 'great device seems work better 1st generation', 'item longer work 5 month use connect wifi unresponsive reset request', 'love echo dot easy fun get drop grandaughter life 2000 mile away sound like right next', 'work great different new one', 'one going kitchen timer music duty', 'love volume could definitely use boost better built speaker would definitively 5 star thought ahead put audio auxiliary input bought dedicated speaker echo proved best way go', 'work fine', 'work great look brand new love new echo dot getting main room house', 'refurbished item work like new love easy set love issue volume listening relaxing fine expecting anything else recommend purchasing speaker', 'loud', '2nd one love', 'sure feel echo dot many thing need get used ask right question understand', 'thing barely work select 3rd party apps stuff think could box sending mine back asap waste money', 'gift man like plug picture show cord would prefer cordless still work though purpose bought', '5th amazon echo device purchased refurbished satisfied time different tell brand new price 10 cheaper echo wake u keep timer play music u act encyclopedia turn light much', 'small echo dot amazing sound come great change nest thermostat phillips hue light without leaving chair', 'talk time song dislike device', 'never disappointed amazon technology', 'worked promised', 'returned 2 echo dot getting refund 1 returned 2 one package want refund package see', 'working', 'weird pause speech pattern present echo device', 'sure love alexa lol thank great price product', 'work', 'echo fan one work', '', 'bought bathroom listen shower love', 'always respond spoken promp word thought would connect echo upstairs use like intercom able', 'fast shipping work well', 'love', 'love love love new free assistant', 'six word 34 alexa tell poop joke 34', 'worked month stopped tried everything try make work nothing working want refund', 'poor quality gave away', 'refurbished way go echo work like new', 'love', 'five need say', 'speaker arent loud alexa great though besides naw', 'work great sound good', 'never could get work techie friend looked said adapter strong enough power looked like bought dollar store going replace adapter hope work', 'almost like star trek home fun try outsmart', 'add echo system refurbished product work like new', 'great office use daily many way include spelling background music', 'awesome love alexa', 'sure really wanted one extremely useful get one love', 'initially echo dot worked well time dot stopped responding alexa unless within one foot yelling echo echo dot room would respond without response echo dot would recommend buying refurbished', 'great product fast shipping', 'bought echo dot refurbished stop whatever function performing quite often wake every time randomly turn nothing buy refurbished echo dot', 'perfect work great problem refurbished', 'dont trust', 'perfect condition love echo', 'love beautiful experience especially hooked smart lighting accessory', 'got within last couple week tell issue son wanted 34 alexa 34 6th birthday could tell joke could ask question listen music enjoy one much bought second one week prime deal day', 'divertido', 'great product work great', 'bought guest room radio alarm clock information center much', 'great buy bought go echo love speaker best music work great kitchen timer alarm', '', 'work perfect save buck buy refurbished look brand new', 'look work perfect glad got good deal', 'good new one bought 10 00 le', 'love work well', 'everything perfect', 'good price prompt shipping working flawlessly', 'love alexa', 'room improvement price complain much still complain however audio terrible kind like listening speak n spell 80', 'iove bought son wanted awesome', 'echo work price great deal issue dot speaker bit tinny good second unit like attach external speaker sound good buy', 'thanks', 'wanted use radio intercom get terrible fm reception live speech recognition software horrible wife native american whose language english north texas neither accent birth area yet good job understanding u bought two thing additionally wifi reception poor marginal buy wifi range extender office ten foot router problem switched around difference disconnected dust collector', 'third dot work perfectly use one multiple time day absolutely love', 'item never worked box broken spent several day trying get working running 34 fix 34 amazon thing accomplished never order another refurbished device', 'already echo plus bought one bedroom love function', 'simple set music everywhere', 'worked like brand new dot satisfied', 'great product returning new alexa dot refurbished already giving problem connection', 'echo already went one refurbished save buck work great love new generation one rubber bottom nice', 'love fact unplug take basement want laundry', 'refurbished good new one bought', 'good new', 'granddaughter love', 'price great trouble hearing across room moving another spot seems working fine buy want 1 every room', 'set alexa blue tooth speaker enjoy listening music outdoors wait try new stuff using alexa', 'thanks', 'work great', '34 never buy certified refurbished echo dot 34 bought 34 certified refurbished 34 echo dot unit poor receiving command sometimes even acknowledge command never buy refurbished echo dot unit received probably never certified refurbished indicated also bought new echo dot work perfectly disappointed', 'started amazon productsand regret nothing absolutely great journey product continue improve day day life', 'used several month without problem', 'first smart device surely buying device compatible one', 'love', 'love good new one', 'larger echo time love bought one another portion house since several wifi home device wanted voice control house', 'love product use turn light answer quick question', 'great buy', 'leary refurbished work great', 'puny sound work great', 'great', 'exactly like new tell difference new dot got prior one work perfectly love alexa', 'work perfect wear tear device love alexa working making home smart', 'work good', 'thing like shuts work great', 'excellent product mint condition refurbished unit would never know refurbished', 'already owning couple echo frustrated also use intercom finally amazon enables drop feature use echo reach family remote part house teenager insist never heard yelling come dinner feature mainly use echo standard stuff playing music setting alarm answering question etc life changing home device amazon would believe convenient around refurb saved buck look work brand new one', 'love worried refurbished part first first echo awesome used everything light since work night shopping well spotify planning getting parent help everyday thing take granted young would recommend everyone', 'love alexa hope every room soon', 'simplicity use setting', 'great got one gazebo one upstairs', 'work great never issue', 'everything asked', 'work great good sound', 'use echo listen music well sort research tool answer variety question would like volume could go little bit louder complain also believe internal power source order use echo must plugged time using universal charging cord would nice use echo dot go without buy product', 'love great fun', 'love', 'outstanding use time work like say', 'saving 10 always nice son always say buying refurbished mean getting new device product le run diagnostics everything corrected', 'work perfectly alexa turn light tv roomba', 'never would know refurbished', 'far good', 'look performs new complaint', 'go great echo', 'work great like new one already', 'item work certified refurbished mean work advertised instead item crashed soon turned plugged trying connect phone echo dot crashed would disconnect orange light would freeze thing would reboot blue light alexa would tell ready connect freeze mid sentence tried holding action button 5 second anything returning immediately hope actually fix item next buyer purchase', 'fast service got ordered thank', 'love even though still trying figure thing item work great phone', 'none', '2 echo one bought brand new refurbished one honestly tell difference performance look', 'great product learned work thing awesome', 'work', 'work time', 'love though wish portable', 'course', 'could tell refurbished work excellent would highly recommended instead purchasing new', 'got mom love', 'love echo dot look brand new work perfect satisfied', 'new', 'small problem box rep amazon called walked reset process solved issue shocked get response quickly real effort made including follow email get thing working 6 one google clone use learn like also plan install one car boat garage alexa new best friend lol think gf worried alexa learns cook time limited', 'love alexa dot play game son ask weather love work amazon fire tv', 'like could ask different question different thing work intermittently smart tv ask change volume sometimes ask change channel sometimes reset know refurbished okay expected', 'far certified refurbished echo dot work well little confusing green ring echo dot 100 know asked alexa said receiving call drop case took 10 minute figure notification delivery amazon believe ring supposed yellow pulsate message notification refurbished echo dot green pulsed', 'arrived quickly easy set refurbished amazon echo dot beyond expected alexa become buddy great assistant', 'work advertised speak clearly research command also get wall holder keep way set breeze make sure close device initially connecting phone reason made set easier though could psychological haha', 'love two echo dot third one ordered give gift defective speaker return process still done already taken week', 'already returned', 'refurbished echo wonderful purchased mother love ability contact without phone listen music weather ask question wonderful gift work excellently problem', 'work good however price went week purchased', 'work amazingly bought daughter love', 'love alexa great helping making appointment playing song like else looking forward', 'got bathroom love listen music whe showering', '3 dot 2 original new one work perfectly buy future dot reconditioned', 'little hard get pare others problem', 'weary picking conversation actively using heard happening news 3 4 concerning wish amazon would release something widespread push firmware prevent heard yet', 'really dislike alexa dot thought cortna cool alexa awesome application family unbelievable device seems alive must get', 'happy refurbished echo dot two week far working perfectly even though come original box look like new happy purchase', 'thumb', 'workreat', 'something wrong first one even rep spoke could fix replacement registered someone else price dot went 39 99 price refurbished one bought brand spanking new one problem new one', 'work expected', 'problem', 'almost every room really enjoyed work perfectly', 'purchased grandson', 'like new', 'happy 2 ordered', 'love dot especially ability talk one really convenient issue refurbished like new', 'started taking used since unplugged day one talking daughter laying bed next started going movie moana completely scared sh daughter', 'work great speaker sound fine overall would recommend', 'great like new', 'loved price essentially brand new dot opening really tell refurbished everything looked brand new 20 le new unit consider better deal really love versatility echo dot get one', 'pleased order wanted', 'think 5 throughout house convenient set timer check weather whatever wherever', 'love best experience refurbished device excellent', 'love echo dot', 'refurbished item fine aware fee echo set room however missing cordthank', 'two week setting longer work connection light sound guess purchased refurbished dot', 'worked like brandnew unit great addition collection', 'great price work perfectly saved money refurb would buy', '', 'god', 'good', 'great bought one bought another right away grab smart switched set smart home capability 150 highly recommended', 'like new', 'worked still need figure link device though set sonos pretty easy product fault time figure', 'useful', 'worst amazon purchase made big amazon fan love brand unlimited digital music prime video even buy online game music movie amazon app tried use make simple purchase anything useless', 'work well microphone 34 pick well full size echo audio quality okay size', 'bought two refurbished one work home work perfectly appear brand new', 'amazon disappoint', 'work great bt receiver output connected vintage stereo equipment', 'working great far tell new edit longevity year real test', 'amazing', 'love everything', 'used dot work fine compliment echo', 'work like new one tell difference new one bough refurbished one', 'well big fan echo one went bathroom work great expected', 'purchased 83 year old mother love talking alexa responsive detect name room', 'like new performance brand new one problem', 'echo dot disconnect speaker 12 20 time day buy refurbished product 2 star effort', 'love great product', 'work good satisfied', 'love alexa sound dot best echo 2nd gen kitchen living room got bedroom significant difference sound dot lack full base sound sound coming cheap portable speaker really disappointed returned right away shelled money buy second echo 2 bedroom also', 'took awhile get connected electronically savy love', 'cant seem get thing sink wireless sure returning try one time', 'absolutely love', 'product stopped working return time ran', 'second dot work great refurbishedthought new', 'love guy work great', 'love second 34 alexa 34 bedroom great checking weather meditation music timer perfect husband use eye drop multiple time day keep eye closed 5 minute', 'purchased refurbished work like brand new 3 minute set easy echo dot command start playing music backyard deck sound system', 'substitute original echo dot performs well sound quality poor listen highest level 10', 'love echo dot help husband get netflix apps amazon fire tv problem refurbished planning getting another one amazon fire stick bedroom', 'stopped working 7 month warranty good 3 month would assumed amazon product sold amazon would higher standard guaranteeing would work 3 whole month mean product supposed piece junk offered 15 discount wanted buy another one would want buy another one', 'like new problem whatsoever alexa thank', 'like uncle sometime go little haywire', 'bought son work return', 'bought 2 quit connecting wifi responding voice within 9 month hard soft reset fix problem', 'received echo dot today good condition advised paid 29 99 amazon writing raised price 39 99 research buying get good deal set dot went simple enough plug follow app instruction except initially took actually show iphone wifi setting called amazon customer service dunno lately getting terrible support guy took call rambled completely unhelpful script ended setting dot middle spiel sure norm refurbished dot pretty finicky wifi range randomly disconnect even though app show range 5ghz connection strong reconnecting pain time well said alexa work work amazingly well speaker hooked one thing really enjoy mic range sensitivity one annoying limitation apple siri playing audio device speaker music podcasts etc hey siri feature useless alexa problem hearing whatever playing time amazingly fast responsiveness tried louder speaker yet sure continue hold true setting alexa control wireless device breeze albeit limitation support arlo device nil special setting led device eg rainbow effect alexa handle know change solid color brightness level rating would lower gotten decent price item connectivity problem persist may exchange return item want though alexa kind growing', 'bought everyone saying much love need used volume loud enough played music treadmill rather use tower speaker 3xs louder', 'worked like new', 'second one refurbished model work least home', 'bad device know refurbished activated nobody talking activated start talking talk yell super lauded', 'good new like brand new save money get one', 'adding room convenience', 'nice work good time easy recognize voice repeat several time time almost screaming', 'took chance certified refurbished unit 29 look brand new excuse disappointment 5 minute trouble free set effortless bluetooth speaker connectivity alexa app iphone flawless listening favorite tune bose bluetooth setup happier walk door ask alexa 34 play 80 music 34 viola instant atmosphere opening ipad going setting turning bluetooth accessing pandora app make thing effortless true joy right box discover us fine piece technology worth every penny', 'alexa sister second dot', 'love alexa echo dot two one new one refurbished work great become go sooo many thing love alarm every morning whenever love play music sound ocean nature sound trying sleep love many thing', 'bought refurb work new one bought prior came original packaging well', 'love like second wife', 'far impressed save group correctly understand time sure excitement alexas voice sound like water supposed understand going return try google home', 'work well obvious issue refurbished', 'work great tell refurbished set kid mode 3 home adding love thing', 'great product useless overall many unnecessary feature unless smart home need', 'worked good two new echo dot preciously purchase', 'bought mother love love guard dog feature say give sense security night leaf house', 'bought mainly speaker playing music video phone working read instruction working', 'work', 'bought two work great much electronics running home alexa want need done', '2nd one come', 'blue light blink time', 'fun useful still learning new trick useful functionality future human computer interface household automation like star trek knew would soon', 'work great control tv light various device lately using wake know time want open eye shout 34 alexa time 34 could figure get house hold chore walk dog golden sound great size expect echo plus much better audio get larger expensive echo', 'work great', 'sure like product little want one every room daughter constantly asking alexa spell word barely tapped thing product capable looking forward learning capability', '', 'great product work well', 'absolutly love', 'bought first echo dot loved got work absolutely love', 'work promised', 'work great existing smart home setup', 'perfect could tell difference new one', 'cant figure use', 'good sometimes hear well', 'little apprehensive buying refurbished electronic product amazon guarantee thought would try glad probably buy another refurb product form amazon love alexa product several one sits desk small footprint great sound use daily work great', 'bad bad speaker sound', 'great device mainly use verbally add thing shopping list occasionally use number 34 fun 34 thing program like go red alert make tardis land yes house geek even chose wake word 34 computer 34 instead 34 alexa 34 need majel barret voice geek heaven easy get premium spotify work properly still sure get multiple music account attached listen different music different room far still worth often asking time weather even give u news briefing also use intercom system really awesome plus fun knowing nsa listening everything', 'love', 'purchased daughter love amazing love game', 'always work', 'good new perfectly packaged zero issue dot', 'love bought granddaughter 3 play music ask question entertained hour good buy honest opinion', 'issue work look great', 'fun toy daughter read', 'refurbish echo dot received new condition new packaging complaint neat little gadget drive wife nut', 'received echo gift loved much decided get dot bedroom easy set big difference sound quality would still buy', 'worked advertised thanks', 'new amazon product great everything bought refurbished complete garbage never purchase amazon refurbished total dissatisfaction', 'work good microphone good better echo product', 'took little work set finally got sound quality best got work great check weather ask cooking question kitchen play radio want music probably upgrade echo plus better sound', 'love alexa best thing ever bought know ever lived thing amazing happy product wish would use google', 'loved work great', 'extremely low volume', 'trouble getting program downloaded phone ended using computer interesting answer come wikipedia however give echo dot 34 34 music playing department heard song music totally forgotten mainstream station also amusing alexa responds know think yard cotton fabric refer football playing paid full price gadget would sorely disappointed seems reasonable step hal', 'brought replace one moved range previous non refurbished unit would seldom able find wi fi connect got tired hearing message 34 trouble connecting check alexa app 34 unplugged went troubleshooting reconnected several time strong', 'want listen music come several echo dot unit simultaneously must pay monthly fee thought amazon apple paid many could one room enough money', 'purchased gift', 'love', 'overall good device bought workout room issue reaching volume heard standard row machine could use much better speaker', 'work great simple set alexa way accurate imagined im using thought wish alarm could set bit thats complaint listening say wake word worried lose conspiracy theory speaker great hold getting one turned gen 1 like', 'voice clarity made eavesdropping effort much easier government', 'worked perfect', 'little trouble beginning replaced old router work good except current temperature time alexa much 10 degree like 91 degree alexa would say 81 degree otherwise everything work expected enjoy listening music amazon pandora station requesting favorite song recording artist', 'bought three three worked flawlessly labeled refurbished known', 'device work perfectly good price love alexa great fun music great get radio station need morning traffic report think would enjoy ai house fun educational entertaining even people tech savvy', 'eh work half time respond say wake name work fine', 'great little thing work better siri', 'amazing love', 'bought son love', 'first second generation echo dot think prefer volume ring first gen better button second gen still job great price got still definitely recommend', 'fun use morning briefing', 'arrived time work amazing', 'like new set quick easy', 'like new good refurbishing', 'love', 'love echo dot', 'like know music type least wireless volume high', 'great product', 'work great reason leaving 3 star wont play unless plugged whole time pretty irritating especially outlet available', 'work great', 'love ita like personal assistant computer everything else one', 'problem item could inexperience ordered wrong thing decided set use alexa trying replace small bluetooth speaker bedroom thought could learn go downloaded app never could get echo sync iphone decided give one kid probably enjoy use intended', 'e perfecto', 'working good far', 'working great daughter love', 'work great', 'love', 'wanted white dot white bathroom top black shown knew realize cord plug also black wanted white cord plug', '', 'work great', 'amazing', 'great product', 'work perfectly', 'perfect', 'set echo dot worked hour died completely buy refurbished sent back return day received', 'echo dot horrible volume phone louder device bos one case', 'overall work well connectivity issue definitely worth money', 'issue refurbished unit performed expected would buy another one needed', 'great mom inside owlhead jacuzzi', 'work great put son room use drop option get attention gaming watching tv', 'perfect', 'looked brand nrw nothing complain defently ordering', 'ok speaker pretty terrible google home better product', 'love', 'love answer stupid question tell weather get couch', 'first one quit working shortly got next one becomes unresponsive voice time way get work app sure dot way', 'bought go niece room tell refurbished look good work like new', 'device working followed instruction alexa echo dot come upsetting', 'sent back due crackling noise turning expect refurbished item', 'best price could find useful around answer question handy find phone also intercom system', 'never satisfied product perfect introduction alexa', 'work well speaker grand getting another speaker drop future would gone full size echo', 'love echo thing full size version sound better though', 'work great', 'need life plan time date music', 'seems trouble hearing say wake word despite trained voice wonder something buying refurbished google home mini problem hearing u much louder', 'love work perfectly', 'brand new echo dot thought refurbished would good quite different expectation refurbished unit even turn realized power adapter faulty way amazon send power adapter according return option love amazon buy even toilet paper truly let update amazon contacted credited enough buy new power adapter shop amazon always trust deliver product', 'bought family member gift called see like said love', 'loud quality ease use great sound perfect background music would suggest 2 connected together trying use hosting louder party', 'looked brand new work great love echo dot refurbished one like new', '2nd one use time', 'working like new one l another 3 alexa device lm fanatic', 'echo good', 'work great', 'great price extend range super value dot offer hooked wireless speaker use working outside dot made outdoor sound range possible without disturbing indoor light control possible', 'amazingly fun daughter asked question first day set daily alarm weekend reminder playlist morning show random song daily bible verse weather morning commute tell way go dodging traffic get one linked phone yet', 'work perfect difference refurb one new one house buying refurbs', 'great product wake every morning time', 'like new difference new unused original', 'complaint far know exactly like new little cheaper great', 'perfect condition', 'like new', 'work well new version got discount echo speaker decided purchase version amazon state warranty', 'received echo gift needed another bluetooth something play music easily accessible found smart speaker wait see else', 'without cellphone use many feature ipad see use great alarm u r almost deaf hear alarm bedroom living room reason enough keep fun ask random question hear response seem smartbon politics yet', 'think 5th one purchased working getting one every room house really like feature offer specifily playing music echo controlling light throughout house', 'look great', 'love listened song heard since childhood get news weather information great', 'sent 85 year old dad talk constantly', 'love learning knew thing eveyday still figuring everything work far easy use understand make laugh time', 'purchased mother knee problem give something trying come getting around fast like enjoys little big thing alexa play song time cook', 'love love love', 'expected', 'love wife hate', 'really happy purchase great speaker easy set', 'using alexa couple day lot fun new toy like new household member trying learn different featues benefit come', 'love size 2nd generation echo still need little improvement sound', 'liked original echo shorter greater fabric color choice miss volume ring top plus minus button big deal ring w comforting well like use standard usb charger port instead previous round pin guess sound seems work still answer alexa echo computer like', 'love echo good music sound playing alexa understands command difficult time find specific playlist song spotify good amazon music lacking major program', 'love alexa use play music play radio itunes play podcasts anypod set reminder listen flash briefing news weather every morning rely custom list like able voice control volume sure continue find new us sometimes bit frustrating alexa understand saying', 'set day still adding smart home device speaker great playing music like size stationed kitchen counter intrusive look', 'love play sleep sound immediately ask', 'got second unit bedroom expecting sound improved didnt really see difference overall big improvement 1st generation', 'amazing product', 'love echo easy operate load fun everything advertised use mainly play favorite tune test alexa knowledge', 'sound great love', 'fun item play get used using sometimes hard time answering question ask think better', 'like one', 'still learning capability far pretty pretty pretty good', 'like', 'work well need learning command unique owner user like alexa learn tasha birthday alexa learn definition fine etc great', 'speaker sound pretty good small setup pretty easy bought two reason rate 3 followed instruction synching music unit know done correctly sync primary motivation purchasing multiple unit', 'device awesome', 'bought compare speaker quality first generation speaker like sound better ship daughter though like fact first generation chargeable base bought keep mobile need better sound', 'love echo still learning thing able follow instruction included package found great one u tube', 'speaker better 1st generation echo', 'thing way cool get one want cool', 'first digital assistant giving good review speaker really good cheap price prime day fun play used alarm clock going get first place ended echo go one definitely try like best number device connect purchase came smart plug 10 connect lamp alexa turn light', 'husband like able use listen music wish knew capability', 'android would allow alexa connect fortunately sister apple cell hour tech support fixed glitch running', 'far good', 'tried play certain broadway show like camelot give ne group camelot', 'great', 'satisfied echo alexa control light family room wife listen jimmy buffet asking alexa', 'like siri fact siri answer accurately alexa see real need household though good bargain prime day deal', 'love echo still learning every thing work ton fun', 'love much', 'different apple play specific list music must amazon spotify plus prime etc account must pay play music 3 star reason everything else', 'excelente lo unico e que esta en espa ol', 'still learning use far echo great sound actually much better expecting', 'work expect also good sound quality considering price 70 00 sale feature', 'sound echo 2nd generation phenomenal mention love alexa helpful', 'like google better', 'let play learn get', 'work advertised easy setup still learning', 'great sound easy set', 'love alexa bought others friend', 'love echo purchased company husband 83 alexa great say name tell joke play favorite song', '', 'love able listen music easily still learning feature available', 'really know could use device used thing need overview', 'love wish built hub', 'use primarily play music work wonderfully still getting used many thing amazon sent several tip since got thanks help', 'easy set', 'fast response amazing clear concise answer sound quality fantastic still getting used alexia usde echo full extent', 'need na na nana', 'everything expected', 'love echo work like said would 34 smart 34 home speak function everything else good', 'great sound small package easy set use fun', 'work sound great', 'sound amazing many collection music', 'setting', 'always listen', 'awesome', 'bought control fios television work well hoping time control fios discovered thing alexa play music ask great sound alexa play game play radio station play old time radio program like long ranger alexa many apps add ability day played madlibs great fun also alexa control household appliance purchased alexa compatible power strip control lighting fan tv component looking forward implementing controll also add alexa component chosen music play room component located', 'speaker excellent sound work perfectly', 'like', 'love everything', 'little nervous received new echo really tech savvy found bit intimidating first take long figure happy purchase thinking adding echo spot', 'like still learning use', 'great technology believe speaker volume quality wonderful wish bought another one', 'purchased echo dot husband father day us constantly hearing quality sound echo 2nd generation brainer best gift ever', 'work fine', '', 'clear music', 'fun use good sound quality', 'echo work well able sync amazon music device', 'work great think amazon charge another cent unlimited music 1 prime 2 buy echo', 'already echo dot echo even better fuller sound also setup let phone call made contact list great', 'speaker sound really good', 'good sound work well', 'love alexa savvy support helpful patient', 'love thinking getting one prime day discount offered could pas fun ask alexa play song group come playlist amazon prime music also connect iphone bluetooth play music pandora youtube video using alexa speaker fun asking alexa different type question information like weather news even time country downside limited data wifi plan alexa us burn playing music', 'like far lot try yet', 'love using strictly music great', 'love echo love size material speaker quality hooked one light easily work additional light thermostat next echo dot bedroom lot echo think traffic weather trivia etc', 'love', 'entire family love alexa echo part family', 'great fun getting know function product wow family fun homework help talking grandchild also echo huge bonus wait learn', 'love', 'awesome thing love alexa', 'worked exactly expected speaker great sound perfect classroom', 'love love new little gadget made life much easier like personal secretary living home hardly need cd anymore since alexa play everything need going get alexa dot soon room thanks', 'speaker surprising quality happy purchase', 'easy set work wonderful love', 'really impressed sound quality playing music device bass sound almost like coming bigger speaker prop amazon', 'still great product sound quality seem worse get wrong definitely get used within hour definitely feel like echo gen 1 sound quality better besides great addition able play bluetooth wifi even better', 'outlet work disappointed', 'great device responsive helpful', 'sound terrible u want good music get bose', 'liked sound troubling paid extra money access million song sometimes work ex alexa play italian song 34 34 understand play opera tosca response 34 sorry 34', 'easy set use bad plugged would nice take outside operate battery recharged', 'still learning way use real hit grandkids ask play music dance 5 7 yr cute', '4 5 5 star generally like product great ask like playing music setting timer making call reason rate 5 5 sometimes connection dy echo stop playing music show red ring seems connection issue overall great product', 'work great upgraded echo dot full size echo happier', 'alexa else say', 'upgraded lilttle echo dot happy sound', 'excellent product set ease well', 'first gen echo since first came worked well purchased 2nd gen prime day far happy seems improved speaker provides enhanced sound music', 'love echo smart speaker love volume clarity easy set wonderful gift age', 'wonderful product fast delivery', 'initially harder set called tech knowledgeable working great', 'easy set family love', 'great sound responsive voice command', 'live long without echo get enjoy music style asking alexa going greade wireless love echo love alexa', 'cool product speaker sound good spotify blasting', 'much fun alexa love able listen music across room busy something else', 'far seems nice item pick voice understands without problem day asked turn music next room heard fine used listen music check weather done thing well', 'love echo', 'love helpful use remembering thing sleep ask anything week still learning', 'better 1st gen every way except one really miss ring top volume control quicker easier grab top twist without look button find 34 34 one press time also wish bass bit better great device happy', 'love alexa', 'far like', 'thoroughly enjoying ecoo love read audiobook office simply open audiobook kindle continue elsewhere wonderful listening music mood book great setting reminder much', 'still love', 'love', 'love sound quality unit clear sound', 'listening talk radio morning turning light etc system excellent job full house sound system streaming sirius', 'week still learning alexa learning process love music call time listen podcasts radio station started keeping shopping list grocery list love search paper pencil getting time temperature great wait weather report sound good fussy woofer tweeter base etc echo fine afternoon going try dropping son get home going surprise', 'much feature', 'great sound quality great feature great product multi room music cool', 'cool', 'everyone echo two three bought echo qvc', 'annoying everything show alexa able downloaded spend much time trying figure phrase machine may well look', 'alexa since beginning accidentally spilled water replaced 2nd generation decided without echo setup easy working within minute', 'like able tell alexia music want hear sometimes trouble finding song specific title', 'like look better original echo moved old echo basement family room nice sound', 'echo wonderful still learning use music request somewhat limited', 'know half thing asked recognize sprinkler wifi controller even though product detail say compatible program change wifi thermostat setting matched wifi router handy music player amazon music', 'love', 'awesome understands kid', 'pleasantly surprised sound quality many feature nice easily hear particular artist hear book simple command looking forward exploring option device', 'met exceeded expectation easy set really quick response', 'like fact get kind music prime want request alexa liked informative photo little pamphlet wish included connect tv etc command alexa really love music', 'found way access echo thorough prime account think part top line video music etc also think setup app define example music like well integrated echo tried ask playlist echo sure even though set play list setting also like fact word exact match playlist name never remember like ready nature echo respond query', 'great item added audible book make even better thank', 'prime day 2nd gen echo sale resist beginning smart home set happier say alexa done amazing job connecting smart device thanks control light smart plug tv etc trouble connecting echo wifi phone app work perfectly fine let add skill routine smart device timer much sound quality good enough since audiophile alexa hear voice even watching movie high volume design great modern definitely add nice touch home change cover like sale overall great addition home enables many possibility yet sure add alexa home', 'versatile fun', 'work great killer speaker wife son love', 'regret waiting long purchase item surprised pleased sound quality', 'stopped working 2 week follow command really fun working', 'far love working getting thing set love grocery list app', 'performs pretty much expected disappointed provide terminology need play various kind music without subscribing amazon music service understand music choice may limited without knowing ask access music provided free along echo purchase chart showing language need use', 'easy set', 'like product except speaker high quality expected', 'great investment alexa helped made laugh', 'yet another exho home love', 'love plan gender music big band jazz easy find local radio sound good stop voice command get phone call', 'good value', 'super easy set loving new echo', 'whats like speaker ask alexa', 'best father day gift dad joked mom alexa one listening repeated story going forward', 'great addition breakfast room kitchen tune information instantly available slowly learning feature', 'sound quality', 'sad joke worthless', 'entertainment', 'good quality', 'work great sound great miss beat wish battery better portability', 'loved till someone stoled afford replace yet going', 'alexa rock', 'got gift love never would bought one allows play music amozon prime music worth also give new brief tell joke', '', 'mom bought echo dot repeated ask take one great told two day made take 6 hour later could live life without amazing four large speaker small echo dot returning say going order alexa speaker go big get echo otherwise tou returning two echo dot live without', 'love great product', 'easy set user friendly', 'really disappointed alexa plug wall socket time fault checking made assumption company technologically advanced amazon would sell product rechargeable battery could return would apple music boom speaker give flexibility alexa', 'think 34 2nd gen 34 sound good 1st aux could add external speaker going get dot 2nd issue unique unit understand override default prevents playing blue tooth speaker playing 34 group 34 get delay using bt speaker unit heard able play group using bt speaker', 'everything', 'like interaction asking question like ask setup schedule connected lamp', 'supberb sound definitely worth extra money listen lot music', 'really love amazon echo think sound quality great lot fun really handy music get update weather sport', 'love grandkids', 'far worked well always intuitive link different device skill getting hang', 'work advertised', 'love', 'love new addition house speaker quality great love alexa two complaint suggestion future series would better communication ability example smart light house unless specify kitchen light 1 kitchen light 2 prior command either respond say recognize may want alexa respond say thank afterwards repeat alexa thank time respond husband know sound odd laugh maybe southern thing want alexa manner', 'like everything music trivia game weather', 'described received time like automatic enrolment music', 'great device', 'owned echo overa year new lack easy way increase decrease volume without telling increase decrease volume hard wife since english second language born korea sound echo superb keep', 'love kitchen work well', 'nice impressed wish say though', 'love product nice easy access much info', 'got great sound bass work time still hot miss recognizes thing', 'still discovering echo', 'amazing paroduct', 'good hearing range sound quality bit complicated set quite understand lot even speaking slowly clearly love flash briefing feature interfacing abode home security system', 'speaker sound good', 'absolutely love', 'best part product control thermostat light house anything dislike', 'thoroughly enjoying amazon echo installation easy using alexa app purchased 2 kasa smart plug control living room light installation easy using kasa app sinqued right echo enjoying playing music echo sound quality awesome added kasa smart bulb kitchen setup seamless looking forward adding automation home', 'home entertainment', 'cool product easy setup fun use sound quality much better anticipated', 'love great sound easy connect use', 'work fairly new smart tv mainly tv manufacturer lg fault due supporting anything older tv year smart lock also need additional piece equipment order connect well speaker sound great work well', 'great sound little speaker', 'enjoy', '', 'cool', 'good quality great sound quality', 'work perfectly', 'great product sometimes alexa understand command fire tv fabulous speaker', 'love echo great sound smart', 'sure love', 'play great', 'work absolutely great', 'amazing product great sound quality', 'best thing invested thank much', 'extremely impressed item bought 34 warehouse 34 34 outlet 34 34 minor imperfection tell even one work great come packaging sealed damage missing anything like sound quality see knock bose great family easy use minor learning curve learns voice integrates seamlessly amazon service wait get classroom lot fun even speaker let alone plan', 'love echo show bedroom wonderful music info sleeping sound', 'awesome life changer seriously able start morning alexa 34 wake 34 alarm playing music gotten used voice another room 34 listen 34 say love echo hesitate get one price speaker unbelievable buying cordless holder take echo anywhere love purchase love alexa', 'super impressed alexa prime lapsed play anything smart enough differentiate among spotify account use either randomly speaks nobody talking today unplugged sure ever use alexa', 'like everything', 'liked 100', 'never issue buying use electronics long get good like new read comment see used', 'family really love new echo', 'bought wife love', 'fun got today pod go car use house', 'like', 'third echo worth every penny like 3 household employee small flat rate keep bedroom living room drop use intercom listen music answer quick question alarm wake school etc', 'listen music set timer', 'received echo perfect condition device easy set responds quickly without issue alexa great addition family', 'good sound like music scheduling like get random thought recorded think joke cute', 'purchased beginning learn far pleased amazed different action perform enjoying looking forward learning option provides', 'echo great others even though smaller', 'funny buy something look fun wind totally useful part home loving', 'bought replace 34 dot 34 living room speaker slightly better hears better tv unfortunately understand respond request well dot frequently request 2 3 time get want dot usually exactly want first request consider upgrade', 'good experience far second generation echo many thing learn time yet right mostly enjoying music weather update using alarm feature personality also purchased mini smart socket yes excited begin using', 'trouble connecting tv exactly tech smart sure one grandson figure far using mostly music', 'simply love echo hardly watch tv anymore busy listening music speaker pretty goo size fun skill really make echo fun whole family', 'enjoyed entire echo experience', 'easy set', 'echo amazing device many time seems intuitive time ask something seems clear simple get result installation fairly straightforward messed several time simply thought step complete actually made lose ground figured advice patient app let know move next step biggest issue moment several echo device home would like use intercom told done however make echo aware others existence ask alexa answer instruction change name know likely fault would think designer would anticipate make easier find needed instruction small deal many device savvy people challenge', 'loving much', 'original alexa tap far 2nd generation best happy see making improvement new one would great update little think would help lot bug happy play music throughout whole house adjust bass treble thank', 'pleased echo 2nd generation nice alexa available music weather news probably lot discovered', 'pleasantly surprised sound quality echo big fan deep bass might sufficient though potential control home option explore evolve home smart home voice recognition impressive stylish fun regret purchase great technically change people ask play song movie responds instantly elderly loved one would great gift connected wifi simple use want unlimited music control sure amazon prime premium spotify blown away personal dj even conversation echo embarrassed say echo made laugh couple time ask tell joke tell package since amazon prime addict come extremely handy', 'easy setup love thing', 'alexa throughout house future arrived', 'already alexa amazon find today could resist getting echo also best thing ever use side house happier', 'arrived expected', 'bought week ago everything product excellent forget buy charger ordering must take outside pool worry hiring electrician put outlet yard', 'terrific', 'love echo', 'smaller original look nicer', 'work great', 'husband would call 34 late adopter 34 come technology decide would try echo serve primarily music source wow amazed great sound also great time listening favorite song buy asking alexa may even buy one elderly dad think enjoy one listen music even place call u', 'really enjoyed changing directv channel play iheartradio pandora adjusts ac thermostat turn living room light outside light', 'wanting one bought prime day absolutely love', 'glad got echo bluetooth speaker alexa much stuff non smart speaker personally love timer feature helped cooking multiple thing simultaneously pandora integration another feature use daily happy prime day purchase get echo hub echo dot future', 'see subject line love', 'love', 'easy setup', 'hesitant buy echo echo dot seems good enough echo except sound quality really feel needed however glad got difference sound really far superior echo dot listen greatest showman little power', 'sound quality great still learning different thing fun', 'got good deal work great prime setup bit pain fault crappy internet service worked great nice sound small speaker', 'love', 'work great perfect office', 'love one inside house one pool good bose speaker around house', 'easy use amazing', 'nice product', 'love echo totally amazed speaker quality bummed buy two since got prime day', 'responsive great sound quality size', 'efficient amazing cool use often every day', 'impressed quality sound echo definitely comparable bose mini gave 4 star use apple music account', 'technology small device price good sound amazing must feature home', 'mainly use music learning time really nothing bad say', 'replaced 1st gen concerned smaller unit sound wrong anything volume clear good product', 'great addition echo plus', 'best', 'love feature play music every room multiple echo', 'love alexa surprised much use', 'use product enjoyment love', 'easy use great sound great purchase great price', 'easy set issue', 'unit add much pleasure echo plus music information home one room', 'extremely useful simple thing like spotify audible thing like sometimes answer everything ask still nice use', 'difficult set keep timing enter password', 'getting use using echo used shopping list listening music timer working great far', 'cool lot fun used week still learning capability', 'love love', 'love hard time setting apps', 'use office another apartment music information', 'great music little hard figure work', 'given 7 year time birthday gift dad love ask alexa anything answer plus good homework purchased one prime day bathroom getting ready work listen music 4am base metro booming replacement clock radio plus echo dot night stand alarm clock', 'impressed look clarity sound color', 'alexa amazing great speaker', 'still getting used alexa connected tv yet thing right use music information great', 'work sound great house barely 1100sf sitting kitchen counter hear speak room lot functionality still discover', 'pure fun echo weather joke news briefing music still much use lot fun money', 'use time especially communicate kid throughout home', 'love still learning make lot thing easier like forget turn light another room ask alexa turn light', 'bought daughter turned 9 love especially like calling feature since cell phone love playing music dancing amazon music play favorite song sometimes lol', 'got wedding gift discovered feature yet update playing music great though', 'impressed sound quality', 'pleased purchase echo smart speaker love fact play music different genre whenever want trouble first wi fi working', 'wife enjoy ease playing music game fun entertaining look forward adding smart product home', 'second echo love help kitchen set timer listen news prepare grocery list get great music', 'sound quality good wish alexa could answer question', 'second echo dot speaker weak purchased listening music speaker great', 'great sound', 'great', 'really use speaker stream music 7 month kinda useless', 'set user friendly set user friendly hoped alexa app able download pc without installing invasive driver wife retired able install alexa son supplying smart phone using alexa yet', 'easy set really enjoying', 'echo come built battery plugged time use make quite inconvenient', 'compact bit better original', 'love pretty cool', 'living room music sound really good living room hear upstairs', 'great product set easy sound wonderful', 'far like bought music though sound pretty good', 'love', 'love', 'glad bought', 'like type fun music', 'like volume top turn quickly', 'beyond capability program grandkids lve', 'love new echo give hour music help thing difficult set help tekkie', 'almost good bose love whole house music', 'alexa hardly came', 'easy setup using app also easy install phone sound quality listening music pandora wonderful', 'still learning use echo far love', 'work awesome', 'work great', 'small speaker sound great', 'great sound size prize course alexa', 'echo definitely need one', 'great device seems work better 1st generation', 'useful', 'great prime day buy', 'love alexa', 'alexa easy operate set 10 day love', 'great speaker lot capability fun learn use', 'used product phone look weather watch video', 'use much thought would synced kasa cam use check baby crib lot lyric music cool used clock standard dot ish feature', 'amazing far got day', 'like smaller never understood command easily first gen original echo', 'worthy successor echo dot right home bed room alarm clock however price come stand', 'love device functionality amazon echo added benefit video screen look great nightstand clock lot face choose display weather reminder etc think video call use facetime anyway great shape take lot room planning get another one guest room awesome great price', 'love echo spot bedside alarm clock size device theecho show concerned already large echo mybedroom answered alexa like device home wasconcerned device answering time discoveredthat name choice enough enough avoid confusion named echo could choose male voice loved could link tomy security camera new doorbell many feature forget buy thestand base many advantage read review highly recommend', 'love little spot thought would sound great little thing music play nice loud clear video terrific watching prime show heck really impressed immediately convinced mom buy sister one birthday thing kept giving 5 star really wish cordless love kitchen trying find place plug pain connect bluetooth speaker playing amazon prime music reason drag want hear dining room dinner course cordless could bring otherwise absolutely love probably buy another one', 'bought prime day glad easy use lot customization option know review said screen small hard read disagree', 'honestly like time could bought smaller one exact thing le half bought video chat never really used', 'overall great like see lyric time date however sometimes freeze respond properly error message lack connectivity stop resetting resolve problem', 'love echo spot', 'thing like echo spot voice command feature ask anything get answer play music without getting adjust echo easy use', 'love perfect alarm clock replacement plus much', 'love echo spot great checking weather along many thing important work great alarm clock bedroom', 'absolutely love product wish would bought instead dot', 'like able get weather information quickly even hear music played speaker clear enjoying like creepy day husband played particular song stereo next day asked echo play music artist specifying particular song echo played exact song artist husband played stereo day little disconcerting', 'like echo spot bought use alarm clock one negative didnt really think wake morning somewhat groggy hard tell alexa turn alarm hard remember command snooze minute case clock button seems work better', 'second echo spot go two echo dot love look alexia responds', 'love echo spot', 'slow compared echo', 'love way designed choice face use bed side drop echo another part house frequently without yelling', 'terrific sound small device nice form factor nightstand like convenience seeing time temperature rather asking alexa using video much would nice device square rectangular screen', 'new alexa like spot lot', 'perfect really like little gizmo bought primarily 2 purpose first could set wake alarm individual day set wake music individually day second wanted control bedroom light voice could shut falling asleep without get bed turn switch echo spot together smart plug able accomplish bonus getting alexa play music amazon prime playlist great sometimes alexa really hard time understanding instruction repeating altering way say thing get pretty frustrating hopefully ai get better future along added function', 'love easy use', 'put night stand use clock alarm work great every morning get weather news get also reminds appointment wife', 'love', 'part fault thought could wireless though price still feel like also sound quality volume could better prefer tap unless really want call option today u phone computer ipads worth', 'easy use much quicker looking everything cell phone', 'love new echo spot', 'love clock tell set alarm fussing button', 'pleased amazon hit one park look great run great love', 'responds easily like ability night', 'easy setup love', 'simply amazing awsome device never cease amaze wake big bang music go sleep softly falling rain drop kid keep touch scratched surface devise', 'skeptical first 34 34 grows look good far however turn camera', 'sound quality disappointing', 'love especially love small much got rid old cd alarm clock radio much room nightstand', 'great sound video plus great stuff alexa offer even turn light', 'ease use product', 'far pretty happy spot really glorified alarm clock radio know could something cost effective eh like read review scrolling issue saw one make stop far good', 'entering 34 smart 34 technology world figured yet far pretty cool', 'smaller anticipated say much mean however still work well quality sound easily programmed easy work alexa anywhere good voice program', '', 'love echo spot', 'great deal great product', 'perfect', 'couple echo dot previously bought specifically ring doorbell video cloud cam display interface capability disappointed love fact ask see front yard back yard front door etc video chat room also quite cool bonus alexa show ant man trailer etc know done laptop desktop cool appliance always interrupt', 'bought bedroom show living room love spot perfect bedside impressive design show lyric photo etc paired smart plug bedroom lamp 34 alexa turn light 34 love', 'love much sits nightstand improvement would make battery back capability screen could tad bigger overall happy would recommend', 'gift recipient love love love', 'cool little piece tech still learning function possibility see potential even technically challenged wife already figured video call daughter', 'extremely impressed device whole completely changed sleep schedule replaced alarm clock perfect bedside counter device alarm wake music weather top news story etc perfect device wanted much expected calling feature also huge selling point must item probably grab echo future', 'alexa device work well product unfortunately go ability play video limited play youtube play video cropping screen make look strange quite selection clock face control display one glaring annoying exception turn 34 thing try 34 screen turn screen scroll defeat purpose screen need reminded every 5 second thing alexa need advertising especially cost device overall expensive alexa device screen useful annoying would recommend amazon people get act together come screen actually useful', 'far good', 'device perfect smart nightstand clock love dims based ambient light room first nightstand clock bedroom year lighting glow typical alarm clock bother trying sleep screen dims light room go bothersome overall great addition smart home nice able tell alexa turn bedroom light without even getting bed reaching phone bunch alexa device first one screen', 'love thing talk wall room amazon lover amazon music unlimited kindle unlimited prime video etc ready came screen nice thing resembling side always perfectly understand song want hear deep southern accent lower alabama speak english anyways', 'smaller thought would happy got stand sits higher bedside table', 'echo spot work well except work ring doorbell state website since sold pair thought would app ready unfortunately case perhaps ring update integrated', 'nice', 'like', '', 'owned number echo device viewed toy tool playing music sound system found much use find voice user interface efficient echo spot solves efficiency problem displaying information routinely interested furthermore basic navigation using touch screen well tailor setting use bedside clock', 'love echo spot waking favorite music able completely turn display night bedroom dark skill yet try easy use', 'like small still able see ring camera', 'great checking son school still work love getting weather traffic morning plan route accordingly', 'love super fun easy use three year old even get involved', 'returnef item speak spanish', '', 'hardcore fan echo infact love member alexa family echo echo dot echo plus new toddler echo spot every variant beauty love feel size echo spot fabulous far look concerned great audio quality expect time placing order compact small size bought connect bose soundtouch', 'love', 'love able alexa sing careless whisper ear wake', 'work great bedside clock microphone alexa work well normal echo sometimes alexa hear try interrupt give new instruction speaker also good normal echo screen small really useful viewing type video seeing front door great bedside', 'fun tech toy', 'love small good sound', 'combination smart plugins alex app turn stuff phone telling alexa order stuff get answer watch video get weather set alarm video call much device', 'great product', 'matter minute became indispensable addition house extrimelly useful hub information music automation communication assistant basic need would love voice personalization thing better said aloud typed like door unlocking code problem unwitty developer far positive experience privacy invasion happened way alexa phone matter brand carrier alexa defence list button turn microphone', 'love device great great alarm clock surprisingly good speaker reason give 5 star need feature like playing youtube video google play music camera good low light decide drop dark room minor thing love great buy would buy', 'hand free control', 'great love display easy use though still learning everyday', 'able interpret instruction pretty well right start even distance lot skill excellent added late show flash briefing ridiculous access youtube might important note adding event calendar task seems difficulty time span event imagine functionality people would use often', 'setup easy fantastic alarm clock', 'great product highly recommend getting stand go sits much better desk', 'eh cool also kinda boring really know desk clock 3 5 right connect spotify unless premium college paying amazon music', 'huge amazon fan first kindle echo waited bit wanted awhile love kid love love watching video lyric song video calling feature nothing like advertisement made thought long someone would facetime could spot spot even skype often aunt major disappointment', 'love love love think notice pick voice command well echo echo dot 4 echo product throughout house kitchen bedroom alarm clock longer searching pen paper make list', 'love amazon product', 'love', 'love spot dot regular echo', 'nice upgrade echo dot', 'work decent wish able answer question need better source info rest work great', 'live without alexa', 'really like screen major plus', 'didnt think id get alexa device perfect home office screen add little piece make worth extra cost alexa device show lyric song play xm radio show video movie trailer news great', 'love made group echo dot get music home waiting go sale hopefully get another spot bedroom love alarm weather sound voice', 'first received product great however week ago device served video advertisement around 10 30pm night scared family want make sure protected allow video directly home spot device keep safe', 'fun use make life easier sense', 'love', '', '', 'got echo spot prime day love think still little expensive chance save 30 convinced buy basically use radio alarm clock old radio station would sometimes come clearly also like sleep sound skill hearing weather still exploring skill discovered star trek sound alexa beam fun', 'love replaced old alarm clock bedroom love dims night responsive command', 'love spot even expected great size bedroom', 'far good got trying figure thing product well made easy set', 'couple day alexa answer disconnected see better reconnecting', 'perfect may favorite alexa device far specially ring camera amazon cam job really well changed echo main living room seems reactive good job amazon', 'great use music mostly', 'receive call really hard call someone another echo', 'first step smart home soon added one item grocery list started loving wife til opened rain sound convert love dot', 'like little spot guest room alexa enabled', 'love echo spot three house like drop spot wish clock face customization option face general', 'smart sweet design', 'far ok', 'love bedside clock alarm radio face dimat night bright sleeping', 'love product use bedroom clock perfect size lot option thing would like see add ability fall asleep mu set timer go like tv hcfe sleep mode', 'love glad purchased', 'wanted see security video camera without use phone work great extremely easy set', 'echo spot great', 'bot 2 prime day one use clock radio bedroom one family room control light watch front door doorbell ring music sound good good echo way better dot could buy 1 amazon device would spot', 'bought two one office one bedside table fantastic screen big enough using drop feature communicate mom wait prime day get one mom bedside table', 'fantastic product absolutely love', 'love', 'like product bought prime day week 30 cheaper prime day still really cool device wish would waited', 'still learning ise disappoint giving everyone christmas check unnannounced like show advanced warning', 'helpful daily activity', 'exactly advertised', 'nice', 'expected use timer alarm shopping list calendar event news weather much', 'great', 'really like work well trivia game shopping fun sometimes misunderstands say speaker decent video chat good need well lit room end see lol', 'fun work still learning everything', 'awesome love show lyric song', 'love alarm feature tell time', 'think dot listens better spot', 'dot upgraded like complaint short instruction', 'big step dot dropped one star due consistent delay bringing ring pro video though look great feed displayed', 'easy set use bought two one house one 75 year old grandfather set gave 15 minute lesson call least day great able see visit', 'wanted use clock bedroom font small see distance apparently change', 'great size bedside plus dims night', 'love work great issue drop facetime like feature sometimes lag could possibly issue wifi located house', 'love meditation music use morning alarm mention general love', 'know like like one alarm clock alexa device know looking get alarm clock one get yes much show time show weather touch screen show music lyric thing typical alexa device quite loud size well sound way better echo dot also video calling pretty awesome viewing angle great even sitting fairly high still see display well enough', 'quick easy set', 'hoping better clock face make alarm clock replacement display brightness dims much night accomplish task display work well camera viewing attractive device decent value 99', 'great device', 'fan echo device think great alternative clean clock like using adjust lightning room listening sound help sleep two year old sleep much better also use tell two year old story issue volume alexa speaking tell turn light loud volume set want listen music night', '5 echo device consider addicted little number awesome like display sound great dependable functionality echo device one feature really like slowly dims turn bedroom light night light bit love echo device run place put', 'enjoy little thing lot almost anything like joke tell still learning different function', 'meh', 'best looking echo device easy use', 'helpful product glitch eg inability occasionally access flash briefing station understand answer certain question amazon likely fix improve', 'like convenient', 'love size echo spot fit nightstand capability echo show like going sleep lightening storm image along sound relaxing calling messaging feature great small enough take travel love alexa product whole family us', 'amazon alexa nice wake morning alarm great prime lot play song want play even make playlist favorite song love alexa game play ad watch video movie trailer screen', 'love spot', 'easy use easy set', 'love echo spot daughter son law got birthday alexa wake morning play music ask', 'product currently two related software flaw make completely unusable 1 34 card 34 homescreen called 34 thing try 34 ad alexa service try turn homescreen card one 2 default homescreen card 34 cycle 34 automatically incredibly annoying setting opt card 34 cycle 34 instead 34 cycle continuously 34 critically setting work unit set 34 cycle 34 card still continue cycle time rebooted device set etc etc two obvious software issue fixed opinion product useless', 'great deal prime day', 'problem', 'excelente su funcionamiento llama la atenci n la rapidez de respuesta el control que se logra trav de la utilizaci n con alexa sorprendi gratamente muy recomendable', 'love love', 'purchased prime day absolutely love echo dot nightstand really missed display perfect speaker excellent', 'yes met expectation snooze alarm need work tap snooze swipe prompt dismiss without glass read often snooze one day must dismissed tomorrow alarm never went set mon thu fri need get early apparent indicator alarm set would nice old alarm red light', 'great product like screen alarm clock', 'fun easy convenient device around house need pick phone look something word world fingertip speaker put great sound screen crisp price right device like', 'great replacement bedside alarm clock funny habit going 12am every time cleaning lady came mostly use turn ceiling fan light leaving fan running gripe would mic sensitivity appear good view gen2 get little frustrating repeat', 'product made life much simpler little one use lot music hand full turning breeze screen great novelty watch news', 'work well easy set', 'love spot act new alarm', 'one favorite amazon device one bedroom use alarm clock perfect addition home alexa device', 'sure bringing 34 smart technology 34 home hooked love sleek look echo spot nightstand easy set use also love scroll news local weather give suggestion ask alexa use alarm clock speaker sync etekcity voltson wi fi smart plug control lighting apartment', 'love', 'need harvard law degree operate thing going back soon', 'love getting use alexa getting use voice sometimes answer think internet low updating voice strong annoying stuff everyone complaining thank goodness listen review paid attention apple guy', 'product turn randomly sometimes night', 'used alarm clock lov', 'much smaller expecting cost', 'amazed', 'alexa wake everyday work whatever station iheart radio spotify want plus get smart home device even useful really helpful answering random question small screen suck video small round nice something show time picture', 'fun far still learning work', 'purchased prime day mostly present found echo plus kitchen counter overwhelming cooking cutting cleaning etc especially counter wide begin going back forth show decided felt feature compact honestly say regret probably watch movie dying see great way listen music watch quick youtube video etc even attempted watching jaw comfortable thing eye bad one would think would definitely recommend', 'love echo spot use nightstand alarm clock play iheartradio radio getting dressed', 'easy set use thought', 'would love way stop screen constantly scrolling thing try amazon would make setting would change review 5 star', 'small business owner staff alexa driven echo spot feel like hired first assistant echo spot keep organized updated assistance need information help day run smoothly love echo spot much bought 2 kid love echo spot highly recommend product suggested improvement future version make echo spot wireless', 'bedroom clock ask question weather reportsalarm clock music download music', 'speaker loud google home', 'figured make receive call device tell need register know', 'need get better control custom display ability make clock asking lot general great device glad got', 'great buy', 'gave daughter birthday love sound amazing play music constantly worth every penny third amazon device purchased 2 echo show spot', 'use product alarm clock love able set schedule week worry image shown cut little trying fit circle', 'love ease use convenience echo spot offered', 'great product would give 5 star scroll face card without stupid 34 try ask alexa 34 suggestion pop yes scroll stay clock like card well god worst irritating got super cheap face screen toward wall treat like dot instead spot dumb move amazon part', 'love command access news bloomberg tv npr etc highly recommend gain access alexa app setting device get familiar key feature service setting daily commute family friend spot great substitute skype face time always drop missing loved one catch', 'good size screen get good range voice command sometimes pick weird command watching tv though great product price need big show screen', 'good addition small space keep date event weather condition', 'best thing ever owned started dot added spot love iy', 'love coolest thing since sliced bread', 'product complete waste money ask alexa question either know answer give wrong answer find information wikipedia', 'honestly different echo dot already occasionally seeing lyric song listening really see difference', 'got husband prime day love alarm clock smart device 3rd echo device connected throughout house although deactivate camera also chose cover since device bedroom comfortable camera room bring cell phone room', 'great product tell allow 34 drop 34 drop anytime sleeping yelling anything', 'two one computer room move around deck great watching video done added sound get echo dot perfect location add whole house music arrived nervana', 'surprisingly handy wish option geared towards nigh stand like even dimmer setting', 'beta list alexa show original alexa 4 echo actually like best even show', 'love', 'contacted people india suppose charge 79 00 hard understand instruction control computer network also bought cloud cam know make work alexa', 'dot echo plus one seem 34 hear 34 well much expected', 'bought son birthday present love often find jamming music room love option alarm weekday alarm set repeat get sleep non school day', 'great product', 'love echo spot', 'excellent purchase', 'great little gadget house ask delivers period well done', 'switched google amazon helper shopping google task assistant', 'favorite echo adequate replacement clock radio', 'echo spot compact nice sound camera quality make great video chat family travelling work ease use youngest member 10 year problem talking mama video chat understands important digital security', 'echo spot great love', 'voice recognition amazing perfect companion bedroom', 'liked perfect size screen really clear elegant', 'easily impressed electronic goody omg far coolest thing ever everything short clean house asked alexa clean house told hand instead played fantastic playlist cleaning reading book five year old video chat silly selfies music automatically go bose bluetooth speaker setting timer alarm changing thermostat voice command tell weather sends hubby grocery pick list sure million thing buy u regret', 'product beautifully designed longer hide echo device away like dot would nice amazon would lose camera though used might cause squirm privacy conscious', '', 'love little dot screen super easy set easy use instantly connected echo product also bought screen cover blocking button camera want use recommended', 'alexa smart siri cancel snooze alarm go cancel pre set alarm weekday', 'great product except possible way act clock display time permanently clock mode screen rotates clock face thing try screen intended buying several unit house need screen house permanently trying upset acting clock basic feature echo spot could get wrong amazon fail', 'wanted use bedside clock ability play music podcasts sadly continuously scroll 34 thing try 34 stay clock face amazon get one back', 'hand free calling house misplace cell phone time real blessing really enjoying streaming music', 'got elderly parent easy use instruction could informative', 'thing great fantastic alarm clock', 'love using bedtime reading audible kid friendly see liking kitchen cooking since small unobtrusive like better echo dot', 'nice gadget love look', 'happy spot reset numerous time seems slow mode practically top hear even talking support still theme menu choose', 'husband love', 'love', 'love spot awesome little guy precise video saving buy one mom east coast spot change everything far keeping loved one connected well worth every cent', 'fine spot exact one massive failing order turn repeating alarm morning pretty much talk thing usually want first woken bed partner definitely like yes manually swipe alarm face dismiss swiping rather touching screen half asleep difficult result setting snooze half time even really try swipe dismiss ii manage swipe dismiss completely delete recurring alarm especially annoying amazon could easily fix simply making touching screen turn alarm delete least make setting decide whether touching screen recurring alarm snooze turn clock year still adding setting clearly going happen may biggest product design screw amazon ever made', 'excellent', 'item returned repair receivded item back repair 07 23 18 part missing power cord included please advise', 'awesome item buy two', 'awesome echo echo dot spot disappointment little control screen show clock look like order thing show etc point thrown box away immediately would sent back got another full size echo', 'replaced clock google mini nightstand outstanding little device hope update give simple face font color option clock', 'love echo spot', 'every ting thought would plus going mom right get playing', 'fascinating thing ever bought', 'sound quality le dot microphone pick well model echo dot picture quality good', 'awesome cute smart', 'product force user review alexa thing try way disable', 'absolutely love much persuasion friend finally gave bought one let say moment alexa enters life turn around tell siri get hell', 'love love love', 'great', 'first alexa device fun discover way use biggest con drop feature pretty creepy', 'best thing since sliced bread', 'used baby monitor purchased realize read review alexa skill syncing nest cam considering poor review fact simple fix surprised amazon upgraded software allow 39 minute viewing alert like get nest app', 'would 5 star could turn 34 thing try 34 screen read buying spot amazon please update enable u turn extremely annoying look see time instead see 34 thing try 34', 'love great use', '3 amazon ignoring customer using device marketing tool customize screen content turn advertising thing try people suggest turn content change acceptable option moreover increase size slightly improve audio speaker would give 5 star device right debating whether return 3 device wife say', 'never thought going person completely connected purchased another echo product prime day fell love one office one kitchen already used morning briefing news getting ready day well look recipe screen big enough easily read writing concern loved much purchased grandparent parent easily video call tend issue computer video conferencing tool note purchase camera cover even though button 34 turn camera microphone 34 impede operation camera worried work around', 'love love love echo several echo dot love video clock longer wake say 34 alexa time 34 34 alexa weather 34 even watch video forget kindle bed', 'purchasing echo spot add 4 amazon echo pleased echo spot use arlo security camera ring video doorbell work without problem', 'disconnect often', 'much knew bought pretty much run house help fall asleep take care schedule entertainment', 'love love far received thursday unwrapped set immediately programmed problem reoccurring thing try set rotate show time like want love low ambient look night', 'best alexa enabled device get versatile useful sound way better dot good regular echo screen make difference world', 'needed alarm clock fit bill perfectly believer amazon echo alexa fire great customization option alexa always helpful sound quality also surprisingly good', 'going shell extra 20 buck stand come angle best ever using biggest gripe already spent arm leg come stand', 'love except amazon need reference one cohesive link full user manual hour research website plus instruction alexa skill would great often get answer know skill even though added app e kwikset pizza hut', 'handy item night stand read night get set day morning calendar weather view', '', 'got prime day figured see hype honestly really want like personally bugging house seems kinda weird honestly love like way world going loved much ordered 2 get show look like came 1990 downright ugly interest watching anything device anyway spot screen bother although clear alexa hear pretty much everywhere favorite part living room hooked bluetooth soundbar say play song want guess could pick smartphone know much easier interact medium using voice rather navigating multiple page one thing fan home screen card really rotate much also rotate playing music love display weather listen music screen clear also really enjoy alexa able tell commute great skill download tell traffic 5 different place program name say alexa give traffic parent tell best route time arrive current traffic programmed parent fiance parent work work really work great one thing actually preferred dot spot dot light different color package notification seen spot really much package notification yet dot easy tell something delivered would recommend amazon exactly dot spot dot light color spot way command alexa get blue ring make ring yellow package updated delivery overall great device looking forward integrating home around already looking dash button smart plug etc become home owner instead renting tinker thermostat purchasing nest road hvac integration', 'screen response time way better expected sound quality good also bright turn screen option dot another room ever hears better one responds', 'love', 'looooooove thing watching movie bit disaster round screen great chachki toy', 'gave echo spot gift mother law love play music genre easy use', 'easy set said satisfied far', 'great product need bit adjustment set spotify time weather etc hong kong work fine used alarm clock music bedroom love', 'bought replace dot bedroom already show couple full sized echo unit house spot okay two issue one minor one major minor one include huge bezel front take space make display larger total waste usable space major one also involves show used device need see 34 thing try 34 whenever use voice command even setting rotate start crap dare actually use device child need told hundred time play music nightstand seeing highly annoying tip outrageous unit meant used next bed amazon fix give u option turn nonsense want see clock face period silly nanny reminder', 'product look adorable room love recently bought mom one gift prime day wait use', 'love spot', 'loving way google home device using couple month amazon prime subscriber value greater google using listen free music prime better alternative audible even watch movie display little small lot watching sound louder youtube need available issue put 3 5 4 star fix one youtube 5 star item alleviate sound paired blue tooth speaker right sits living area think shine office desk great offer could see purchasing additional nightstand amazon alexa item household felt happy adding house felt stupid using google home', 'like alexa device small', 'wonderful little alexa enabled gadget like analog clock face best', 'love love love bought prime day buyer remorse got love first sight', 'like echo spot fit decor also sing along favorite song', 'best bedside clock assistant ever', 'omg start love thing none bad say', 'work described', 'get rid 34 thong try 34 screen numb nut', 'used yet sure great others get amazing echo echo dot greatest technology ever came', 'excited happy breeze set favorite feature reading kindle going sleep thunderstorm music', 'still learning use thing sure smart haha started reading book yesterday get one like way control brightness light turned night', 'highly recommend spot connected kasa camera convenient ask spot 34 show camera 34 someone door love soon amazon good sale getting another one good job amazon', 'echo work fine get indundated 34 thing try 34 10 year old need stimulus tell thing found way turn except turning screen find suitable fix go back', 'great wake music told weather', 'bought replace sony dash remember sony decided pull support entirely work great use alarm clock weather station background music player voice control light throughout house biggest gripe device knocked star turn suggestion 34 thing try 34 annoying stupid design decision since control turn thing want see cycle content screen software update two would help improve especially full control want want see content rotation', 'turn 34 thing try 34 screen scroll big promotion device amazon packing sending back really want get head enough already', 'love everything product bought two one household one mother law video chat emergency easy use older folk', 'thing woke middle night saying ready setup already setup simple thing check time asking wife happy', 'echo spot really great got easy set one problem advertise show screen time weather town sadly way make home screen home screen time spoke support wonderful lady tried researched 45 minute avail disappointed wanted screen time occasional screen rotate hoping something great', 'product attractive somewhat useful amazon chose force user view thing try trending greatly depreciates value product buy unless willing view billboard amazon', 'echo spot really helped streamline day efficient reminds appointment warns traffic snarl tell weather every day suggesting new music introducing new artist', '', 'come amaonmazing way smart speaker wake alarm security blanket infotainment center one connection world night hour mostly sleepy zonked zzzzzzz still access world without reading glass late night sound amazing size hear far awake mostly say 34 must device 34 yep true statement', 'got one son prime day love want one every room would excessive', 'one word amazing best tech purchase ever made control device house even pool', 'leaving enough attention span read instruction stop screen rotation swipe clock screenselect settingshome clockhome cardsrotate onceproblem solved', 'nicely constructed wife wanted second kitchen order second one', '', 'love little gadget replaces old clock basically love listen music morning get weather update news brief let know amazon order arriving delivered etc yes little pricey purchased amazon prime prime day delivered day 99', 'http www amazon com dp b073sqyxtw ref cm cr ryp prd ttl sol 18', 'love little echo spot replaced older full size echo little guy round screen interesting choice sure like look growing speaker could slightly louder solid echo product', 'good siri still positive great playing music setting alarm personally felt paid much product nearly half prime day literally day purchased pretty disappointed might still return get money back', 'received gift writing initial thought compared google home mini pro way easier setup google home mini able connect smart home device unlike google without issue making phone call clearer receiver understand con need enable skill get functionality google home built functionality search web answer question easier amazon echo could connect youtube', 'love', 'well made product echo spot white', 'installed back porch work well get wall mount also work well', 'thank god alarm clock lcd get dim enough sleep light sensitive sleeper wind taping black tape stuff bed room guy alexa feature nice listening music night great enjoy falling asleep meditation podcasts though use skill anypod get podcasts like video kinda tiny useless size expected audio quality much better echo dot', 'love thing first thought stay clock would suffer ad forever light sits clock comfortable eye easy set love', 'got expected great almost swell show', 'love thing people think crazy paying much glorified alarm clock care waking good mood pretty important help glad deal old eeaanh eeaanh eeaanh alarm excited say alexa turn light smart plug get soon got camera privacy slide since bedroom', 'absolutely love user friendly got kasa cam go monitor living room super easy set operate wish actually came camera privacy cover pivoting stand buy separately looking forward future software update different clock face like digital miss colon hour minute also like see celebs jump board alarm voice really complaint nit picky point worth every penny', 'surprisingly good beefy sound thing think might shape one favorite echo device nearly', 'given gift wife compliment echo love', 'gift one love word song great live face chose clock favorite echo unless listening music', 'little 3 week absolutely love easy use basically using smart alarm way screen quality great look super cute sitting night stand know lived without long decide whether buy go regret', 'fairly useless', 'bought spot loved within month started acting funny would stop working called determined overheating told unplug technical support would call within 24 48 hour waited 48 hour without response replied email asked wait week week go absolutely response inline chat per instruction told wait longer really unacceptable expected amazon find funny always thank prime member issue arises even get assistance', 'much easier use dot pick voice farther away speaker seem lot cleaner sounding screen nice perk use bed time listen prime show bed screen small watch show display alarm print know alexa heard correctly make clock face personal picture complaint add stand standard need spot desk definitely needed beside bed many people complain basic alexa program still new tech going split hair echo good dot spot better dot alexa get better time skill increasing weekly alexa even tell difference son voice think amazon working overtime project gave feedback ask able self made list make name list anything used alexa talk even staying hotel found alexa time alexa', 'buying another product option bundle one extra 30 thought well glad really enjoying echo spot read story girl play music give u news much responsive many skill enjoy', 'size screen thing 25', '1 6 echo device house currently deployed bedside alarm clock use basically echo dot clock attached may occasionally pull camera video audio quality screen quality really appropriate music watching video much time work well alarm clock serious flaw particularly last one bed first wake seem like engineer actually tested bedroom 2 people different schedule try walking dark bedroom sleeping wife waking saying alexa set alarm 5am alexa repeat ok alarm set 5am good suppose could whisper fumble volume button stupid plain simple device need brought 1990 simple touch screen interface added set alarm know cumbersome interface situation one set alarm alexa app phone thanks picking phone set alarm use built alarm save step least engineer allow alarm turned touch screen example wake minute early cancel alarm without speaking waking spouse interface using touch screen cancel alarm gone however great separate snooze cancel button currently touch snooze swipe cancel easy half awake snooze think cancelled snoozed alarm go minute later amused longer sleeping wife let know summoning alexa turn bathroom light shower', 'bought mother love want get one', '', 'invasive scared crap speaking spoken creapy af', '4 5 star original tall echo 4 dot 2 spot 1 show thing finding problem speaker spot using drop sometimes heard spot vice versa voice tends break sound coming intermittent optical fine sound sometimes repeat wake word 2 3 time 8 foot away plus one 20 stand find echo dot original echo show much better sound quality one reason bought echo show', 'bought 90 year old grandmother love call family member voice play game even watch video love drop time see life feel comfortable emergency could call alexa help', '', 'love thing play book audible prime music set alarm considering purchasing one get worth', 'think read mind', 'perfect', 'love spot favorite feature 34 alexa start day 34 love hear weather traffic even word day even go right favorite podcast get dressed', 'work replaced expired bedside radio alarm took realize option setting involved using touch screen maybe said something setup process', 'work great love grand daughter dig watching cartoon lol', 'gift husband great', 'said desired assistant came across spot mom two thing get hectic really quickly trying manage everyone schedule verbally tell alexa reminder timer need set voila spot given virtual assistant desired without actually hire someone mention many awesome feature alexa synced audible kindle alex read book library still excited see else spot side note wanted purchase show probably still line however sooooo love sleek little sopt', 'love product disappointed realized longer play youtube video past 30 day return date realizing expensive alarm clock hoping youtube come back looking buy echo show kitchen prime day glad', 'sure amazonia asking purchase got gift kid mother day bought account lil bit creepy really much use one call text part meh thing different alexa product', 'love love love love feel like talking computer tell everything', 'love echo show able see lyric song play able put recipe screen wonderful', 'seems work well unfortunately lot functionality lost many mentioned work google youtube problem caused google came device longer allow access device like even effected smart tv anyhow purchased communicate child grandchild see happens hand', 'love listening music still trying learn everything', 'pleasedsimple figure', 'expected already 2 show', 'good', 'excellent listen music audio book look camera around house', 'alexa fun added smart home aspect friend listens spotify husband enjoys interacting', 'tremendous way communicate friend family across country', 'sound great thing dont like camera seen anyone working amazon asked echo show show camera know saying know turn camera dhiw u recording hmm', 'used personal use like hearing weather news cnn various playlist', 'love', 'like echo show best big screen watch movie preview movie alexa answer question name', 'prime day pricing good show limited video service available except amazon video netflix youtube alexa limited also nearly useful google', 'work great great picture easy setup use', 'fact help find phone home alone worth price device', 'love item underestimated item another 2 cart waiting deal highly recommend item', 'love using echo show music sound amazing unfortunately video quality video chatting isnt great husband video chat often video come clear end say image pixelated still learning use far good', 'love', '', 'oh love echo show video news spot', 'waste money echo generation 2 really get anything video chat device would facetime skype cycle picture put slideshow mode stick first photo leave matter even looked online research article find solution also problem device shutting problem echo device price difference worth', 'tube bought known', 'second echo show home mexico one usa one u home easily stay touch see also drop house check use turn light security system home also echo dot various room love technology ask many question play music u', 'need play youtube prime video maybe netflix good sound', 'love echo show', 'great product', 'love device upgraded echo spot wish could customize clock screen analog mimic used echo spot also better sound quality device', 'love thing best toy bought awhile far smart plug connected running ac wifi light bulb baseball score weather cool music best feature', 'thing lot cooler thought would mostly used read audiobooks also love see camera work', 'really enjoying product love flash briefing timer weather report', 'love show loses connection every sure show issue internet issue overall use many application', 'work well optional camera conferencing good still feel like bezos spying', 'connect smart light phone smart device convenient highly reccomend anyone disposable income', 'love love love', 'love echo product like video phone feature check cat vacation', 'work exactly would expect right box love able hear see need device loved regular echo show much better work wonderfully music especially paired amazon music account perfect ring doorbell love', 'absolutely love kitchen use cooking speaker amazing', 'week far good enjoying', 'love product idea super easy set get started breeze routine task set alarm timer add item shopping list play music get news anything supposed sound good imhave sitting tinny found one thing hate would keep recommending anyone delete nice screen continually running suggestion ask alexa unless turn screen totally go bed bad bc like continuously running advertisement set guide attractive echo show sale prior prime day le echo figured getting great deal money trying decide device start ever present script nice device look would buy recommend go echo may still exchange product', 'excited see', 'great music video calling kitchen timer probably bunch reason gave 4 instead 5 star ever floating thing try home screen purely aesthetic complaint hopefully soon amazon allows option shut', 'love idea star trek computer home skill great natural language work mediocre', 'got gift cool view news recipe shopping list much', 'love easy set far wish little set instruction still whole lot would like able idea really like', 'second one one kitchen wanted another home office amazing quick look working live busy life help keep track work personal appointment buy holiday gift whole family gift organization information voice command away', '', 'waste money echo gen 1 echo gen 2 dot far better job voice recognition echo show fact bad virtually useless also speaker incredibly bass heavy much hard understand voice worked adjust bass punch mids treble still sound awful finally screen add much see across room rarely activates meaningful way distraction help using facetime much practicalthan using show surprised amazon make little useful perhaps future waste time money', 'love everything', 'thought would powerful lot functionality much better echo dot worth money', 'purchased echo 2 week ago love product would definitely recommend', 'loving new echo show video screen add much value potential movie tv show song lyric extra feature available echo show oh also built camera taking pic', 'wife using skype year talk parent daily constant technical issue since father 88 lot ask man uninstall reinstall reconfigure skype saw sale jumped wife resistant 34 learn new technology 34 told work like video phone saw new york world fair 1964 54 year ago yesterday set quickly worked fine issue wife told co worker today went bought 3 one husband one set parent work like telephone imagine', 'bluetooth sound great video crazy amazing device', 'great item knowledge direction music laughter', 'nice need work', 'cool', 'enjoy using great sound love shopping list', 'echo show ok however constant suggestion ask alexa sooooo annoying way eliminate also thought could weather area displayed continuously talk alexa want middle night payed full price would returned feature nice may never use', 'held purchasing echo resist prime day echo work great nice screen still lot need learn', '', 'love much still learning everything echo really enjoying whole process', 'love still learning possibility', 'love echo show awesome speaker love fact listen music word come around liking far also able read shopping list list notification', 'nice work great', 'easy set sooooooo many thing awesome', 'met every expectation', 'like', 'unit working great true pia product today shipped without user manual manufacturer truly believe user magically know full capability product purchased idea echo show capability linked hue light idea command work purchased fire tv stick along show idea maximize two example even purchased text user found helpful seems way basic better kick pant', 'fun item lot udefulness big negative use google real search engine get answer find information', 'pleasantly surprised awesome far', 'alexa show amazing wife hated bought thought need day fell love alexa lol convenient setting timer listening music playing music dog im home connecting bluetooth speaker party playing movie love', 'understand excitement alexa device google one either rarely get say correct control dish receiver yes set correctly using alexa app phone got 129 good deal ti definately worth 229 price though maybe another month get better either one deaf dumb really recommend item current time', 'make talking grandchild easy especially little one outstanding product', 'great product', 'already purchased echo couple dot hesitated purchase price dropped glad versatility video screen outstanding regret', 'purchased show keep touch daughter family recent move half way across country wonderful seeing face conversation', 'difficulty dont cell phone cant download alexa app mac book air stuck unable program echo show properly opinion able tell echo show need done echo show every time ask something referred back alexa app mobile device access intelagence dependence equipment function every thing today pushed phone phone made accessable wish gather information', 'great kitchen love cook fun look recipe also great listening music watching show amazon prime video cook subsequently bought echo dot ihome clock docking station bedroom created group play music time plan add speaker future', 'excellent quality good sound great deal prime day', 'far good neat visual version alexa response nice see lyric music listening flash briefing good video speaker much better dot highest quality', 'fun', 'fun far learning use', 'work great nice sound picture', 'product even better imagined love timer setting reminds put clothes dryer ask love shopping list feature family enjoys game made life little easy alexa personal assistant', 'love', 'disappointed alexa hear respond request', 'highly like eco show complaint', 'love glad got prime day although would totally pay full price', 'great addition alexa family nice 34 visual 34 part pic recipe etc', 'love use every day finding new way use longer', '4 show broken anything screen lose line resolution timer reminder going hour late reminder trigger trying set reminder issue dot echo show would nice amazon could get act together actually fix thing', 'easy set', 'pleased echo loud hear voice understand much better previous version', 'love great request music able see lyric dot much better', 'liked actually seeing word song least would guess expected little currently available', 'learning product know love', 'easy use', 'need', 'love product computer literate everything voice controlled use keep touch daughter life town drop like living net door', 'enjoy seeing lyric screen different amazon music station', 'love echo show great kitchen recipe', 'alexa pretty dumb', 'problem slow internet really like speaker ton fun', 'love echo show alexa amazing show 34 34 display lyric photo etc speaker amazing fill room bought prime day got great deal worth', 'love echo show everything device wonderful', 'used fun great play music turn light know else', 'work great seems delay bringing ring camera sound video quality good', 'work great use arlo security system', 'fun really enjoy using hooked one light tell alexa want also connects spotify alexa resume playlist pick right ended feel like even excited use', 'upgraded original echo prime day far love sure long way go maximize utility owe marked increase lyrical knowledge thing knew post malone actually used word', 'access youtube consumer pay argument good product offer need', '', 'still learning echo show far love 9 year old love cook especially aunt life state connect cook together', 'love desk fact video friend listen music word right see amazon cloud cam feed one location pretty spectacular got one sale stellar thinking need another one front room', 'love', 'love echo show great sound picture great job thing entire echo collection', 'change voice echo', 'everything could ask great product', 'like clear screen hi resolution', 'easy use everything hoped', 'love echo show going live campus school fall got two serve easy way connect people might like camera make little sense carry device camera time difference item stationary family also find drop feature comfort rather invasion privacy definitely source relief parent easily pop onme visa versa also like thank amazon including voiceview screen reader device show would lot le blind friendly even alexa present included echo loving household two dot three echo two show surprised got future loved one thanks amazon', 'love awesome', 'good able listen every single song time amazon vast library beginning know everything echo show offer well worth price alexa helpful', 'love', 'great sound screen nice actually see time trivia etc', 'perfect able see canary camera exactly wanted happy alexa several great addition', 'really love item much fun', 'agree youtube', 'like lot sound better original echo bass feel deeper screen cool though havent got lot use though', 'good sound capacity join different apps make work smart home', 'great addition alexa family wish could use screen background get wrong regret buying especially primeday sale 100 sale price skill show lacking', 'previous experience echo dot blow previous expectation water great since play video music multiple source speaker pretty loud', 'love echo show keep video chat kid grandkids kitchen run something alexa add grocery list use everything easy set', 'really hoping skill take advantage show touch screen incredible amount untapped potential locked behind restriction make use best part show enable skill navigate touch please', 'love l plan getting echo kitchen', 'pick voice unless yell time', 'great love', 'amazing', 'fire hd much priced pair speaker', 'seems good product unable play music sync sonos system sonos seem recognize', 'great product like apps connect', 'love able talk grandson ease picture quality great', 'love easy setup drop daughter son law live st louis anytime everyone love mother drop right', 'fun', 'use control smart home', 'show great still learning able watch video talk face face others feature', 'wish bought one work', 'intrusive turn', 'love echo show', 'work well thrilled apps paid seprately', 'video call mom', 'love able see well hear thing sound better', 'love', 'like echo disappoint', 'nice picture good sound mics sensitive dot dot hear across house show said love show watch tv movie tg ed kitchen news playing music love', 'basically use play music tell news sometimes hard communicate dont say command correctly realize learning style speaking command even though dont say exactly', '', 'upgraded echo echo show', 'love echo show dot using last 6 month show much better sound quality amazing screen resolution like watching mini 4k tv love able see timer event list instead read purchased prime day worth every penny dot given thought cute novelty probably never use wrong echo part daily routine made life much easier', 'far pleased echo show problem much able explore extent ability got special price part prime day promotion beat get price pleased sound video screen sharp sometimes take try get alexa perform command get know system better hoping improve one drawback music noticed lot song year past recording original artist original recording example secret agent man johnny river live version used original version going pay prime music like hear original version song later recording least give choice want hear otherwise pleased echo show pleased fact bought second one', 'like everything im still learning use', 'like another kid house constantly repeat tell alexa something clear day according history hears something comeletely different device really cool like concept get two star however work intended find irritated often use device', 'really easy use', 'great sound video quality', 'way music sound poor quality', 'everything echo although probably use video function hoped display would allow customization limited would like clock weather display large text time display small text also always line say 34 tell alexa 34 tip bottom screen would like see go away sound quality good good big echo good enough bought sale think got value paid would disappointment paid full price', 'love echo show', 'enjoy thing learning', 'happy see', 'echo device stopped communicating properly sonos device upon connecting echo show account asking echo device play music sonos baffled system previously worked flawlessly went two week eventually solved problem neither amazon sonos could figure', 'far like better expecting', 'always respond wake word 3rd echo product say little disappointed alexa voice assistant great come controlling connected home lot learn google assistant come getting answer search query', 'good product', 'two week sure like ever present alexa screen well bought abay monitor combined wifi camera work screen always unless tell turn instead talking cylinder mini screen talk also writes everything say show accompanying video something audio made alexa different way tv talk', 'f suck', '', 'love able read lyric favorite song', 'thing awesome grocery list paired anylist app flash briefing good complaint pause something alexa decides longer want listen thing forever definitely worth purchase', 'work great video call function nice communicating drop', '', 'see echo show kitchen far exceeds expectation wealth information topic customizable sound video also echo echo dot group hole house music still done exploring love perfect getting recipe see preparing cook', 'fairly easy use', 'absolutely love echo show awesome work great ring video spotlight cam music demand many feature yet explore', 'absolutely love use everything tell friend client daughter never ask something complain wish bought 2package deal truly needed one work room kick', 'love kitchen convenient look recipe listen news watch prime video cooking', 'always wanted one till got one cracked hard navigate actually like dot better', 'greatest', 'love', 'fourth echo original two dot best decent speaker fun graphic', 'loved talking box able easily set', 'easy setup use ability play video huge addition alexa device family', 'echo show said work certain apps cozi state work echo show cozi family well amazon need go back drawing board would needed piece technology lack essential please fix cost echo show marvelous got echo show take shopping list far adding item list long lag router slow provider speed gb speed problem new item updated cozi slow help needed get updated a1 working conditioning', 'music listen also movie watch see ring doorbell', 'enough video option', 'great sound', 'took advantage prime friday decided take chance purchase one enjoy feature come sorry purchase two well worth money look great nightstand every night put steep sleeping music happy customer', 'music shopping list sound', 'diversity many thing see hear wealth information', 'love thanks amazon guy rock', 'disappointed device able access youtube dec 2017 aware purchased problem device voice stop working throughout day see trying respond window open contains info asked like device get stuck process stop working blue bar flash keep unplug restart device start working irritating device could really great device google amazon would act like grownup', 'returned repair repair done problem requires defective part show sent repair got back without fixed site give option complain page echo spot work perfectly position', 'love', 'like design visuals', 'show long used lot love use set timer cooking stove finicky wanting work time also use check different recipe listen music time favorite telling everyone time dinner son get real kick know lot people expecting show possible moment remember original echo first came see amazon adding new stuff time soon sure want soon maybe even thing thought wish bit user friendly still figured video chat cousin north carolina also one tried call son dot went video chat immediately last looked dot video screen another thing need addressed husband tried one bedroom play thunderstorm sound help go sleep tried get buy app instead playing skill enabled free bit worried use need fixed say happy echo show', 'long first alexa thing sure like done far lot learn play', 'work great fun use', 'best echo device spot dot echo', 'large screen really majes enjoyable experience thing missing youtube', 'easy use', 'bought go security camera system perform like thought would alert u someone door also talk person door echo show cell phone', 'great device feature awesome interaction fantastic home automation work perfect link account correctly issue 4 echo show 2 sent repair screen glitching le 3 month old already issue first repair sent updated firmware got device back nothing worked update newest firmware work 2 week later glitch start love show getting really frustrated glitching', 'super fun ty expecting', '', 'love much alexa even better show thing', 'echo got 2 show 1 daughter absolutely love especially video chat', 'alexa dot time really enjoying alexa show great visual whether song weather played jeapordy good learn trivia one watching love recipe visible movie available long enough try everything', 'got amazon prime ring pro work really great lazy guy need go see door anymore gaming', 'originally got show video chat family member work great found really like checking thing hand free like weather recipe far really liked show would recommend', 'easy setup running minute learning feature outstanding know amazon far ahead competition', 'bought product hoping alexa would pretty well developed far enough along therefore expecting responsive 100 piece crap doesnt even know respond question amazon told ask echo button manual see step 3 device potential given big screen decent sound 200 buck would never reccomend even 100 spent feel like got shorted oh lastly device pretty useless without prime membership linked personal account thing literally decorated bluetooth speaker went family account one got work minimal oh even prime membership music pas something extra 3 99 month leaving item subscription nightmare overpriced decorated bluetooth speaker eye would give zero star could', 'quite nice clear great sound', 'versatile use watch movie news able use remote vehicle use communication hub home great produc', 'bought two one one daughter life another state love', 'family bought several help communicate older parent grandparent need simpler device full fledged tablet fantastic potential digital photo screen video call easy access music audio book etc however setup discovered huge lurking negative amazon force view continous spam home screen promoting alexa feature turn many thing settins turn 34 thing try 34 instead beautiful digital photo screen weather time constantly spam ad across home screen say 34 try 34 amazon please listen customer offer setting turn spam', 'best part owning mother anti technology us ease everyday find new reason use well well done', 'second one put one kitchen recipe', 'echo show perfect staging kitchen recipe right need print wonderful device acoustical sound powerful tall cylindercal echo covered adjacent family room', 'great fun frustrating time command tv show get mixed asking watch something turn directv display show stink 8 year old also would like video option flash briefing still really tech wonder low price', 'love play music see lyric connected echo dot enjoy listening multiple room', 'love alexa chance add show home jumped member show know paid extra echo upstairs bedroom supposed pay show added home afraid ask 34 point 34', 'purchased 34 personal 34 contact vehicle engaging long distance grandchild work perfectly every regard resolution sound better expected highly recommend', 'work well picture awesome sound could better must bandwidth alexa device whole home music 2 4ghz v 5ghz', 'pleased echo show sound music word tune news weather color screen photo could better', 'echo show personal assistant awesome', 'packaging beautiful 2 dot echo plus already show love echo room also say 34 alexa turn screen 34 go black good sleeping', 'ability respond accuracy variety information provided google search spoiled originally expected see type search engine echo ability alexa provide detailed information part package perhaps improvement offing update', 'daughter echo show told much loved bought white one kitchen absolutely love feature others plus great extra sound system awesome also original echo tower dot spot great us around house highly recommend product', 'really like show feature also like video call others', 'love device bought simple alarm clock amazon echo prime day price beat sonos big as fan light able control device perfect getting better time', 'ase participating echo', 'like weather option alexa search compacity need improvement aint google alexa get request probably around 20 time currently alexa youtube either huge drawback echo show dropped price international radio via tune awesome search engine like pulling teeth get anything', 'love', 'love still figured best thing', 'easy use answer question hand free like may perfect sign time come connected smart home item enjoy totallly keep home connected', 'product amazing love best buy thing missing bluetooth', 'great', 'echo show work great enjoy much', 'work blink video camera work tube', 'love simple set love fact answer question bought one everybody family like jetsons', 'draw back stop every awhile middle song', 'great product', 'echo teacher english funny sometimes listen said', 'ight', 'awesome product process every room house set automation show favorite device', 'original echo quite time recently added show simple setup inviting use visual interface echo used primary interface connected home system currently controlling light switch look forward expanding capability also use maintaining list music player general information entertainment used show shuffle favorite photograph start soon', 'thing great', 'bought two one kitchen sewing room great need recipe need know something still learning everything', 'love show song info screen playing also time notification news etc', 'alexa take getting used picture quality great touch screen responsive smooth speaker better expected wellfour star five', 'love', 'like option white bizarre come black cord white kitchen stand like sore thumb black power cord aesthetic purpose happier year old white echo show came white powercord seems like major design flaw white option strongly urge amazon change powercord white', 'pleased echo show love many nice feature highly recommend', 'ease set overall functionality make echo show worth every penny especially like setting background screen able set affirmation use personalized reminder', 'love wanted primarily kitchen addition common service wanted use allrecipes cook illustrated recipe', 'easy use great recipe listen music see movie movie trailer much', 'love able see information alexa give notification turned let know order delivered also tell order use echo screen pull detail order use alexa skill make call uhyour echo', 'great sound video', 'really like', 'love echo show listen music get recipe much highly recommend echo everyone', 'easy set plug make selection preference language temp c f etc getting familiar adding calendar appointment', 'like variety stuff echo show offer', 'love', 'wish internet search like feature', 'bought visiting friend one great understand frustration youtube though still good love seeing word song ring doorbell never get chair laziness best lol great product good speaker', 'good smart home gadget', 'love speaker screen', 'youtube', 'loved everything item quick response time sensitive speaking end house', 'bought mother', 'great would better way use headphone', 'far good much better sound echo dot', 'clear screen great picture', 'love compatible many camera everything echo dot', 'kitchen great news music video call daughter grand kid really dig', 'absolutely love thing love amazon echo show went bonkers took brief chat voila new one replace way floored screen started blurring shaking jumping missing part data alexa still talked watch movie happy amazon easy deal make good product without hassle', 'work well recipe reference nice device right size', 'work well', 'work fine realize need use', 'screen microphone speaker alexa life inside yup echo show expectation met', 'user friendly', '', 'let start dislike want buy 7 house even need add like hahaawesome fun useful nothing else say', 'outstanding piece technology use everyday information scheduling general information awesome amazon keep improving ai', 'impulse buy super happy made purchase love much immediately bought parent one video chat easily love feature easy use set', 'like', 'great product great price prime day thanks alexa', 'still trying figure link bluetooth speaker', 'wish skill', 'still learning started integrating smart device home echo product line show spot two dot kid dot trouble getting call still working', 'great improvement original echo like ability see lyric song watch prime tv get visuals little hint thing try appears across bottom spark imagination', 'love', 'sound great video great need learn everything see video youtube listen music watch news', 'great addition alexa family great video also', 'belong amazon prime would think could watch video library prime music', 'starting day', 'nothing dislike lot expected', 'bought specifically wife could look arlo security camera bedroom work system worked three day give error message disappointed due fact advertise system work together gave four star everything else well', 'love', 'awesome love able turn light walk dark home also get video chat nephew live state away asking alexa call', 'super easy set great feature fun', 'love size video good quality sound awesome', 'home', 'bought older grandparent help reminder would recommend anyone someone life dementia memory loss help grandmother remember take medication daily task love listen music ask question', 'kid like game showing lyric song neat', 'need able connect 3rd party viceo apps', 'glad upgraded aka', 'still leaning price right', 'two dot tap show love echo show sound quality amazing compared dot use mine constantly create shopping list kitchen laundry timer news update throughout house play music throughout using group setting', 'absolutely love show', 'echo show white nbsp great new addition alexa home solution call back home video chat directly phone great way stay touch family', 'echo screen hence still need work considering google home', 'great product', 'like fact message visual well audible puzzled light make quot notification quot sound ask alexa read notification tell new notification happened least day week', 'loved alexa whole new level love fun watch movie trailer weather much complete listen music lyric appear still discovering echo show highly recommend take alexa completely new world', 'nice product intelligent thought hoped', 'tech understand common word basically glorified radio', '', 'love echo love bought prime day regret love connect ring see front door yhe kid like seeing lyric song sing along', 'love play great music movie much lag u want see arlo security camera thou far good wish longer cord', 'love echo show video quality good course sound good', 'love kitchen watch prime video cooking', 'love', 'great product', 'pleased item display clean crisp easy read enjoy trying suggested thing try asking alexa use timer feature quite bit added calendar contact still exploring many skill available', 'device great speaker screen quality phenomenal', 'dot spot echo show love show spot best show great sound wife love display weather recipe sing alongside super deal', 'play tube video', 'working great til 1 week algo month started flickering support forum say known isue 4 month reported soluci n', 'like video calling feature got contact elderly parent work well', 'sound terrible like tin love echo item awful', 'waiting echo show go sale worth wait easy set start using', 'bought prime day', '4th echo device 1st echo show seemed huge potential really wanted like soon found quite limited bit disappointing end world used like use screenless echo little 2 month screen started flickering mostly bottom screen quick look forum made understand pointless asking replacement people 2 3 device replaced start flickering shortly amazon providing serious answer going quite time apparently long story short moved hallway using expensive bulky voice activated light switch hue light like headline suggests meh', 'love play music work great finding recipe need family adapted machine see', 'seems little le intuitive regular echo plus also little harder pick saying combined four household speak loud enough hear cross activating one rename one overall work well seem adept thing original echo plus', 'second show like much use mine music arlo security camera connect display outdoor camera voice exceptionally capable device highly recommend', 'love seeing everything display', 'love thing enjoy watching daily news play music lyric song ordering coffee etc', 'use alexa primarily listening music checking weather still learning way use everything ready hand free far speaker great volume sound', 'plug n play set simple added battery base make portable looking forward using hub', 'great speaker n love much alexa tap definitely fast response much prettier', 'alexa bit dense still learning way phrase thing ny nj regional accent', 'great sound easy set purchased echo plus built hub would make easier connect device hooked alexa', 'like built hub plus unit sound great wish volume control', 'happy echo plus fun learning', 'love new echo plus', 'omg love', 'around week love control item house even make feel better away house people know gone alexa disappointed', 'know needed plugged work far experience positive', '', 'surprised learn used bluetooth speaker phone tablet probably list description missed part quite surround like quality bluetooth speaker 100 range good none le even basic access amazon music lot listen huge number thing alexa learning every day', 'fun use love novelty gadget alexa really work well', '', 'awesome device home full useful information u e phone answer spur moment question', 'like echo plus wonderful least thing like turn every', 'love echo plus like listening music sound great feature nice wish wireless could listen music outside', 'great product easily set get sync personal set', 'using hub music', 'still need ai built interact better need continue conversation sometimes finding answer need right keep stop alexa ask also able access wikipedia dictionary many area better fast access need hear u better also able name instead calling alexa echo price reduced bit value based update auto daily improve connectivity home equipment imrproved well good product good sound quality need ai built', 'excellent purchase echo plus sound quality good size love', 'take 6 hour set galaxy s9 phone got used system setup second edit light bulb adding string light simple easy', 'great speaker great microphone response loving purchase beginning smart home', '3rd echo built hub work great echo family room bedroom home office', 'r know use yet need explicit direction electeonically challenged get feee lifht bulb part package', 'amazing 3 love', 'awesome product responsive alexa need content variety come music us bing search engine instead google two could combine would perfect product', 'pleasantly surprised accuracy alexa unit responsive easily respond even tv music playing pair two smart bulb go dim ease using voice app fidelity good size regret would liked silver model fabric cover unimportant issue', 'went best buy intention buying alexa product instead talked google home product bought google home home mini trouble start setting understand husband scottish accent day oops something went wrong command returned bought amazon echo show echo plus easy set connected immediately amazon account way easier navigate understand command husband first try yet give error message loved two product gone intended first place regret purchase', 'ton feature skill good speaker plenty bass music still need work ai responding random question though android phone far better echo still get lot 34 hmm sure 34 34 opinion 34', 'like alexa', 'far fun use learn deal alexa still learning finding really done plus process making house smart house much control alexa yet', 'like whole thing far', 'spec regular echo easier use getting separate hub smart light etc', 'great product many good aspect easy setup control intuitive straight forward instruction included lightbulb excellent worked perfectly much enjoy product recommend', 'much different one alexa still stubborn lol ordered prime day get light bulb deal get light bulb called said sold felt bad buy light bulb', 'ability play amazon music outside patio gathering also used blue tooth connect echo plus via alexa app tablet external speaker party extends yard plan connect device thermostat lighting home device', 'got mainly son currently vision impaired many good thing setup fairly easy first one easier setup come loaded stuff text message friend easier without download something work link email also common social medium like facebook twitter others whole purpose get back connected web voice feel left isolated also tech support phone number call way direct help echo tech support help setup device get friend who guy come help setup', 'love every aspect echo plus wanted office light also desk lamp', 'great hub', 'hard review part problem 75 got dog would distracting noise home computer literate itunes literate amazon literate well countless program apparently dunce come talking alexa think heard sigh exasperation tried create playlist song like ignored learning workarounds mediocre best yet include personal playlist scoured beginner section beginner address far advanced basic alexa far like able use like lot could configure need rather accepting amazon alexa default karen', 'satisfied purchase package came good time expected', 'great sound easy set look cool', 'love echo plus much better versatility first generation echo intercom voice controllable smart bulb awesome', 'new bff', 'alexa know answer many question asked example asked many cup pound said pound form money', 'love everything cool music flash briefing 5 star echo', 'great product two may want buy third', 'far enjoyed problem able call one son sad part one gave', 'love', 'problem echo plus would purchase', 'great', 'love personal secretary', 'perfect good time alexa picked something tv slight problem smart home equipment get confused want call thing call something 34 light 34 app need say light 34 light 34 echo plus problem smart hub could use better user direction well worth owning good step making home smart', 'pretty cool begun figure thing', 'google home really like echo plus think even better sound totally happy', 'love device make life easier figure', '', 'love echo plus one bad thing say controller music need great sounding 360 speaker also bought 4k fire tv open amazon prime video netflix moment included hue lighting make product even better found whole array smart light perfect house entertainment room addition phone call mic speaker make practical busy kitchen computer alexa controll soon say hey alexa always mic concern well always mute device must buy anyone interested ease comfort', 'amazon music great love ability create playlist great sound standard bose good', 'home entertainment', 'great product wish sort equalizer bass little much', 'work perfect must introduce rest device complete function', 'decided buy smart door lock decided getting echo plus control chose kwikset 888 amazon said compatible bought 2 dot posed question somebody community said work alexa know z wave lock zigbee alexa hub compatible body know lock work seamlessly echo plus guess choice 1 exchange plus regular echo buy separate hub like wink 2 return whole alexa system get something else want buy another hub use along side echo plus back asking integrate two hub reason kept buying smart system point afraid operate seamlessly unfortunately enough research something work', 'echo plus proved innovative improvement life', 'purchased amazon echo plus amazon prime day need hub process upgrading home smart home price hub even le expensive case got hub work device plus lot even time go skill already found using many started search hub even considering echo part know hub also really think would find much use another ai system looking hub settle plane hub get personal assistant much yet cost le hub oh way price amazon echo plus alone found one came bundled smart bulb saw another came smart plug given price extra well put echo plus top', 'happy purchased alexa recently saw friend home played music talking product love sound love tell alexa ask question responds immediately able listen cd since problem within stereo equipment time make extremely happy issue longer', 'learned use still learning pleased echo plus', 'love used one like philly visiting son decided buy prime day', 'speaker device surprisingly good functionality echo device fantastic', 'advertised connected smart bulb problem', 'work perfect', 'love warehouse buy good used condition new must newer new seriously one perfect mark anywhere great buy', 'alexa awesome first day got echo plus found thing think even possible highly recommend product along accessory', 'ease set fun sitting feature well making house smart home', 'try use yale lock work', 'seems ok instruction weak seem get work going get techy friend help update later', 'love everything love echo plus turn light also dim voice command also like listening kindle book even one purchased audible like play music amazon music pandora tunein heart radio spotify echo even play local radio station love echo connected tivo bolt allows tivo pause stop play whatever want simple voice command love reorder item purchased amazon echo plus notifies order mailed delivered package delivered three dislike close far echo respond think need improve microphone wish speaker better speaker okay could improved also echo dot never given problem internet well day received red light right echo plus error sorry trouble understanding please try later research online learned problem connecting internet easy find found odd dot problem even though connected network', 'love everything', 'perfect controlling tp link smart devise', 'love thing easy setup looking forward adding smart device home', 'got specifically work august smart lock connected ease definitely tie smart home together', 'sound nice perfect price', 'love number 4', 'wonderful product love alexia', 'nice speaker', 'music mainly still checking feature', 'capable language recognition best experienced great sound', 'love love echo plus silly simple set alexa become new bff amazon 24 7 support hard beat question answered time ask', 'got one coolest thing', 'awesome easy set linked right nexia home automation', 'hand free voice command interaction smart device around house make echo plus one best purchase made', 'definitely really good buy first time buyer smart home stuff bought 3', 'enjoy various function device', 'alread echo dot ability control philip hue bulb nudged buy prime day another fun product amazon', 'purchased echo plus build hub could convenience asking alexa turn light lamp philip hue light bulb placed fixture wanted alexa control work great already echo dot kitchen den area placed echo plus hub bedroom radio lamp kitchen den controlled tp link plug ceiling light fixture lamp den bedroom special philip hue light bulb controlled hub inside echo plus able play music set alarm get weather report numerous thing device echo dot requires tp link plug plugged echo plus requires special philip light bulb installed light fixture work thing dislike high price light bulb required make light work regular light bulb placed ceiling light fixture work alexa echo plus hub high price bulb love echo plus built hub', 'easily configured hub capability excellent sound quality size unit', 'work great large open room', 'fun', 'outstanding work awesome music sound clear loud alexa smart', 'bought specifically smart hub capability far great easy set instruction various brand compatible', 'sound wonderful plain work wish cost le worth cost especially prime day', 'come hub got prime day 99 hue white bulb work great add stuff required hub', 'got smart hub exactly say turn light arm disarm security system thermostat next great product', 'easy set great sound', 'far useful trying learn way use alexa', 'work better thought', 'loved look good', 'great product fast shipping thank', 'fun imagine household management option info question baffle alexa option cool esp music related', 'easy set work like supposed', 'love easy set love request anything mind work giving useful information', 'great product skill needed love', 'first smart buy loving great thing alexa', 'thing awesome got prime day great deal wish purchased two also bought echo show version sound nearly good echo plus echo show came dented exchanging like screen many feature getting refund still worth price', 'great new friend', 'coop product many us including smart device throughout home', 'easy setup great sound would rate unit 10 must office home l looking add device lock light home', 'better expected', 'wonderful still learning use heck time setting happened somehow', 'fantastic happy purchase', 'love', 'like list ability music play like create playlist without using app even alexa play song tablet phone also like alex print done app', 'great bundle fun music game question etc luv turn smart light purchase 4 smart light lamp living room room', 'first time using alexa far love', 'little hard follow instruction great product', 'replacement really easy set reauthorize smart item work new hub installation easy instruction clear', 'really cool device ton stuff fun game like jeopardy used set smart bulb light switch make sure ge stuff corresponds particular hub make run back store exchange', 'waiting prime day purchase echo plus enjoying learning alexa new sonos one echo dot making really nice well integrated smart home love', 'long far whole family enjoying asking alexa question', 'although second echo device still disappointed almost documentation instruction many function device purchased becausse sound quality found bluetooth capability last night accident need manual detail functionality device least point found', 'echoplus great extension echo dot home little disappointed alexa good information request google start home automation impressive', 'never alexa biggest reason bought youtube apparently youtube stopped supporting get 4 star mostly youtube fault worked around using cell phone blue tooth connected hear thing still take voice activate purpose away speaker amazing hear youtube watch later playlist', 'awesome loving alexa', 'habla espanol', 'love music story', 'fantastic', 'like take time setup skill want simply many already use music flash briefing daily satisfied use along alexa app kindle hd8', 'wish would came lightbulb otherwise work great fast delivery enjoy using', 'still learn echo far quite pleased', 'love', 'receive cpr classical station great sound like least learning curve mistake', 'sound well find useful overall frustrating respond forget correct command alexa turn living room light oops mean alexa turn family room light also never realized call couch sofa time unfortunately alexa confused changing name sit', 'broke get help fixing replacing', 'still unable connect device although say built hub bought bridge connect device thinking everything would sync device still discovered via echo plus looking forward feature able play music check weather etc fine', 'sound great used hub yet', 'expected responds fast given command easy connect via amazon app also bought philipshue light bulb put lamp tell alexa find device connected lamp turn voice command', 'sound better', 'conversation another person instantaneous response fact catch command even far simply amazing', 'although taken advantage many echo feature one bother start talking even said anything even close wake word echo change alexa due conflict another device', 'echo plus straight forward easy use play great sounding music lot thing still learning working well far', 'used last 2 week like child also like alexa become part family', 'terrible stopped working one day', 'better sound echo dot simple set le 5 minute', 'nice toy around', 'speak spanish bought grandmother someone talk around spanish', 'love cool thing', 'great product', 'like still working discovery really soon fully evaluate looking forward learning using', 'got echo excited device better sound dot hub control hue bulb realize also fully communicated use hue bulb full potential device turn light set number preset color also update bulb newest firmare security concern buy want full featured hub new iot device end needing update standalone hub make hub inside device redundant pointless still love echo zero complaint alexa functionality sound quality device disappointed hub functionality', 'still need work command sound equal regular echo need smart hub get regular echo sound ok much bass old soundlink mean hey get loud treble sound clear', 'love echo plus use spotify account find phone make phone call turn light much importantly read story child love make happy', 'excellent think beginning love', 'bye bye philip hub expensive monthly internet charge took little tinkering rest individual bulb work great 34 philip hue bridge responding 34 message', 'work great exactly described complaint sometimes alexa get confused smart home product name go back change stuff around chalk inexperience smart home stuff', 'love use mostly music huge repertoire choose', 'easy hook download app walk setup', 'disappointed product tried install two different unit neither one successfully completed hour amazon technician resetting app connect echo plus internet connection tried using application phone tablet chromebook luck clean direction application probably sending back amazon mark ready prime time', 'well behaved device enjoy using', 'easy setup sound quality', 'really love hub feature', 'blast love echo learning trick lot fun helpful', 'love', 'great sound quality work well smart home device', 'use way often used google home', 'mic hears everything understands half first time often take multiple try give correct result', 'nice add home like limitation example world soccer give much info sport team american', 'little apprehensive buying saw review saying sound like crap audiophile mean maybe think sound great considering size fill living room sound get pretty loud remaining clear issue pairing device utilizing voice command paired ecobee3 firestick phillip hue light bulb plan adding device go love thing glad scooped around 2 week update run issue', 'love echo plus drawback battery plugged time make inconvenient use outdoors', 'great device grandkids ball setting', 'alexa awesome rcieved light buld know u need another adapter light buld work aware disappointed', 'echo plus great easy set built hub connects alexa device mere verbal command 62 super techno knowledgable easy light integrated alexa looking security camera lock definitely recommend echo plus', 'work advertised say alexa always learning great learning thing alexa', 'great love', 'wish battery described better plug item', 'seem hear well 2nd generation echo volume button', '', 'worked great built hub work great', 'know everything ask havent smart hubbed yet exactly advertised happy purchase sound quality excellent also', 'connecting sound perfect give 4 internal battery disconnect power source', 'seems easy stump alexa rather simple question easily googled correct answer admit explored available echo one irritating issue alexa answer help question concerning use system rather refers alexa app help via computer simple setup use continue learn tool become useful', 'like easy set easy use set bluetooth device', 'ease use many task perform', 'purchased echo plus built hub prime day sale delivered fast easy link wifi also connected smart plug control light love telling alexa play music hears 2 room away excited learn new us', 'harder setup thought reason default twice go thru many step setup find device would nice could interact xfinity cable tv cable box also work xfinity alarm house camera nice set disarm alarm alexa install skill app setup bulb whats ship product said alexa setup bulb alexa find new bulb alexa setup nest fine use third party apps alexa work', 'nothing dislike love new toy made house smart home', 'built hub lack feature geo fencing phillips hub otherwise would given 5 star', 'echo plus used leisure pleasure absolutely love easy set connect great addition listening pleasure used yet purpose', 'arrived right time work expected', 'like remedial form star trek computer home', 'echo part work fine hue hub disaster worked month nothing spent 2 hour phone tech support one send repair trying reconnect light pain reset light bulb take 5 time get reset spent hour say customer service friendly tried helpful stick echo smart plug lamp', 'love family love also use time also like playing game get great family game night', 'supposed come free hue lightbulb amazon prime day light bulb arrived false advertising', '', 'awesome', 'week already connect network tried reconnecting manually echo never appears list device connect way back amazon', '3rd unit purchased way gen 1 plus reason purchased work well wanted room well switch work great issue past ghost command alexa would answer question one asked think recent ipdates may resolved keep improving time call capability work adapting smart home far cheapest best way far wait see come next', 'love play music everyday voice activated make easy', 'get multiple profile working spin adding 2nd user pas device prompt', 'love using music turning light', 'great sound responsive command', 'thing great good sound everything expected linked light use alarm com well', 'problem whatsoever make life easy sound great', 'useful device use turn light around house work alexa device give command near process request also handle function device enjoy much thought would', 'love echo plus', 'like echo plus built hub work seamlessly compatible device amazon make great product single issue one device echo dot etc', 'hesitant purchase anything smart home good electronics however surprised easy set link bluetooth sound bar tv provides extra sound music make call finally hear people home cable paid apps like netflix hulu alexa provided news station weather update really great hear linked account turn light walk door purchase order amazon pet heard something bad happened home would place call 911 regardless unplugged important extra layer protection someone living alone tech savvy bf went bought week must buy', 'love echo plus cousin italy visiting love want give one however work italy someone please answer question asap', 'totally enjoy new echo plus great fast fact listening beautiful music getting started benefit', 'device touted able link calendar samsung phone google get work', 'love product', 'music news shopping list joke game', 'work well need speak clearly pick command good distance sound surprisingly well', 'returning nothing annoying hub turned needed interferes hue bridge even install philip light unless unplug plenty review go depth issue bottom line suck hub support z wave zigbee fairness knew advance one protocol support many function dedicated one point noticed right away philip hue bridge support firmware upgrade light bulb found rather interesting', '', 'echo link direct tv even though said would spent multiple hour made phone call text also missing free bulb', 'still learning amazing simple work right box frustration getting amazon alexa app show samsung galaxy google android', 'well say love love love enough said', 'use apple music worthless without sound quality also poor', 'great product easy install use necessity commodity', '', 'work great bought direct amazon got tell item echo show echo plus best item ever kind tech geek disabled person help turn light schedule doctor appointment using google voice phone get medical ride hospital play music cue multiple web apps watch video well communicating nurse aide schedule calendar event wish program helped disabled people get smart light literally best item since chocolate assist disabled literally anybody else need although echo show hub set echo plus hub light use amazon device shut light thank god working as turn light thank amazon save enough money buy gift card affirm com purchase 1 light rest house jeff bezos awesome item allowing get amazon prime lower cost due disability finally able buy item prime day event really helped earn month 672 ssdi thank', 'sure echo cool everyone say get try one even though large covered porch package left top step day forecast 100 chance rain rain soaking package even going open see bad damage order cursed beginning ordered birthday gift delivery made scheduled day get rain soaked', 'far love easy set anybody speaker great fun play music voice command', 'tec smart enough make work send back cant get help eco dot work fine complacated wanted bigger speaker', 'long time amazon prime family many year new alexa world thought purchase alexa plus hub included phillips hue light bulb would great start alexa lot good thing u like alarm morning verbalize book playing music command even linked sirrius xm account good daily stuff good sound bose ad say 34 hub included 34 need anything else operate device well understand difference product device support fact came hue light bulb work dimming bulb bulb capable much hue app hue app recognize alexa hub bridge appears get philip bridge set bulb scene time light away set color tone etc done via internet phone tablet away home list go capability without bridge disappointed find fact point feel misled amazon included hue bulb without explanation maybe throw good discount way get hue bridge keep echo plus invest light bulb', '', 'love play well amazon prime many shortcoming potential fee', 'item described delivered time thank', 'bought 2 plus 2 echo dot 2nd generation prime day love echo plus easy setup reason 4 star fact one arrive free philip hue white a19 single led bulb work amazon alexa one call find', 'product light bar never went orange googled reset instruction actually differ package instruction tried product defective', 'exactly wanted speedy shipping thank much', 'easy install', 'original echo really like wanted another one basement realize huge stereo setting sound bad definitely take much room great price echo plus prime day ordered two', 'bought prime day saved lot 3 large blue tooth speaker house used year echo plus louder 3 combined time impressed clarity volume need paid subscription form steaming audio sad fact play pandora spotify limited skip song selection without subscriptiondoes stream youtube music youtube audioapple user disappointed see convenient apple deviceoverall still loved device getting dot audio jack echo plus connect external speaker', 'thinking getting long time excited arrived bundled philip hue bulb excited ended quickly spend total 4 hour attempting add bulb alexa echo plus everything tried ended discovery failed message tried set watched youtube video read set website poster child insanity thing expecting different result next day went onto amazon get tech support hoping something would done make thing work also problem operator error well 3 tech support staff 1 hr 19 min phone still work product tested patience far experience shifting mindset going smart home kicking old school reason gave two star amazon sending different echo plus light bulb problem bulb packing item purchased another bulb still alexa locate device pray next attempt successful revise rating odds shipped defective echo support person thought maybe exploring google device get look hub look like defuser believe find youtube video show problem everything looked simple seamless experience ok done review spend enough wasted time weekend already', 'got pretty good deal prime day event sound pretty good work well far', 'nice take space', 'original purchaser echo came limited test phase always loved expanded alexa usage adding echo dot around house finally decided jump buy echo plus let tell great choice much love original echo plus obvious upgrade immediately noticeable sound great fact got built hub philip hue light huge plus', 'received wrong product excited install excitement gone thank amazon', 'trouble alarm time work timer end alexa keep saying unavailable', 'love wish could play amazon music device without buy additional subscription', 'sound little better original plus interrogated zigbee hub hub compatible ge link bulb', 'got try side side echo originale essentially dimension weight woofer save smaller tweeter point instead built hub many folk already pointed hub direct replacement philip hue z wave anything else provides sub set feature available stand alone hub ended losing functionality took granted dedicated hub voice recognition music play capability original echo may edge volume department due larger speaker new echo plus priced lower original echo built hub really need hub le functionality addition think amazon software update hub dedicated hub would bug could end never fixed philip hub get software update probably every couple month keep change new bulb fw fix bug net net echo anything original echo sound quality good original echo available refurbished would check first considering new echo clearly inferior', 'need buy 100 hub get work samsung tv many device want money back thing even turn tv unless buy another hub point hub support half device buy thing unless want spend another 100 another hub work many device echo dot must better yet get google device actually understand talk', 'love living room', 'absolutely love thing would make better rechargeable playing music bluetooth speaker outside go inside change song', 'purchase echo plus built hub came free philip hue bulb got everything set realized echo plus hub allow full functionality bulb turn light dim change color still hue bridge full function feature bulb wish bought bulb bridge separately use echo already since built hub echo essentially useless buy hue bridge get full benefit light', 'volume setting half le speaker sound like something rattling crackling vibrating understand volume set higher speaker get distorted driven sound like driven case sound like rattle crackle possibly bass high learned ability adjust sound characteristic volume attempt exchange assuming isolated problem', 'sound fantastic classic music like orchestra home control sound screamig twist top also tell 34 alexa volume 3 34', 'love alexa make fun people around seeing first time', 'suppose get free lightbulb purchase come echo upon reading carefully say click box receive free bulb course want free bulb sneaky way get give many free bulb away disappointed yet set echo first purchase alexia device debating want keep come quickly prime membership', 'bought realize plugged work convenient make always connect wall clear bought', '', 'alexa help light music help kid think know everything know nothing lol sweet love much purchased 2 alexa great purchase uncle life got wasnt keen best friend tell goodmorning say back along description something happening today something special happened year ago day well sang happy birthday lolol educated self thing never knew laugh thing may say wait see response something he asked love think going hate', 'incredible piece technology right center living room island kitchen counter mic speaker go every direction quality sound quite good connected echo via bluetooth sony soundbar tv find echo placement 360 sound appealing audiophile equipment good range decent bass sound adequate indoor entertaining loud enough bother neighbor building knob top work great adjusting volume first echo device would imagine press volume button echo 2 large inconvenience precise alone would recommend regular echo 2nd generation piece look quality quite sturdy weight rubber material bottom good grip granite counter cat even rub scent without tipping order came free philip hue bulb installed along extra one bought put 2 bulb living room floor lamp turned light say 34 alexa connect device 34 default name bulb assigned 34 first light 34 34 second light 34 dimmer floor lamp turned one light saying 34 alexa turn second light 34 alexa app created group 34 first light 34 34 second light 34 named group 34 light 34 turn lamp bulb shining say 34 alexa turn light 34 surprised easily bulb connected echo plus built hub thought would buy hub bridge connect floor lamp power plug apparently technology built directly inside bulb surprised awesome feel like tony stark device added quite 34 skill 34 like thunderstorm sound quote day alexa always load quickly adding song hear specific playlist amazon music also great feature go second day ownership lucky buy 100 prime day think 150 pretty expensive considering echo 2 100 opinion paying premium echo plus decide value 1 taller 360 sound unit 2 volume knob top spin think huge benefit button 3 built hub hue bulb researching con setup plan advanced light setup floor lamp perfect highly recommend buy echo dot bedroom', 'easy install clear speaker took one star delivered late ontrac like usual', 'love love love', '', 'good product', 'would like tell reason hate like speaker suck color shape even way smell honestly say number reason hate device tried set 3x avail 4 echo device already set use quite regularly reset phone galaxy s8 checked app update cycled power echo unit attempt work network technology industry living 20 year lack experience knowledge problem used app device even tell connected follow app continue set set screen continues roll 3 dot around screen 5 minute app lock phone force app close restart phone echo try figured 3x enough hard techie imagine bad prove people clue technology hope call tell em send product back', 'pretty cool device still lot learn changing channel fios getting info needed speaker great needed mainly music', 'unit came wrong plug send back amazon', 'love', 'sound quality really quite good also dot bluetooth linked grace digital amplifier driving couple floor standing snell speaker obvious floor standing speaker better much complaint customize alexa hot word multiple alexa device need way direct alexa command particular device would like able talk device name', 'love light bulb feature', 'echo plus work expected never received philip hue smart bulb supposed included part purchase please advise', 'nice everything working fine 100 learn command', 'sound quality great replace echo dot kitchen', 'got mine last night played around bought long time ago', 'easy use non stop music', '', 'great product prime day price took figure connect wireless network echo device home came philip smart bulb better clapper found instruction online wake music philip light easy set instruction even option song want wake', 'exchange new color', 'alexa best smart speaker glad came across sound amazing mostly use amazon alexa music school work help love control room light color totally recommend', 'get sale 2 day check event u buy amazon product', '', 'pro plenty loud large room high ceiling con hub anything work z wave state take voice command smartthings buy since hub work z wave also sound muffled way control eq sure model dot clear money buy echo dot echo 2nd generation echo dot take voice command smart thing hub go figure audio clear dot also seems hear voice better almost whisper', 'alexa decent speaker need terrible thing consistently answer question asked say 34 hmmm know 34 everything else gone back using phone really look anything pretty much everyone make fun spending money awesome bose bluetooth already bought mother life alone us lot happy full house kid le impressed never recommend anyone except senior citizen love alone need able shout help event fall', 'setup device simple effective pleased see additional skill add ability alexa great mobility issue ability shopping comfort need met without depending friend family', 'perfect', 'love bought light bulb well use daily', 'alexa great laugh add random comment conversation last night asking sibling using alexa upstairs versus one downstairs echo dot downstairs starting singing oh technology oh technology kind weird seems mind', 'love love love amazon echo plus', 'sound quality good especially price pay would recommend get echo dot buy better speaker instead maybe sonos use echo dot', 'alexa able call phone find also turned light commanded came home day later turn light would shut said device find phone working see love selection music', 'returning piece garbage soon possible lifetime amazon spending approaching nearly 40 000 sure small customer rarely disappointed hundred thousand amazon purchase 8 echo home automation bought echo plus specifically built hub along approximately 600 zigbee light switch voice control subpar even work rarity often nothing could disappointed product strongly discourage investing amazon zigbee ecosystem value money expect working product need look elsewhere', '', 'love alexa work great little child understand speak clearly fun', 'holy sound quality batman thing jam insanely helpful nice gadget around', 'easy set use slowly adding device truly make house smart home alexa learning new item happier made purchase far regret sooner', 'get white bought girlfriend white wish white alexa one device always use miss around find new us alexa every day incorporated device many part daily life alexa learns learn alarm clock reminds important date constantly asking information like travel entertainment science history politics etc turn light core smart home', 'love best gift got', 'love sound good use home automation also work well', 'really found difference original version bought work great', 'personal', 'really enjoying echo plus fun', 'love echo everywhere go house always reminding playing music talking love', 'good quality yell close work understand properly', 'convenient never touch remote shut tv', 'love everything', 'easy setup fun use connects smart home appliance', 'expensive slightly better sound original echo', 'sound speaker better echo', 'loving easy access music book listen amazon music audible treble mid bass sound well equalized love easily take area house plug nice light weight good length cord', 'first alexa love', 'far using light music connect tv vacuum doorbell soon love', 'enjoying much', 'like voice activated link bluetooth device alexa device', 'appears working fine first echo stopped replying request received echo plus happy problem hassel exchange', 'best amazon speaker alexa thinking good smart hub wrong connect smart light device tell alexa turn better buying separate hub control device', 'still trying link son daughter room', '', 'really work smooth make seem like', 'everything offer', 'love', 'besides fun also many practical aspect real bonus vision issue', 'work perfect', 'alexa u funny enjoyable nice sound', 'echo plus built hub black amazon', 'good product like thank', 'louder dot got built hub wireless control house', 'easy set', 'debating 4 5 star review one challenge hub phillips added functionality work hub basic functionality work unit need two apps set everything want instead one caused user issue woken couple time without trigger word find highly unsettling minor issue always picking say correctly usually one two repeat happens speaker great quality easily cover kitchen living room sleek design obtrusive girlfriend fun interacting entertaining conversation', 'work great', 'happy', 'love device', 'really like item already echo dot purchase philip hue bulb came plus purchasing plus time use full capability bulb something else use echo dot turn bedroom light really like plus great room kitchen area far give 5 star', 'love convenient responsive learns voice within household best assistant far', 'training coordinator company used amazon blueprint skill echo device echo button create gameshow quiz new hire orientation training always looking new way engage trainee order make learning enjoyable believe someone enjoys process learning much likely remember information far huge success class look forward amazon improving building blueprint skill', 'great tool toy room filling music convenient use fun 4 star supposed work logitech harmony remote nope supposed work denon av receiver nope may amazon fault advertised skill actually work also echo show ring skill work correctly device want see front door', 'amazing product amazing sound', 'love echo plus mainly worry putting cd play command song play however disappointed learn later needed stay plugged unlike echo consulting amazon learning purchase portable echo charging station good sincerely', 'love', 'echo great good sound quality functionality smart home hub suck automation geo fencing music syncing hue z wave turn thing voice ended buying smartthing hub transferring everything', 'great time using family even toddler talk feature wish would learn overall love glad brought google home', 'great', 'got month ago idea help control smart bulb useful answering question getting daily weather update far useful half time wake device ask question initiate command hear say turn basically ignoring often unable answer basic question frustrating alexa work rather making life easier would return past return period zzzz', 'convenient wish could request music', 'ideal amazon prime first fire tv stick purchased one long time ago wish bought 2 3 amazon prime day forget fantastic alexa feature', 'love finally got one everyone home importantly saving money would otherwise gone cable', 'love firestick', 'know held getting long', '', 'cord cutting', 'work great bought gift boyfriend easy fun use', '', 'work great', 'using stream amazon prime netflix', 'put tv great picture look like new tv', 'work expected', 'much difficult use chromecast', 'fast load keep rebooting middle show', 'great', 'work great easy use 4 year old navigate', 'live item bought several room house gift mom also use mine travel', 'love push microphone button remote ask open show find whether hulu netflix sign start show pretty amazing new technology sure making lazy lol', 'great product would buy another', 'power cord attachment tends come loose outlet adapter may long heavy big problem annoying unit plugged work great', 'loved wish would bought one sooner', 'able watch show love', 'totally clear picture numerous channel available used kitchen tv', 'easy use', 'easy use', 'love fire stick download watch great movie instead searching use alexa voice prime offer many newer movie negative also wished way could set post newest movie first', 'easy install voice control great', 'love', 'great buy 20', 'guilty setting youngest daughter seem much trouble figuring would assume difficult tried use yet oldest seems like ordered one', 'one problem need buy app amazon mirroring iphone app price 2 99 device perfect', '', 'streaming easy love watch netflix bedroom tv ipad', 'absolutely love', 'great product listen music time', 'ummm tv like everyone else', 'love fire tv stick love even sever cable connection service agreement expires', 'love tv movie selection really like fact rent movie selection', 'far major issue', 'love super easy use hole button speak take right without delay', 'love happy everything available', '', 'best streaming device used 5 year wish remote headphone jack like roku remote', 'exceeded expectation', 'new device still learning work great u navigating hulu', 'ok home screen fire stick working television working alexa respond question command going reach amazon weekend', 'awesome bring older tv life', 'make big difference searching program much easier older fire stick faster', 'great easy use', 'used use laptop anything show watching including netflix glad bought super easy set everything need quick easy access definitely worth buy', 'think darn confusing part would try work like thought would', 'easy set use', 'never buy anything amazon make fire stick even year old nothing restart freeze constantly warranty amazon first clue horrible device never buy anything built amazon', 'great buy recommend getting kodi movie addons', 'firestick easy use super easy set like platform feel better expected worried lagging hoping utilize firestick eventually break away cable confident happen', 'work much easier 3 year old one better internet resemption', 'work amazing love download almost anything apps download apple tv able', 'fire tv stick easy set use downfall subscription needed view premium content', 'prime video', 'love everything wanted', 'like way watch anything everything live show need cable provider', 'e excelente funciona genial', 'loving starting june hulu stopped working crunchyroll work either probably switch something else soon', 'put pep back old tv software expired enjoy netflix amazon prime video favorite video tv', 'used enough', 'fire stick amazing easy setup easy use awesome deal prime day', 'love fire stick amazon customer service', 'easy use setup', 'great streaming device', 'work expected easy setup use', 'awesome product', 'selection wonderful ease use home page nice wish however keep overcoming setting device attached tv keep switching back switch programming including stereo', 'bought 2nd firestick bedroom easily installed set work great', 'great interface enjoy voice remote', 'liked linked prime', 'good', 'love', 'already bought one previously try enjoyed bought new one prime sale', 'work like charm fast delivery problem', 'ok', 'loved much living room tv bought one bedroom tv highly recommend device anyone wanting simplify improve online entertainment experience', 'everything need', 'love love love', 'awesome device', 'watch amazon prime show talk alexus', 'product replaces 1st generation fire stick improvement speed showing amazon content apps downloaded product bought prime day 19 best deal ever', 'advertised bought gift great price fast shipping', '', 'easy set straight forward direction load fast also', 'purchased fire stick able watch movie convenience love variety genre also enjoy give ability watch tv show awesome', 'able tell go', 'love many option', 'love', 'love many station choose', 'gift', 'still work bet call let know charge 3rd time ridiculous', 'love alexa remote easy use', '', 'work great', 'easy use watch favorite movie', 'doubtful first work lot better smart device plus alexa software include plus', 'love fire stick easy set load show free plenty rent buy also use pluto tv tubi even tv alexa make easy find show movie want love money save', 'perfect work like charm', 'netflix hulu', 'love fire stick installing highly recommended apps discovered lot channel cable provider included pay extra subscribing streaming apps still come paying way le cable tv', 'love wished gotten sooner', 'make accessing apps easy love voice control', 'second one work well', 'love fire stick', 'great product versatile easy use', 'ease usage', 'love quick easy use love many apps access disappointed cost extra money use also love music app think would use alexa echo listen music time tried fire tv give lyric song play love', 'love downside download app want', 'still learning use like far played music youtube couple movie complaint', 'using internet home loving', 'father liked added programing interested', 'love fire stick', 'love easy use one best prime day purchase made', 'satisfied purchase', 'im able connect prime quick', 'absolutely love product easy use better scrolling channel', '', 'loved cable bill u would advise anyone get one 2nd one bought', 'bought sister complaint yet think great', 'absolutely amazing device easy setup use', 'current demand stick high power coming usb port tv run power cable supplied usb adapter big deal added another cable showing wall mounted tv', 'work well amazon netflix let viewing platform like vudu also shut hulu played couple minute yes directly plugged wall low power source issue even checked outlet voltage issue typically answer get issue quality picture quiet well user friendly platform use would fix two issue would one every tv house sits one bad relay like amazon product alexa always nice', 'love firestick thinking canceling satellite', 'amazed many movie tv show available planning drop cable service soon happy know lot viewing pleasure fire stick pay outrageous cable bill', 'easy setup sometimes alexis work greatest connection fire stick wifi way bettter netflix', 'work great', 'ease use', 'finally bought one find wi fi buy wi fi extended smart v used wi fi fine', 'firestick everything', 'recently cut cord cable television needed easy install relatively inexpensive alternative option fill gap ordered amazon fire stick best buy instruction short easy follow going order amazon ethernet adapter worried wireless speed area thought wait see glad wireless connection proved almost flawless far brief hiccup convinced apps miss ridiculously high cable price able watch used watch much lower price right total 50 month amazon fire stick limited 1gb memory 8gb storage thought would huge issue came downloading apps recording show far issue upcoming fall tv schedule includes return nfl football might prove troublesome need record often worry real issue really turn screen remains us electricity although probably small amount luckily unplug downloaded apps recorded show stay memory sure happens something scheduled record unplugged tried yet although think issue directtv using right far loving amazon fire stick actually love amazon use occasionally come pre installed', 'everything', 'love', 'really enjoying firestick wait get rid cable waste money', 'good', 'love', 'easy set use', 'woohoo 20 prime day done', 'perfect', 'easy use make finding show movie snap', '', 'upgraded first generation firestick know waited long love', 'amazing device', 'great product', 'replacement older version fire stick tried alexa voice part remote yet work great', 'bought love alexa convenient', 'like', 'alexa getting feeling inspired get one feel good gateway alexa trial liking far channel work fine like apple tv need check phone app keyboard typing spelling thing keyboard suck searching youtube clip', 'definitely like product wanted able watch netflix tv easy install', '', 'great product many feature', 'like watch older show 70 80 firestick give opportunity find show', 'really like product fact get apps unable get smart tv', 'work wonderfully', 'use time love quality product', 'used roku mi tv box fire tv stick similar easy use', 'love tv fire stick would buy', 'good', 'work really well', 'worked advertised', 'work great better previous fire stick', 'easy setup alexa heard well receive well', 'like amazon fire stick use tv thank help called get instruction use thank good evening', 'great best decision especially amazon prime', 'love everything fire stick easy use alexa make quicker get tv show music', 'work great alexa find goody could ask', 'able use another room add alexa room', 'work great speed fast exactly needed', 'additional one tv loved much use regular tv easy set fairly easy navigate waste money regular tv cable anything else enough watch much tv', 'love user friendly better streaming device previously used wish purchased sooner purchased', '90 year old mom love watch 1st season blue blood one wish could watch csi miami without pay bill optimum already quite high help u live long island ny suffolk county', 'excellent', 'absolutely love l needed realize remote included voice remote convenient glad l made purchase', 'better thought practically turn regular tv smart tv', 'lovee evrything need cant even get dad room hahahaha movie addict', 'work great watch youtube amazin video', 'like alots something different traditional television use alexa nice', 'work well several recommend anyone', 'awesome wish gotten one sooner', 'great product', 'work great lag much better gen 1 device using would recommend 1rst gen tired lag crash', 'work great easy set', 'love easy use', 'love firestick easy set use rarely stop buffer would bargain twice price', 'like fire stick close cutting cable find many movie show keeping budget check learning maneuver around channel find show quickly', 'simple install love voice activation', 'used much yet like used husband love', 'easy set easy use', 'connected brought many option view connected quite channel must', 'great product bit problem download kodi done get movie tv program', 'impressed simple use', 'perfect streaming show ditched cable love', 'best streaming device market 3', 'great product love larger remote great deal', 'thing awesome watch regular cable going black friday christmas gift', 'love option fire tv stick work great', 'menu cumbersome get apps set', 'easy use', 'awesome', 'good shape', 'unhappy firestick every time change program channel within program long delay 2 roku work fine quick', 'return hulu work device kept coming error hulu app able open time hit miss time hulu stop working right middle show movie plus fire stick slow opening apps', 'love amazon stick', 'like able watch pretty much anything want anytime work great', 'love fire stick easy use', 'firestick sent work voice remote even turn troubleshooting step work contacted amazon sent u new one remote way control gave got roku work great', 'perfect cost effective solution thank amazon', 'firestick easy use enjoyed', 'wish dot could connect fire stick product still worked flawlessly', 'old amazon fire stick kept crashing using sling tv bought one thinking old one defective one thing going back sling start left program', 'ordered 2 deal day 1 work 2 nd went 2 day', 'love fire stick remote easy set use endless amount apps download used smart tv 100x better feature smart tv offer', 'great easy set little difficult navigate instruction non existent', 'super good', 'fun taking tv work good little confusing moving around program', 'turn television', 'loved easy install sry use simply amazing amazing bought two allowed u officially cut cable cord love', 'expected access current movie instead pay easy setup helpful love speedy delivery', 'work great recommend anyone prime wifi hdm1 tv u need really technologically savvy even able set included screen direction', 'need', 'love watch bob dylan movie', 'love alexa feature firestick working fine', 'easy install intuitive use happy purchase', 'ease use', 'like load hulu account also slow know internet connection xbox one work fine fire tv stick take forever load anything', 'amazing entertainment need', 'constantly buffering point watch anything without interruption purchased prime day plus used reward pay end paid next nothing paid full price might want money back stopped trying use went back old streaming device know internet service issue problem device stream', 'realize needed external power source order utilize fire stick thought along line flash drive device singley plugged tv however since using amazon fire stick enjoyed every moment would definitely recommend product', 'love', 'easy install operate work alexa voice command', 'prime day purchase still learning way around far good addition alexa nice', 'love alexa enabled say show want watch 34 34 know find', 'super easy set easy use lot app option available', 'first stick solid entry level device supposed', 'work fine wanted bedroom television', 'work tube tv', 'easy set easy use', 'love viewing choice fire stick', 'good product', '2nd fire tv stick alexa happy first one love use many apps big', 'love firestick kid love talk alexa get weather local news etc', 'offer hour entertainment easy install activate', 'amazon fire stick amazing', '2 one reset least week time twice', 'awesome product expected', 'like go sleep mode 20 30 minute inactivity wake fire tv finish watching show', 'availability movie nothing like', 'satisfied easy setup great product highly recommend', 'like better roku voice command really work', 'easy setup work flawlessly', 'easy hook wish knew capability', 'great purchase', 'easy set', 'easy use bedroom tv', 'used chromecast okay love firestick work great lag would recommend', '', 'bought fire stick another tv argument watch', 'liked day year longer worked would power go past firestick logo tv bought second one buy third one last longer', 'love fire stick alexa voice control fantastic younger kid', 'setup easy usage intuitive used away home work great', 'really love apps one spot', 'love number movie available using device took little time setup learn work thing miss local channel', 'love fire stick allows enough choice ditch cable', 'plenty option choose', 'worked charmed', 'love easy set well', 'love fast get respond alexa also easy find thing looking forjust speak remote', 'extremely easy use switched away directv use stream v', 'show nothing', 'work like charm', 'work great apps start buffering probably internet love alexa voice control', 'say picture quality better receiving cable tv downside pause movie couple minute take long time come back often get message internet speed slow clocking 300 mb house good day also voice command alexia work well could operator error 20 beat', 'loved everything', 'disappointed mandatory upgrade final got done upload lost local charlotte nc channel pur news weather also cbs nbc abc 2 day later amazon day discount ordered', 'second one house great tech oriented hold button talk watching tv much lol', 'love thing alexa feature make easy find want matter streaming service searching netflix amazon etc see either show alexa find', 'great product', 'love', 'feel voice feature useless lot channel stream though', 'garbage even trying watch amazon prime video piece garbage loos internet connection half way thru show cheapest roku work 100 time better waste time money piece garbage', 'loved', 'love fire stick alexa work well would recommend', 'getting started fire tv stick far good', 'easy set lot thing watch program even gotten far yet easy use highly recommended leaning closer cutting cable cord good', 'gift', 'second firestick pleased ease use', 'would recommend anyone load netflix rare occasion run program way thru tell unable process title time try later netflix site cause stream fine computer firestick disappointing', 'worth every cent', 'like thete nothing watch tv run firestick', 'access apps', 'easy install use', 'thank great product', 'purchased man cave loving', 'la pel culas tiene se pueden cambiar espa ol tulos en espa ol', 'easy install running minute', 'excited try new element tv unfortunately even though tv 5 foot away router get maddening disconnection buffering thought little device supposed take care issue', 'easy use favorite program inclusive nothing else buy', 'fun play', 'love everything', 'powerful little stick', 'superb say plugged unit set hdmi boom watching better tv thank', 'like tv big tablet', 'loved', 'pleased fire stick', 'work good ni issue', 'great price great product fire stick best think work better roku', 'love take vacation use easy set', 'user chromecast year say firestick nice upgrade really like download apps different medium source like hbo showtime etc free access cable account firestick get better picture go directly show want see downside time took download apps set good thing setup onetime procedure', 'currently 3 chromecast device tge fire stick superior pleased watch program netflix prime without smart phone computer easy install use', 'menu work say connect amazon network', 'would love remote wasnt spending much money replacing battery upsetting spent money great device battery last', 'purchased toy hauler came day left trip plane wonderful plug hotel tv watch normal tv show rather whatever showing time sit commercial', 'already firestick livingroom great entertainment get one bedroom', 'good option', 'purchased use road semi work application', 'great', 'love fire stick thank much', 'easy set enjoying added video choice television', 'installation connection wi fi easy getting amazon prime netflix going breeze used voice remote amazing yes old school reviewing feature option time excited product life great thing read heard', 'like product however set bit difficult reset factory setting abd start scratch', 'loved use voice make request use music movie', 'easy install excited use', 'far good work great', 'great device cutting cable watching channel want want add app like cbs pay little extra get', 'everything great love alexa voice remote', 'work like charm', '', 'thought pretty cool new streaming thing seemed easy use', 'super easy setup issue find occasionally loses connection household network', 'turned old tv smart tv really easy interface bought 4', 'easy set work perfect']\n"
          ]
        }
      ]
    },
    {
      "cell_type": "markdown",
      "source": [
        "**Vectorization**"
      ],
      "metadata": {
        "id": "-8e6CoFVgFT5"
      }
    },
    {
      "cell_type": "code",
      "source": [
        "from sklearn.feature_extraction.text import CountVectorizer"
      ],
      "metadata": {
        "id": "v-rIpPfXgEd5"
      },
      "execution_count": null,
      "outputs": []
    },
    {
      "cell_type": "code",
      "source": [
        "cv = CountVectorizer(max_features=1500)\n",
        "x_cv = cv.fit_transform(reviews).toarray()\n",
        "print(x_cv.shape)\n",
        "print(len(cv.get_feature_names_out()))"
      ],
      "metadata": {
        "colab": {
          "base_uri": "https://localhost:8080/"
        },
        "id": "SzSbgjv5gKDi",
        "outputId": "a7681616-f25c-4af0-fe56-0cd229faf201"
      },
      "execution_count": null,
      "outputs": [
        {
          "output_type": "stream",
          "name": "stdout",
          "text": [
            "(3150, 1500)\n",
            "1500\n"
          ]
        }
      ]
    },
    {
      "cell_type": "markdown",
      "source": [
        "**Splitting The Data**"
      ],
      "metadata": {
        "id": "vtAy7UtVerJH"
      }
    },
    {
      "cell_type": "code",
      "source": [
        "from sklearn.model_selection import train_test_split"
      ],
      "metadata": {
        "id": "ZfzyfX7qfLhL"
      },
      "execution_count": null,
      "outputs": []
    },
    {
      "cell_type": "code",
      "source": [
        "print(0.25*3150)"
      ],
      "metadata": {
        "id": "nw7TboB2TPVB",
        "colab": {
          "base_uri": "https://localhost:8080/"
        },
        "outputId": "6c8f711d-bff3-44a7-a8a5-00121ca3564b"
      },
      "execution_count": null,
      "outputs": [
        {
          "output_type": "stream",
          "name": "stdout",
          "text": [
            "787.5\n"
          ]
        }
      ]
    },
    {
      "cell_type": "code",
      "source": [
        "X = df.drop('feedback', axis = 1)\n",
        "y = df['feedback'].astype('int')             #Dependent Variable feedback\n",
        "\n",
        "from sklearn.model_selection import train_test_split \n",
        "\n",
        "X_train, X_test, y_train, y_test = train_test_split(X, y, train_size = 0.75, random_state=42)"
      ],
      "metadata": {
        "id": "D1ap23d7kRmW"
      },
      "execution_count": null,
      "outputs": []
    },
    {
      "cell_type": "code",
      "source": [
        "x_train,x_test,y_train,y_test = train_test_split(x_cv,y,test_size=0.25,random_state=42)\n",
        "print(x_train.shape)\n",
        "print(x_test.shape)\n",
        "print(y_train.shape)\n",
        "print(y_test.shape)"
      ],
      "metadata": {
        "colab": {
          "base_uri": "https://localhost:8080/"
        },
        "id": "N7T7p_83eZVN",
        "outputId": "a933aaf6-4d43-4993-acfe-3ab298006a18"
      },
      "execution_count": null,
      "outputs": [
        {
          "output_type": "stream",
          "name": "stdout",
          "text": [
            "(2362, 1500)\n",
            "(788, 1500)\n",
            "(2362,)\n",
            "(788,)\n"
          ]
        }
      ]
    },
    {
      "cell_type": "markdown",
      "source": [
        "**Building The ML Model**\n",
        "\n",
        "\n",
        "**1.Multinomial Naive bayes Classification** \n",
        "\n"
      ],
      "metadata": {
        "id": "zBODEVezeuou"
      }
    },
    {
      "cell_type": "code",
      "source": [
        "from sklearn.naive_bayes import MultinomialNB"
      ],
      "metadata": {
        "id": "g0TJLx_UezX2"
      },
      "execution_count": null,
      "outputs": []
    },
    {
      "cell_type": "code",
      "source": [
        "mnb = MultinomialNB()\n",
        "mnb.fit(x_train,y_train)"
      ],
      "metadata": {
        "colab": {
          "base_uri": "https://localhost:8080/"
        },
        "id": "izhxF5Dee5lL",
        "outputId": "6680bfea-51fd-4ce0-ed50-ca88fc4ff2c9"
      },
      "execution_count": null,
      "outputs": [
        {
          "output_type": "execute_result",
          "data": {
            "text/plain": [
              "MultinomialNB()"
            ]
          },
          "metadata": {},
          "execution_count": 38
        }
      ]
    },
    {
      "cell_type": "code",
      "source": [
        "from sklearn.metrics import confusion_matrix,classification_report,accuracy_score"
      ],
      "metadata": {
        "id": "VG0GQ4jhfAAX"
      },
      "execution_count": null,
      "outputs": []
    },
    {
      "cell_type": "code",
      "source": [
        "def eval_model(ytest,ypred):\n",
        "    cm = confusion_matrix(ytest,ypred)\n",
        "    print(cm)\n",
        "    print('Accuracy Score',accuracy_score(ytest,ypred))\n",
        "    print(classification_report(ytest,ypred))\n",
        "    \n",
        "def mscore(model):\n",
        "    print('Training Score',model.score(x_train,y_train))\n",
        "    print('Testing Score',model.score(x_test,y_test))"
      ],
      "metadata": {
        "id": "9KCoCOBpfC6r"
      },
      "execution_count": null,
      "outputs": []
    },
    {
      "cell_type": "code",
      "source": [
        "ypred_mnb = mnb.predict(x_test)"
      ],
      "metadata": {
        "id": "Oled77NBfFFm"
      },
      "execution_count": null,
      "outputs": []
    },
    {
      "cell_type": "code",
      "source": [
        "mscore(mnb)"
      ],
      "metadata": {
        "colab": {
          "base_uri": "https://localhost:8080/"
        },
        "id": "gmu9FDp0fHG5",
        "outputId": "4be8180a-023c-4d74-a17f-824e731ec6ab"
      },
      "execution_count": null,
      "outputs": [
        {
          "output_type": "stream",
          "name": "stdout",
          "text": [
            "Training Score 0.9597798475867908\n",
            "Testing Score 0.934010152284264\n"
          ]
        }
      ]
    },
    {
      "cell_type": "code",
      "source": [
        "eval_model(y_test,ypred_mnb)"
      ],
      "metadata": {
        "colab": {
          "base_uri": "https://localhost:8080/"
        },
        "id": "crQbohC1fKbJ",
        "outputId": "6a5aa589-67a4-4bed-e8e2-6d1b7d005044"
      },
      "execution_count": null,
      "outputs": [
        {
          "output_type": "stream",
          "name": "stdout",
          "text": [
            "[[ 34  39]\n",
            " [ 13 702]]\n",
            "Accuracy Score 0.934010152284264\n",
            "              precision    recall  f1-score   support\n",
            "\n",
            "           0       0.72      0.47      0.57        73\n",
            "           1       0.95      0.98      0.96       715\n",
            "\n",
            "    accuracy                           0.93       788\n",
            "   macro avg       0.84      0.72      0.77       788\n",
            "weighted avg       0.93      0.93      0.93       788\n",
            "\n"
          ]
        }
      ]
    },
    {
      "cell_type": "markdown",
      "source": [
        "**2.Logistic Regression**"
      ],
      "metadata": {
        "id": "hbPiQSysgBT3"
      }
    },
    {
      "cell_type": "code",
      "source": [
        "X = df.drop('feedback', axis = 1)\n",
        "y = df['feedback'].astype('int')             #Dependent Variable feedback\n",
        "\n",
        "from sklearn.model_selection import train_test_split \n",
        "\n",
        "X_train, X_test, y_train, y_test = train_test_split(X, y, train_size = 0.75, random_state=42)"
      ],
      "metadata": {
        "id": "E1hyH69PQryo"
      },
      "execution_count": null,
      "outputs": []
    },
    {
      "cell_type": "code",
      "source": [
        "x_train,x_test,y_train,y_test = train_test_split(x_cv,y,test_size=0.25,random_state=42)\n",
        "print(x_train.shape)\n",
        "print(x_test.shape)\n",
        "print(y_train.shape)\n",
        "print(y_test.shape)"
      ],
      "metadata": {
        "colab": {
          "base_uri": "https://localhost:8080/"
        },
        "id": "6dQgmk2WQwYs",
        "outputId": "56aa3fa2-41f9-4d21-deb9-72e1a487f1a3"
      },
      "execution_count": null,
      "outputs": [
        {
          "output_type": "stream",
          "name": "stdout",
          "text": [
            "(2362, 1500)\n",
            "(788, 1500)\n",
            "(2362,)\n",
            "(788,)\n"
          ]
        }
      ]
    },
    {
      "cell_type": "code",
      "source": [
        "from sklearn.metrics import confusion_matrix,classification_report,accuracy_score"
      ],
      "metadata": {
        "id": "Mnj822uPSWJQ"
      },
      "execution_count": null,
      "outputs": []
    },
    {
      "cell_type": "code",
      "source": [
        "def eval_model(ytest,ypred):\n",
        "  cm = confusion_matrix(ytest,ypred)\n",
        "  print(cm)\n",
        "  print(classification_report(ytest,ypred))\n"
      ],
      "metadata": {
        "id": "2ByDwxpRSYlS"
      },
      "execution_count": null,
      "outputs": []
    },
    {
      "cell_type": "code",
      "source": [
        "from sklearn.linear_model import LogisticRegression"
      ],
      "metadata": {
        "id": "vkaQLtJXSe7Q"
      },
      "execution_count": null,
      "outputs": []
    },
    {
      "cell_type": "code",
      "source": [
        "m1=LogisticRegression()\n",
        "m1.fit(x_train,y_train)"
      ],
      "metadata": {
        "colab": {
          "base_uri": "https://localhost:8080/"
        },
        "id": "x5B9LoDVSg-R",
        "outputId": "6e34331c-9ddb-463e-8d28-10d90c18695a"
      },
      "execution_count": null,
      "outputs": [
        {
          "output_type": "execute_result",
          "data": {
            "text/plain": [
              "LogisticRegression()"
            ]
          },
          "metadata": {},
          "execution_count": 49
        }
      ]
    },
    {
      "cell_type": "code",
      "source": [
        "print('Training score',m1.score(x_train,y_train))\n",
        "print('Testing score',m1.score(x_test,y_test))"
      ],
      "metadata": {
        "colab": {
          "base_uri": "https://localhost:8080/"
        },
        "id": "O6PKUuYrSqLz",
        "outputId": "502f0cbb-7a03-4538-8c03-cdbaf5f101d3"
      },
      "execution_count": null,
      "outputs": [
        {
          "output_type": "stream",
          "name": "stdout",
          "text": [
            "Training score 0.9805249788314987\n",
            "Testing score 0.9378172588832487\n"
          ]
        }
      ]
    },
    {
      "cell_type": "code",
      "source": [
        "ypred_m1 = m1.predict(x_test)\n",
        "print(ypred_m1)"
      ],
      "metadata": {
        "colab": {
          "base_uri": "https://localhost:8080/"
        },
        "id": "UMbJ-K5kSuWq",
        "outputId": "5458502b-78c1-4b15-fdaf-2dc3454abec8"
      },
      "execution_count": null,
      "outputs": [
        {
          "output_type": "stream",
          "name": "stdout",
          "text": [
            "[1 1 1 0 1 1 1 1 1 1 1 0 1 1 1 1 1 1 1 1 1 0 1 1 1 1 1 1 1 1 1 1 1 1 1 1 1\n",
            " 1 1 1 1 0 1 1 1 1 1 1 1 1 1 0 0 1 1 1 0 1 1 1 1 1 1 1 1 1 1 1 1 1 1 1 1 1\n",
            " 1 1 0 1 1 1 1 1 1 1 1 1 1 1 1 1 1 1 1 1 1 1 1 1 1 1 1 1 1 1 1 1 1 1 1 1 1\n",
            " 1 1 1 1 1 1 1 1 1 1 1 1 1 1 1 1 1 1 1 1 1 1 1 1 1 1 1 1 1 1 1 1 1 1 1 1 1\n",
            " 1 1 1 1 0 1 1 1 1 1 0 1 1 1 1 0 1 1 1 1 1 1 1 1 1 1 1 1 1 1 1 1 1 1 1 1 1\n",
            " 0 1 1 1 1 1 1 1 1 1 1 1 1 1 1 1 1 1 1 1 1 0 1 1 1 1 1 1 1 1 1 1 1 1 1 1 1\n",
            " 1 1 1 0 1 1 1 1 1 1 1 1 1 1 1 1 1 1 1 1 1 1 1 1 1 1 1 1 1 1 1 1 1 1 1 1 1\n",
            " 1 1 1 1 1 1 1 1 1 1 1 0 1 1 1 1 1 1 1 1 1 1 1 1 1 1 1 1 1 1 1 1 1 1 1 1 1\n",
            " 1 0 1 1 1 1 1 1 1 1 1 0 1 1 1 1 1 1 1 1 1 1 1 1 1 1 1 1 1 1 1 1 1 1 1 1 1\n",
            " 1 1 1 1 1 1 0 1 1 1 1 1 1 1 1 1 1 1 1 1 1 1 1 1 1 1 1 1 1 1 1 1 1 1 1 1 1\n",
            " 1 1 1 1 1 1 1 0 1 1 1 1 1 1 1 0 1 1 1 1 1 1 1 1 1 1 1 0 1 1 1 1 1 1 1 1 1\n",
            " 1 1 1 1 1 1 1 1 1 1 1 1 1 1 1 0 1 1 1 1 1 1 1 0 1 1 1 1 1 1 1 1 1 1 1 1 1\n",
            " 0 1 1 1 0 0 1 1 1 1 1 1 1 1 1 0 1 1 1 1 1 1 1 1 1 1 1 1 1 1 1 1 1 1 1 1 1\n",
            " 1 1 1 1 1 1 1 1 1 1 1 1 1 1 1 1 1 1 1 1 1 1 1 1 1 1 1 1 1 0 1 1 1 1 1 1 1\n",
            " 1 1 1 1 1 1 1 1 1 1 1 1 1 1 1 1 1 1 1 1 1 1 1 1 1 1 1 1 1 1 1 1 1 1 1 1 1\n",
            " 1 1 1 1 1 1 1 1 1 1 1 1 0 1 1 1 1 1 1 1 1 1 1 1 1 1 1 1 1 1 1 1 1 1 1 1 1\n",
            " 1 1 1 1 1 1 1 1 1 1 0 1 1 1 1 1 1 1 1 1 1 1 0 1 1 1 1 1 1 1 1 1 1 1 1 1 1\n",
            " 1 1 1 1 1 1 1 1 1 1 1 1 1 1 1 1 1 1 1 0 1 1 1 1 0 1 1 1 1 1 1 1 0 1 1 1 1\n",
            " 1 1 1 1 1 1 1 1 1 1 1 1 1 1 1 1 1 1 1 1 1 1 1 1 1 1 1 1 1 1 1 1 1 1 1 1 1\n",
            " 1 1 1 1 1 1 1 1 1 1 0 1 1 1 1 1 1 1 1 1 1 1 1 1 1 1 1 1 1 1 1 1 1 1 1 1 1\n",
            " 1 1 1 0 1 1 1 1 1 1 1 1 1 1 1 1 1 1 1 1 1 1 1 1 1 1 1 0 1 1 1 1 1 1 1 1 1\n",
            " 1 1 1 0 1 1 1 1 1 1 1]\n"
          ]
        }
      ]
    },
    {
      "cell_type": "code",
      "source": [
        "eval_model(y_test, ypred_m1)"
      ],
      "metadata": {
        "colab": {
          "base_uri": "https://localhost:8080/"
        },
        "id": "zs2gXwzYSywz",
        "outputId": "fa443f82-afb1-4fcb-8ff6-21df58925a7e"
      },
      "execution_count": null,
      "outputs": [
        {
          "output_type": "stream",
          "name": "stdout",
          "text": [
            "[[ 31  42]\n",
            " [  7 708]]\n",
            "              precision    recall  f1-score   support\n",
            "\n",
            "           0       0.82      0.42      0.56        73\n",
            "           1       0.94      0.99      0.97       715\n",
            "\n",
            "    accuracy                           0.94       788\n",
            "   macro avg       0.88      0.71      0.76       788\n",
            "weighted avg       0.93      0.94      0.93       788\n",
            "\n"
          ]
        }
      ]
    },
    {
      "cell_type": "markdown",
      "source": [
        "**3.Using KNN Classification**"
      ],
      "metadata": {
        "id": "zJ522ncsS7o7"
      }
    },
    {
      "cell_type": "code",
      "source": [
        "from sklearn.neighbors import KNeighborsClassifier"
      ],
      "metadata": {
        "id": "pFAvZsnqTCAt"
      },
      "execution_count": null,
      "outputs": []
    },
    {
      "cell_type": "code",
      "source": [
        "knn = KNeighborsClassifier(n_neighbors=11)\n",
        "knn.fit(x_train,y_train)"
      ],
      "metadata": {
        "colab": {
          "base_uri": "https://localhost:8080/"
        },
        "id": "dh9rnl-dTcYP",
        "outputId": "e0e7d7da-993c-4a1e-e5fc-169fa8b03409"
      },
      "execution_count": null,
      "outputs": [
        {
          "output_type": "execute_result",
          "data": {
            "text/plain": [
              "KNeighborsClassifier(n_neighbors=11)"
            ]
          },
          "metadata": {},
          "execution_count": 54
        }
      ]
    },
    {
      "cell_type": "code",
      "source": [
        "print('Training Score',knn.score(x_train,y_train))\n",
        "print('Testing Score',knn.score(x_test,y_test))"
      ],
      "metadata": {
        "colab": {
          "base_uri": "https://localhost:8080/"
        },
        "id": "6jvGDJUvTlVh",
        "outputId": "26a80fe5-e82d-42ee-9b5e-8082e41814d1"
      },
      "execution_count": null,
      "outputs": [
        {
          "output_type": "stream",
          "name": "stdout",
          "text": [
            "Training Score 0.9225232853513972\n",
            "Testing Score 0.9086294416243654\n"
          ]
        }
      ]
    },
    {
      "cell_type": "code",
      "source": [
        "ypred_knn = knn.predict(x_test)\n",
        "print(ypred_knn)"
      ],
      "metadata": {
        "colab": {
          "base_uri": "https://localhost:8080/"
        },
        "id": "cYrPHp3pTsE5",
        "outputId": "a2be722a-0a70-4064-9da6-a39cfddcc82a"
      },
      "execution_count": null,
      "outputs": [
        {
          "output_type": "stream",
          "name": "stdout",
          "text": [
            "[1 1 1 1 1 1 1 1 1 1 1 1 1 1 1 1 1 1 1 1 1 1 1 1 1 1 1 1 1 1 1 1 1 1 1 1 1\n",
            " 1 1 1 1 1 1 1 1 1 1 1 1 1 1 1 1 1 1 1 1 1 1 1 1 1 1 1 1 1 1 1 1 1 1 1 1 1\n",
            " 1 1 1 1 1 1 1 1 1 1 1 1 1 1 1 1 1 1 1 1 1 1 1 1 1 1 1 1 1 1 1 1 1 1 1 1 1\n",
            " 1 1 1 1 1 1 1 1 1 1 1 1 1 1 1 1 1 1 1 1 1 1 1 1 1 1 1 1 1 1 1 1 1 1 1 1 1\n",
            " 1 1 1 1 1 1 1 1 1 1 1 1 1 1 1 1 1 1 1 1 1 1 1 1 1 1 1 1 1 1 1 1 1 1 1 1 1\n",
            " 1 1 1 1 1 1 1 1 1 1 1 1 1 1 1 1 1 1 1 1 1 1 1 1 1 1 1 1 1 1 1 1 1 1 1 1 1\n",
            " 1 1 1 1 1 1 1 1 0 1 1 1 1 1 1 1 1 1 1 1 1 1 1 1 1 1 1 1 1 1 1 1 1 1 1 1 1\n",
            " 1 1 1 1 1 1 1 1 1 1 1 1 1 1 1 1 1 1 1 1 1 1 1 1 1 1 1 1 1 1 1 1 1 1 1 1 1\n",
            " 1 1 1 1 1 1 1 1 1 1 1 1 1 1 1 1 1 1 1 1 1 1 1 1 1 1 1 1 1 1 1 1 1 1 1 1 1\n",
            " 1 1 1 1 1 1 1 1 1 1 1 1 1 1 1 1 1 1 1 1 1 1 1 1 1 1 1 1 1 1 1 1 1 1 1 1 1\n",
            " 1 1 1 1 1 1 1 1 1 1 1 1 1 1 1 1 1 1 1 1 1 1 1 1 1 1 1 1 1 1 1 1 1 1 1 1 1\n",
            " 1 1 1 1 1 1 1 1 1 1 1 1 1 1 1 1 1 1 1 1 1 1 1 1 1 1 1 1 1 1 1 1 1 1 1 1 1\n",
            " 1 1 1 1 1 1 1 1 1 1 1 1 1 1 1 1 1 1 1 1 1 1 1 1 1 1 1 1 1 1 1 1 1 1 1 1 1\n",
            " 1 1 1 1 1 1 1 1 1 1 1 1 1 1 1 1 1 1 1 1 1 1 1 1 1 1 1 1 1 1 1 1 1 1 1 1 1\n",
            " 1 1 1 1 1 1 1 1 1 1 1 1 1 1 1 1 1 1 1 1 1 1 1 1 1 1 1 1 1 1 1 1 1 1 1 1 1\n",
            " 1 1 1 1 1 1 1 1 1 1 1 1 1 1 1 1 1 1 1 1 1 1 1 1 1 1 1 1 1 1 1 1 1 1 1 1 1\n",
            " 1 1 1 1 1 1 1 1 1 1 1 1 1 1 1 1 1 1 1 1 1 1 1 1 1 1 1 1 1 1 1 1 1 1 1 1 1\n",
            " 1 1 1 1 1 1 1 1 1 1 1 1 1 1 1 1 1 1 1 1 1 1 1 1 1 1 1 1 1 1 1 1 1 1 1 1 1\n",
            " 1 1 1 1 1 1 1 1 1 1 1 1 1 1 1 1 1 1 1 1 1 1 1 1 1 1 1 1 1 1 1 1 1 1 1 1 1\n",
            " 1 1 1 1 1 1 1 1 1 1 1 1 1 1 1 1 1 1 1 1 1 1 1 1 1 1 1 1 1 1 1 1 1 1 1 1 1\n",
            " 1 1 1 1 1 1 1 1 1 1 1 1 1 1 1 1 1 1 1 1 1 1 1 1 1 1 1 1 1 1 1 1 1 1 1 1 1\n",
            " 1 1 1 1 1 1 1 1 1 1 1]\n"
          ]
        }
      ]
    },
    {
      "cell_type": "code",
      "source": [
        "cm = confusion_matrix(y_test,ypred_knn)\n",
        "print(cm)\n",
        "print(classification_report(y_test,ypred_knn))\n"
      ],
      "metadata": {
        "colab": {
          "base_uri": "https://localhost:8080/"
        },
        "id": "UA32GaePTvDp",
        "outputId": "86ad825b-fc00-4d9c-b6fd-c458810f01e2"
      },
      "execution_count": null,
      "outputs": [
        {
          "output_type": "stream",
          "name": "stdout",
          "text": [
            "[[  1  72]\n",
            " [  0 715]]\n",
            "              precision    recall  f1-score   support\n",
            "\n",
            "           0       1.00      0.01      0.03        73\n",
            "           1       0.91      1.00      0.95       715\n",
            "\n",
            "    accuracy                           0.91       788\n",
            "   macro avg       0.95      0.51      0.49       788\n",
            "weighted avg       0.92      0.91      0.87       788\n",
            "\n"
          ]
        }
      ]
    },
    {
      "cell_type": "markdown",
      "source": [
        "**From The Above Models Logistic Regression Has The More Accuracy of 94 percent Than Other Models**"
      ],
      "metadata": {
        "id": "CBihUxesVMbE"
      }
    },
    {
      "cell_type": "markdown",
      "source": [
        "**Predicted Feedback for the test data is 95 percent gives the positive feedback**"
      ],
      "metadata": {
        "id": "tPiDqBNlxfUD"
      }
    }
  ]
}